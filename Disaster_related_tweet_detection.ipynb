{
  "nbformat": 4,
  "nbformat_minor": 0,
  "metadata": {
    "colab": {
      "name": "Disaster related tweet detection",
      "provenance": [],
      "collapsed_sections": [],
      "toc_visible": true,
      "authorship_tag": "ABX9TyPhBXJg+8gixR5HSz1P/m3z",
      "include_colab_link": true
    },
    "kernelspec": {
      "name": "python3",
      "display_name": "Python 3"
    }
  },
  "cells": [
    {
      "cell_type": "markdown",
      "metadata": {
        "id": "view-in-github",
        "colab_type": "text"
      },
      "source": [
        "<a href=\"https://colab.research.google.com/github/Godiya-PT/Disater_related_Tweet_Detection/blob/main/Disaster_related_tweet_detection.ipynb\" target=\"_parent\"><img src=\"https://colab.research.google.com/assets/colab-badge.svg\" alt=\"Open In Colab\"/></a>"
      ]
    },
    {
      "cell_type": "code",
      "metadata": {
        "id": "Y5Z4nRSLOp-J"
      },
      "source": [
        "#Code for Disater related tweets prediction"
      ],
      "execution_count": null,
      "outputs": []
    },
    {
      "cell_type": "markdown",
      "metadata": {
        "id": "kMTYOc0KW82e"
      },
      "source": [
        "trial for Disaster related tweet prediction"
      ]
    },
    {
      "cell_type": "markdown",
      "metadata": {
        "id": "vQgLvO_ygXGl"
      },
      "source": [
        "Import libraries"
      ]
    },
    {
      "cell_type": "code",
      "metadata": {
        "id": "j4GFRg1CgYH6"
      },
      "source": [
        "# !pip install tensorflow_datasets\n",
        "# !pip install NLP-python\n",
        "import pandas as pd\n",
        "import numpy as np\n",
        "import matplotlib.pyplot as plt\n",
        "import plotly.express as px\n",
        "#from mpl_toolkits import mplot3d\n",
        "# import spacy\n",
        "# import re\n",
        "# import nltk\n",
        "# import seaborn as sns\n",
        "\n",
        "# import tensorflow as tf\n",
        "# import tensorflow_datasets as tfds\n",
        "# from tensorflow import keras\n",
        "# from sklearn.model_selection import StratifiedShuffleSplit\n",
        "# from sklearn.preprocessing import LabelEncoder\n",
        "# from collections import defaultdict\n",
        "# from collections import Counter\n",
        "\n",
        "# from sklearn.feature_extraction.text import TfidfVectorizer\n",
        "# from sklearn.feature_extraction.text import CountVectorizer\n",
        "# from sklearn import model_selection, naive_bayes\n",
        "# from sklearn.metrics import accuracy_score\n",
        "# from sklearn.model_selection import GridSearchCV\n",
        "# from sklearn.model_selection import RandomizedSearchCV\n",
        "# from sklearn.decomposition import TruncatedSVD\n",
        "# from sklearn.preprocessing import MaxAbsScaler\n",
        "# from scipy import stats\n",
        "# from sklearn.metrics import make_scorer, roc_auc_score\n",
        "# from scipy.linalg import svd\n",
        "# from numpy import diag\n",
        "# from scipy.sparse import csr_matrix\n",
        "\n",
        "# from numpy import zeros\n",
        "# from sklearn import svm\n",
        "\n",
        "# #from nlp_functions import *"
      ],
      "execution_count": 2,
      "outputs": []
    },
    {
      "cell_type": "markdown",
      "metadata": {
        "id": "l666gySBHDtp"
      },
      "source": [
        "Import dataset"
      ]
    },
    {
      "cell_type": "code",
      "metadata": {
        "id": "f0uKtqt4HJQZ",
        "outputId": "31d66640-6cde-47fd-b870-a93e6de15e9e",
        "colab": {
          "base_uri": "https://localhost:8080/"
        }
      },
      "source": [
        "ds_train=pd.read_csv(\"/train.csv\")\n",
        "ds_test=pd.read_csv(\"/test.csv\")\n",
        "print(\"Train and Test data sets are imported successfully\")"
      ],
      "execution_count": 6,
      "outputs": [
        {
          "output_type": "stream",
          "text": [
            "Train and Test data sets are imported successfully\n"
          ],
          "name": "stdout"
        }
      ]
    },
    {
      "cell_type": "markdown",
      "metadata": {
        "id": "uyZz256BNbrt"
      },
      "source": [
        "Checking number of records in train data set and few records from train data set"
      ]
    },
    {
      "cell_type": "code",
      "metadata": {
        "id": "R4tO7Hw4Nc6g",
        "outputId": "a2f54442-77ac-4f03-9164-be2d02cab97c",
        "colab": {
          "base_uri": "https://localhost:8080/",
          "height": 221
        }
      },
      "source": [
        "print(\"Number of records in Train data set\",len(ds_train.index))\n",
        "ds_train.head()"
      ],
      "execution_count": 12,
      "outputs": [
        {
          "output_type": "stream",
          "text": [
            "Number of records in Train data set 7613\n"
          ],
          "name": "stdout"
        },
        {
          "output_type": "execute_result",
          "data": {
            "text/html": [
              "<div>\n",
              "<style scoped>\n",
              "    .dataframe tbody tr th:only-of-type {\n",
              "        vertical-align: middle;\n",
              "    }\n",
              "\n",
              "    .dataframe tbody tr th {\n",
              "        vertical-align: top;\n",
              "    }\n",
              "\n",
              "    .dataframe thead th {\n",
              "        text-align: right;\n",
              "    }\n",
              "</style>\n",
              "<table border=\"1\" class=\"dataframe\">\n",
              "  <thead>\n",
              "    <tr style=\"text-align: right;\">\n",
              "      <th></th>\n",
              "      <th>id</th>\n",
              "      <th>keyword</th>\n",
              "      <th>location</th>\n",
              "      <th>text</th>\n",
              "      <th>target</th>\n",
              "    </tr>\n",
              "  </thead>\n",
              "  <tbody>\n",
              "    <tr>\n",
              "      <th>0</th>\n",
              "      <td>1</td>\n",
              "      <td>NaN</td>\n",
              "      <td>NaN</td>\n",
              "      <td>Our Deeds are the Reason of this #earthquake M...</td>\n",
              "      <td>1</td>\n",
              "    </tr>\n",
              "    <tr>\n",
              "      <th>1</th>\n",
              "      <td>4</td>\n",
              "      <td>NaN</td>\n",
              "      <td>NaN</td>\n",
              "      <td>Forest fire near La Ronge Sask. Canada</td>\n",
              "      <td>1</td>\n",
              "    </tr>\n",
              "    <tr>\n",
              "      <th>2</th>\n",
              "      <td>5</td>\n",
              "      <td>NaN</td>\n",
              "      <td>NaN</td>\n",
              "      <td>All residents asked to 'shelter in place' are ...</td>\n",
              "      <td>1</td>\n",
              "    </tr>\n",
              "    <tr>\n",
              "      <th>3</th>\n",
              "      <td>6</td>\n",
              "      <td>NaN</td>\n",
              "      <td>NaN</td>\n",
              "      <td>13,000 people receive #wildfires evacuation or...</td>\n",
              "      <td>1</td>\n",
              "    </tr>\n",
              "    <tr>\n",
              "      <th>4</th>\n",
              "      <td>7</td>\n",
              "      <td>NaN</td>\n",
              "      <td>NaN</td>\n",
              "      <td>Just got sent this photo from Ruby #Alaska as ...</td>\n",
              "      <td>1</td>\n",
              "    </tr>\n",
              "  </tbody>\n",
              "</table>\n",
              "</div>"
            ],
            "text/plain": [
              "   id keyword  ...                                               text target\n",
              "0   1     NaN  ...  Our Deeds are the Reason of this #earthquake M...      1\n",
              "1   4     NaN  ...             Forest fire near La Ronge Sask. Canada      1\n",
              "2   5     NaN  ...  All residents asked to 'shelter in place' are ...      1\n",
              "3   6     NaN  ...  13,000 people receive #wildfires evacuation or...      1\n",
              "4   7     NaN  ...  Just got sent this photo from Ruby #Alaska as ...      1\n",
              "\n",
              "[5 rows x 5 columns]"
            ]
          },
          "metadata": {
            "tags": []
          },
          "execution_count": 12
        }
      ]
    },
    {
      "cell_type": "markdown",
      "metadata": {
        "id": "h4wQ0mIHNv-o"
      },
      "source": [
        "Distinct keywords in train dataset"
      ]
    },
    {
      "cell_type": "code",
      "metadata": {
        "id": "CRVNDB8VNwrJ",
        "outputId": "d7a1268a-fe35-45c1-b877-7d68c4498e6c",
        "colab": {
          "base_uri": "https://localhost:8080/"
        }
      },
      "source": [
        "#Distinct keywords in train dataset\n",
        "dist_keyword=ds_train['keyword'].value_counts()\n",
        "print(dist_keyword)"
      ],
      "execution_count": 14,
      "outputs": [
        {
          "output_type": "stream",
          "text": [
            "fatalities               45\n",
            "armageddon               42\n",
            "deluge                   42\n",
            "sinking                  41\n",
            "damage                   41\n",
            "                         ..\n",
            "forest%20fire            19\n",
            "epicentre                12\n",
            "threat                   11\n",
            "inundation               10\n",
            "radiation%20emergency     9\n",
            "Name: keyword, Length: 221, dtype: int64\n"
          ],
          "name": "stdout"
        }
      ]
    },
    {
      "cell_type": "markdown",
      "metadata": {
        "id": "FDhlEBebOLd1"
      },
      "source": [
        "Visualize the keywords"
      ]
    },
    {
      "cell_type": "markdown",
      "metadata": {
        "id": "VhkNNi9GOGrB"
      },
      "source": [
        ""
      ]
    },
    {
      "cell_type": "code",
      "metadata": {
        "id": "RwlYMl2VOWgm",
        "outputId": "c8057d37-f85d-4f00-faff-f16773959bfe",
        "colab": {
          "base_uri": "https://localhost:8080/",
          "height": 542
        }
      },
      "source": [
        "\n",
        "fig = px.scatter(dist_keyword, x=dist_keyword.values, y=dist_keyword.index,size=dist_keyword.values)\n",
        "fig.show()"
      ],
      "execution_count": 26,
      "outputs": [
        {
          "output_type": "display_data",
          "data": {
            "text/html": [
              "<html>\n",
              "<head><meta charset=\"utf-8\" /></head>\n",
              "<body>\n",
              "    <div>\n",
              "            <script src=\"https://cdnjs.cloudflare.com/ajax/libs/mathjax/2.7.5/MathJax.js?config=TeX-AMS-MML_SVG\"></script><script type=\"text/javascript\">if (window.MathJax) {MathJax.Hub.Config({SVG: {font: \"STIX-Web\"}});}</script>\n",
              "                <script type=\"text/javascript\">window.PlotlyConfig = {MathJaxConfig: 'local'};</script>\n",
              "        <script src=\"https://cdn.plot.ly/plotly-latest.min.js\"></script>    \n",
              "            <div id=\"cfc60107-b564-4ee8-a89e-ed28ab0a25b2\" class=\"plotly-graph-div\" style=\"height:525px; width:100%;\"></div>\n",
              "            <script type=\"text/javascript\">\n",
              "                \n",
              "                    window.PLOTLYENV=window.PLOTLYENV || {};\n",
              "                    \n",
              "                if (document.getElementById(\"cfc60107-b564-4ee8-a89e-ed28ab0a25b2\")) {\n",
              "                    Plotly.newPlot(\n",
              "                        'cfc60107-b564-4ee8-a89e-ed28ab0a25b2',\n",
              "                        [{\"hoverlabel\": {\"namelength\": 0}, \"hovertemplate\": \"x=%{x}<br>y=%{y}<br>size=%{marker.size}\", \"legendgroup\": \"\", \"marker\": {\"color\": \"#636efa\", \"size\": [45, 42, 42, 41, 41, 41, 41, 40, 40, 40, 40, 40, 40, 40, 39, 39, 39, 39, 39, 39, 39, 39, 39, 39, 39, 39, 39, 39, 38, 38, 38, 38, 38, 38, 38, 38, 38, 38, 38, 38, 38, 38, 38, 38, 37, 37, 37, 37, 37, 37, 37, 37, 37, 37, 37, 37, 37, 37, 37, 37, 37, 37, 37, 36, 36, 36, 36, 36, 36, 36, 36, 36, 36, 36, 36, 36, 36, 36, 36, 36, 36, 36, 36, 35, 35, 35, 35, 35, 35, 35, 35, 35, 35, 35, 35, 35, 35, 35, 35, 35, 35, 35, 35, 35, 35, 35, 35, 35, 35, 35, 35, 35, 35, 35, 34, 34, 34, 34, 34, 34, 34, 34, 34, 34, 34, 34, 34, 34, 34, 34, 34, 34, 34, 34, 34, 34, 34, 34, 34, 34, 34, 34, 34, 34, 33, 33, 33, 33, 33, 33, 33, 33, 33, 33, 33, 33, 33, 33, 33, 33, 33, 33, 33, 33, 33, 33, 33, 33, 33, 33, 32, 32, 32, 32, 32, 32, 32, 32, 32, 32, 32, 32, 32, 32, 32, 31, 31, 31, 31, 31, 31, 31, 31, 31, 30, 30, 30, 30, 30, 30, 29, 29, 29, 29, 29, 29, 29, 29, 28, 28, 27, 27, 26, 25, 24, 22, 19, 12, 11, 10, 9], \"sizemode\": \"area\", \"sizeref\": 0.1125, \"symbol\": \"circle\"}, \"mode\": \"markers\", \"name\": \"\", \"showlegend\": false, \"type\": \"scatter\", \"x\": [45, 42, 42, 41, 41, 41, 41, 40, 40, 40, 40, 40, 40, 40, 39, 39, 39, 39, 39, 39, 39, 39, 39, 39, 39, 39, 39, 39, 38, 38, 38, 38, 38, 38, 38, 38, 38, 38, 38, 38, 38, 38, 38, 38, 37, 37, 37, 37, 37, 37, 37, 37, 37, 37, 37, 37, 37, 37, 37, 37, 37, 37, 37, 36, 36, 36, 36, 36, 36, 36, 36, 36, 36, 36, 36, 36, 36, 36, 36, 36, 36, 36, 36, 35, 35, 35, 35, 35, 35, 35, 35, 35, 35, 35, 35, 35, 35, 35, 35, 35, 35, 35, 35, 35, 35, 35, 35, 35, 35, 35, 35, 35, 35, 35, 34, 34, 34, 34, 34, 34, 34, 34, 34, 34, 34, 34, 34, 34, 34, 34, 34, 34, 34, 34, 34, 34, 34, 34, 34, 34, 34, 34, 34, 34, 33, 33, 33, 33, 33, 33, 33, 33, 33, 33, 33, 33, 33, 33, 33, 33, 33, 33, 33, 33, 33, 33, 33, 33, 33, 33, 32, 32, 32, 32, 32, 32, 32, 32, 32, 32, 32, 32, 32, 32, 32, 31, 31, 31, 31, 31, 31, 31, 31, 31, 30, 30, 30, 30, 30, 30, 29, 29, 29, 29, 29, 29, 29, 29, 28, 28, 27, 27, 26, 25, 24, 22, 19, 12, 11, 10, 9], \"xaxis\": \"x\", \"y\": [\"fatalities\", \"armageddon\", \"deluge\", \"sinking\", \"damage\", \"harm\", \"body%20bags\", \"windstorm\", \"collided\", \"fear\", \"twister\", \"outbreak\", \"evacuate\", \"siren\", \"whirlwind\", \"wreckage\", \"earthquake\", \"sunk\", \"hellfire\", \"famine\", \"sinkhole\", \"explosion\", \"collision\", \"weapon\", \"wrecked\", \"derailment\", \"flames\", \"weapons\", \"deaths\", \"bombed\", \"blaze\", \"fatal\", \"hurricane\", \"upheaval\", \"derailed\", \"injury\", \"ambulance\", \"explode\", \"oil%20spill\", \"flooding\", \"thunder\", \"typhoon\", \"drowned\", \"fire\", \"burning%20buildings\", \"fatality\", \"emergency\", \"debris\", \"mudslide\", \"police\", \"destroy\", \"wreck\", \"ruin\", \"panic\", \"hostages\", \"blizzard\", \"quarantined\", \"sandstorm\", \"pandemonium\", \"curfew\", \"wounded\", \"crush\", \"bioterror\", \"evacuation\", \"screaming\", \"refugees\", \"detonate\", \"nuclear%20reactor\", \"catastrophe\", \"ablaze\", \"death\", \"displaced\", \"danger\", \"floods\", \"attack\", \"desolation\", \"tragedy\", \"engulfed\", \"dust%20storm\", \"massacre\", \"cliff%20fall\", \"devastation\", \"evacuated\", \"inundated\", \"flood\", \"bridge%20collapse\", \"traumatised\", \"blood\", \"rescuers\", \"hijacker\", \"drought\", \"bleeding\", \"casualties\", \"hazardous\", \"tornado\", \"emergency%20plan\", \"rioting\", \"buildings%20burning\", \"structural%20failure\", \"screams\", \"storm\", \"derail\", \"suicide%20bomb\", \"razed\", \"rescued\", \"hail\", \"demolition\", \"bloody\", \"disaster\", \"collapsed\", \"airplane%20accident\", \"attacked\", \"injured\", \"accident\", \"army\", \"drowning\", \"screamed\", \"collapse\", \"nuclear%20disaster\", \"smoke\", \"lava\", \"destruction\", \"loud%20bang\", \"terrorism\", \"rainstorm\", \"quarantine\", \"bomb\", \"riot\", \"flattened\", \"military\", \"hazard\", \"tsunami\", \"blazing\", \"annihilated\", \"crashed\", \"collide\", \"heat%20wave\", \"aftershock\", \"natural%20disaster\", \"burning\", \"arsonist\", \"casualty\", \"electrocuted\", \"demolish\", \"landslide\", \"wildfire\", \"suicide%20bombing\", \"emergency%20services\", \"exploded\", \"violent%20storm\", \"body%20bag\", \"thunderstorm\", \"burned\", \"meltdown\", \"blown%20up\", \"survived\", \"blew%20up\", \"chemical%20emergency\", \"stretcher\", \"buildings%20on%20fire\", \"panicking\", \"hijack\", \"crash\", \"fire%20truck\", \"mass%20murder\", \"trouble\", \"injuries\", \"wounds\", \"lightning\", \"body%20bagging\", \"mass%20murderer\", \"forest%20fires\", \"trapped\", \"hijacking\", \"arson\", \"blight\", \"cyclone\", \"survive\", \"apocalypse\", \"destroyed\", \"electrocute\", \"hailstorm\", \"detonation\", \"eyewitness\", \"drown\", \"obliterate\", \"crushed\", \"wild%20fires\", \"terrorist\", \"devastated\", \"hostage\", \"suicide%20bomber\", \"obliterated\", \"trauma\", \"bioterrorism\", \"catastrophic\", \"survivors\", \"avalanche\", \"mayhem\", \"dead\", \"seismic\", \"snowstorm\", \"bombing\", \"sirens\", \"annihilation\", \"obliteration\", \"desolate\", \"first%20responders\", \"rubble\", \"demolished\", \"deluged\", \"volcano\", \"battle\", \"bush%20fires\", \"war%20zone\", \"rescue\", \"forest%20fire\", \"epicentre\", \"threat\", \"inundation\", \"radiation%20emergency\"], \"yaxis\": \"y\"}],\n",
              "                        {\"legend\": {\"itemsizing\": \"constant\", \"tracegroupgap\": 0}, \"margin\": {\"t\": 60}, \"template\": {\"data\": {\"bar\": [{\"error_x\": {\"color\": \"#2a3f5f\"}, \"error_y\": {\"color\": \"#2a3f5f\"}, \"marker\": {\"line\": {\"color\": \"#E5ECF6\", \"width\": 0.5}}, \"type\": \"bar\"}], \"barpolar\": [{\"marker\": {\"line\": {\"color\": \"#E5ECF6\", \"width\": 0.5}}, \"type\": \"barpolar\"}], \"carpet\": [{\"aaxis\": {\"endlinecolor\": \"#2a3f5f\", \"gridcolor\": \"white\", \"linecolor\": \"white\", \"minorgridcolor\": \"white\", \"startlinecolor\": \"#2a3f5f\"}, \"baxis\": {\"endlinecolor\": \"#2a3f5f\", \"gridcolor\": \"white\", \"linecolor\": \"white\", \"minorgridcolor\": \"white\", \"startlinecolor\": \"#2a3f5f\"}, \"type\": \"carpet\"}], \"choropleth\": [{\"colorbar\": {\"outlinewidth\": 0, \"ticks\": \"\"}, \"type\": \"choropleth\"}], \"contour\": [{\"colorbar\": {\"outlinewidth\": 0, \"ticks\": \"\"}, \"colorscale\": [[0.0, \"#0d0887\"], [0.1111111111111111, \"#46039f\"], [0.2222222222222222, \"#7201a8\"], [0.3333333333333333, \"#9c179e\"], [0.4444444444444444, \"#bd3786\"], [0.5555555555555556, \"#d8576b\"], [0.6666666666666666, \"#ed7953\"], [0.7777777777777778, \"#fb9f3a\"], [0.8888888888888888, \"#fdca26\"], [1.0, \"#f0f921\"]], \"type\": \"contour\"}], \"contourcarpet\": [{\"colorbar\": {\"outlinewidth\": 0, \"ticks\": \"\"}, \"type\": \"contourcarpet\"}], \"heatmap\": [{\"colorbar\": {\"outlinewidth\": 0, \"ticks\": \"\"}, \"colorscale\": [[0.0, \"#0d0887\"], [0.1111111111111111, \"#46039f\"], [0.2222222222222222, \"#7201a8\"], [0.3333333333333333, \"#9c179e\"], [0.4444444444444444, \"#bd3786\"], [0.5555555555555556, \"#d8576b\"], [0.6666666666666666, \"#ed7953\"], [0.7777777777777778, \"#fb9f3a\"], [0.8888888888888888, \"#fdca26\"], [1.0, \"#f0f921\"]], \"type\": \"heatmap\"}], \"heatmapgl\": [{\"colorbar\": {\"outlinewidth\": 0, \"ticks\": \"\"}, \"colorscale\": [[0.0, \"#0d0887\"], [0.1111111111111111, \"#46039f\"], [0.2222222222222222, \"#7201a8\"], [0.3333333333333333, \"#9c179e\"], [0.4444444444444444, \"#bd3786\"], [0.5555555555555556, \"#d8576b\"], [0.6666666666666666, \"#ed7953\"], [0.7777777777777778, \"#fb9f3a\"], [0.8888888888888888, \"#fdca26\"], [1.0, \"#f0f921\"]], \"type\": \"heatmapgl\"}], \"histogram\": [{\"marker\": {\"colorbar\": {\"outlinewidth\": 0, \"ticks\": \"\"}}, \"type\": \"histogram\"}], \"histogram2d\": [{\"colorbar\": {\"outlinewidth\": 0, \"ticks\": \"\"}, \"colorscale\": [[0.0, \"#0d0887\"], [0.1111111111111111, \"#46039f\"], [0.2222222222222222, \"#7201a8\"], [0.3333333333333333, \"#9c179e\"], [0.4444444444444444, \"#bd3786\"], [0.5555555555555556, \"#d8576b\"], [0.6666666666666666, \"#ed7953\"], [0.7777777777777778, \"#fb9f3a\"], [0.8888888888888888, \"#fdca26\"], [1.0, \"#f0f921\"]], \"type\": \"histogram2d\"}], \"histogram2dcontour\": [{\"colorbar\": {\"outlinewidth\": 0, \"ticks\": \"\"}, \"colorscale\": [[0.0, \"#0d0887\"], [0.1111111111111111, \"#46039f\"], [0.2222222222222222, \"#7201a8\"], [0.3333333333333333, \"#9c179e\"], [0.4444444444444444, \"#bd3786\"], [0.5555555555555556, \"#d8576b\"], [0.6666666666666666, \"#ed7953\"], [0.7777777777777778, \"#fb9f3a\"], [0.8888888888888888, \"#fdca26\"], [1.0, \"#f0f921\"]], \"type\": \"histogram2dcontour\"}], \"mesh3d\": [{\"colorbar\": {\"outlinewidth\": 0, \"ticks\": \"\"}, \"type\": \"mesh3d\"}], \"parcoords\": [{\"line\": {\"colorbar\": {\"outlinewidth\": 0, \"ticks\": \"\"}}, \"type\": \"parcoords\"}], \"pie\": [{\"automargin\": true, \"type\": \"pie\"}], \"scatter\": [{\"marker\": {\"colorbar\": {\"outlinewidth\": 0, \"ticks\": \"\"}}, \"type\": \"scatter\"}], \"scatter3d\": [{\"line\": {\"colorbar\": {\"outlinewidth\": 0, \"ticks\": \"\"}}, \"marker\": {\"colorbar\": {\"outlinewidth\": 0, \"ticks\": \"\"}}, \"type\": \"scatter3d\"}], \"scattercarpet\": [{\"marker\": {\"colorbar\": {\"outlinewidth\": 0, \"ticks\": \"\"}}, \"type\": \"scattercarpet\"}], \"scattergeo\": [{\"marker\": {\"colorbar\": {\"outlinewidth\": 0, \"ticks\": \"\"}}, \"type\": \"scattergeo\"}], \"scattergl\": [{\"marker\": {\"colorbar\": {\"outlinewidth\": 0, \"ticks\": \"\"}}, \"type\": \"scattergl\"}], \"scattermapbox\": [{\"marker\": {\"colorbar\": {\"outlinewidth\": 0, \"ticks\": \"\"}}, \"type\": \"scattermapbox\"}], \"scatterpolar\": [{\"marker\": {\"colorbar\": {\"outlinewidth\": 0, \"ticks\": \"\"}}, \"type\": \"scatterpolar\"}], \"scatterpolargl\": [{\"marker\": {\"colorbar\": {\"outlinewidth\": 0, \"ticks\": \"\"}}, \"type\": \"scatterpolargl\"}], \"scatterternary\": [{\"marker\": {\"colorbar\": {\"outlinewidth\": 0, \"ticks\": \"\"}}, \"type\": \"scatterternary\"}], \"surface\": [{\"colorbar\": {\"outlinewidth\": 0, \"ticks\": \"\"}, \"colorscale\": [[0.0, \"#0d0887\"], [0.1111111111111111, \"#46039f\"], [0.2222222222222222, \"#7201a8\"], [0.3333333333333333, \"#9c179e\"], [0.4444444444444444, \"#bd3786\"], [0.5555555555555556, \"#d8576b\"], [0.6666666666666666, \"#ed7953\"], [0.7777777777777778, \"#fb9f3a\"], [0.8888888888888888, \"#fdca26\"], [1.0, \"#f0f921\"]], \"type\": \"surface\"}], \"table\": [{\"cells\": {\"fill\": {\"color\": \"#EBF0F8\"}, \"line\": {\"color\": \"white\"}}, \"header\": {\"fill\": {\"color\": \"#C8D4E3\"}, \"line\": {\"color\": \"white\"}}, \"type\": \"table\"}]}, \"layout\": {\"annotationdefaults\": {\"arrowcolor\": \"#2a3f5f\", \"arrowhead\": 0, \"arrowwidth\": 1}, \"coloraxis\": {\"colorbar\": {\"outlinewidth\": 0, \"ticks\": \"\"}}, \"colorscale\": {\"diverging\": [[0, \"#8e0152\"], [0.1, \"#c51b7d\"], [0.2, \"#de77ae\"], [0.3, \"#f1b6da\"], [0.4, \"#fde0ef\"], [0.5, \"#f7f7f7\"], [0.6, \"#e6f5d0\"], [0.7, \"#b8e186\"], [0.8, \"#7fbc41\"], [0.9, \"#4d9221\"], [1, \"#276419\"]], \"sequential\": [[0.0, \"#0d0887\"], [0.1111111111111111, \"#46039f\"], [0.2222222222222222, \"#7201a8\"], [0.3333333333333333, \"#9c179e\"], [0.4444444444444444, \"#bd3786\"], [0.5555555555555556, \"#d8576b\"], [0.6666666666666666, \"#ed7953\"], [0.7777777777777778, \"#fb9f3a\"], [0.8888888888888888, \"#fdca26\"], [1.0, \"#f0f921\"]], \"sequentialminus\": [[0.0, \"#0d0887\"], [0.1111111111111111, \"#46039f\"], [0.2222222222222222, \"#7201a8\"], [0.3333333333333333, \"#9c179e\"], [0.4444444444444444, \"#bd3786\"], [0.5555555555555556, \"#d8576b\"], [0.6666666666666666, \"#ed7953\"], [0.7777777777777778, \"#fb9f3a\"], [0.8888888888888888, \"#fdca26\"], [1.0, \"#f0f921\"]]}, \"colorway\": [\"#636efa\", \"#EF553B\", \"#00cc96\", \"#ab63fa\", \"#FFA15A\", \"#19d3f3\", \"#FF6692\", \"#B6E880\", \"#FF97FF\", \"#FECB52\"], \"font\": {\"color\": \"#2a3f5f\"}, \"geo\": {\"bgcolor\": \"white\", \"lakecolor\": \"white\", \"landcolor\": \"#E5ECF6\", \"showlakes\": true, \"showland\": true, \"subunitcolor\": \"white\"}, \"hoverlabel\": {\"align\": \"left\"}, \"hovermode\": \"closest\", \"mapbox\": {\"style\": \"light\"}, \"paper_bgcolor\": \"white\", \"plot_bgcolor\": \"#E5ECF6\", \"polar\": {\"angularaxis\": {\"gridcolor\": \"white\", \"linecolor\": \"white\", \"ticks\": \"\"}, \"bgcolor\": \"#E5ECF6\", \"radialaxis\": {\"gridcolor\": \"white\", \"linecolor\": \"white\", \"ticks\": \"\"}}, \"scene\": {\"xaxis\": {\"backgroundcolor\": \"#E5ECF6\", \"gridcolor\": \"white\", \"gridwidth\": 2, \"linecolor\": \"white\", \"showbackground\": true, \"ticks\": \"\", \"zerolinecolor\": \"white\"}, \"yaxis\": {\"backgroundcolor\": \"#E5ECF6\", \"gridcolor\": \"white\", \"gridwidth\": 2, \"linecolor\": \"white\", \"showbackground\": true, \"ticks\": \"\", \"zerolinecolor\": \"white\"}, \"zaxis\": {\"backgroundcolor\": \"#E5ECF6\", \"gridcolor\": \"white\", \"gridwidth\": 2, \"linecolor\": \"white\", \"showbackground\": true, \"ticks\": \"\", \"zerolinecolor\": \"white\"}}, \"shapedefaults\": {\"line\": {\"color\": \"#2a3f5f\"}}, \"ternary\": {\"aaxis\": {\"gridcolor\": \"white\", \"linecolor\": \"white\", \"ticks\": \"\"}, \"baxis\": {\"gridcolor\": \"white\", \"linecolor\": \"white\", \"ticks\": \"\"}, \"bgcolor\": \"#E5ECF6\", \"caxis\": {\"gridcolor\": \"white\", \"linecolor\": \"white\", \"ticks\": \"\"}}, \"title\": {\"x\": 0.05}, \"xaxis\": {\"automargin\": true, \"gridcolor\": \"white\", \"linecolor\": \"white\", \"ticks\": \"\", \"title\": {\"standoff\": 15}, \"zerolinecolor\": \"white\", \"zerolinewidth\": 2}, \"yaxis\": {\"automargin\": true, \"gridcolor\": \"white\", \"linecolor\": \"white\", \"ticks\": \"\", \"title\": {\"standoff\": 15}, \"zerolinecolor\": \"white\", \"zerolinewidth\": 2}}}, \"xaxis\": {\"anchor\": \"y\", \"domain\": [0.0, 1.0], \"title\": {\"text\": \"x\"}}, \"yaxis\": {\"anchor\": \"x\", \"domain\": [0.0, 1.0], \"title\": {\"text\": \"y\"}}},\n",
              "                        {\"responsive\": true}\n",
              "                    ).then(function(){\n",
              "                            \n",
              "var gd = document.getElementById('cfc60107-b564-4ee8-a89e-ed28ab0a25b2');\n",
              "var x = new MutationObserver(function (mutations, observer) {{\n",
              "        var display = window.getComputedStyle(gd).display;\n",
              "        if (!display || display === 'none') {{\n",
              "            console.log([gd, 'removed!']);\n",
              "            Plotly.purge(gd);\n",
              "            observer.disconnect();\n",
              "        }}\n",
              "}});\n",
              "\n",
              "// Listen for the removal of the full notebook cells\n",
              "var notebookContainer = gd.closest('#notebook-container');\n",
              "if (notebookContainer) {{\n",
              "    x.observe(notebookContainer, {childList: true});\n",
              "}}\n",
              "\n",
              "// Listen for the clearing of the current output cell\n",
              "var outputEl = gd.closest('.output');\n",
              "if (outputEl) {{\n",
              "    x.observe(outputEl, {childList: true});\n",
              "}}\n",
              "\n",
              "                        })\n",
              "                };\n",
              "                \n",
              "            </script>\n",
              "        </div>\n",
              "</body>\n",
              "</html>"
            ]
          },
          "metadata": {
            "tags": []
          }
        }
      ]
    },
    {
      "cell_type": "markdown",
      "metadata": {
        "id": "NUunGobxXT3t"
      },
      "source": [
        "Distinct location in train dataset"
      ]
    },
    {
      "cell_type": "code",
      "metadata": {
        "id": "o5LiD4P6XUx6",
        "outputId": "54f75485-8dec-43cd-bcc8-cbb6078b7726",
        "colab": {
          "base_uri": "https://localhost:8080/",
          "height": 542
        }
      },
      "source": [
        "dist_location=ds_train['location'].value_counts()\n",
        "#Visualize location\n",
        "fig = px.scatter(dist_location, y=dist_location.values, x=dist_location.index,size=dist_location.values)\n",
        "fig.show()"
      ],
      "execution_count": 27,
      "outputs": [
        {
          "output_type": "display_data",
          "data": {
            "text/html": [
              "<html>\n",
              "<head><meta charset=\"utf-8\" /></head>\n",
              "<body>\n",
              "    <div>\n",
              "            <script src=\"https://cdnjs.cloudflare.com/ajax/libs/mathjax/2.7.5/MathJax.js?config=TeX-AMS-MML_SVG\"></script><script type=\"text/javascript\">if (window.MathJax) {MathJax.Hub.Config({SVG: {font: \"STIX-Web\"}});}</script>\n",
              "                <script type=\"text/javascript\">window.PlotlyConfig = {MathJaxConfig: 'local'};</script>\n",
              "        <script src=\"https://cdn.plot.ly/plotly-latest.min.js\"></script>    \n",
              "            <div id=\"3aaeb4ac-9cd2-42dd-bb65-63a58a5832ac\" class=\"plotly-graph-div\" style=\"height:525px; width:100%;\"></div>\n",
              "            <script type=\"text/javascript\">\n",
              "                \n",
              "                    window.PLOTLYENV=window.PLOTLYENV || {};\n",
              "                    \n",
              "                if (document.getElementById(\"3aaeb4ac-9cd2-42dd-bb65-63a58a5832ac\")) {\n",
              "                    Plotly.newPlot(\n",
              "                        '3aaeb4ac-9cd2-42dd-bb65-63a58a5832ac',\n",
              "                        [{\"hoverlabel\": {\"namelength\": 0}, \"hovertemplate\": \"x=%{x}<br>y=%{y}<br>size=%{marker.size}\", \"legendgroup\": \"\", \"marker\": {\"color\": \"#636efa\", \"size\": [104, 71, 50, 45, 29, 28, 27, 26, 24, 22, 21, 20, 19, 18, 18, 17, 15, 15, 15, 14, 14, 14, 13, 13, 13, 12, 12, 12, 11, 11, 11, 11, 10, 10, 10, 10, 10, 10, 10, 9, 9, 9, 9, 9, 9, 9, 9, 8, 8, 8, 7, 7, 7, 7, 7, 7, 7, 7, 6, 6, 6, 6, 6, 6, 6, 6, 6, 6, 6, 6, 6, 6, 6, 6, 6, 6, 5, 5, 5, 5, 5, 5, 5, 5, 5, 5, 5, 5, 5, 5, 5, 5, 5, 5, 5, 5, 5, 5, 5, 5, 5, 5, 5, 5, 5, 5, 5, 4, 4, 4, 4, 4, 4, 4, 4, 4, 4, 4, 4, 4, 4, 4, 4, 4, 4, 4, 4, 4, 4, 4, 4, 4, 4, 4, 4, 4, 4, 4, 4, 4, 4, 4, 4, 4, 4, 4, 4, 4, 4, 4, 4, 4, 4, 4, 4, 4, 4, 3, 3, 3, 3, 3, 3, 3, 3, 3, 3, 3, 3, 3, 3, 3, 3, 3, 3, 3, 3, 3, 3, 3, 3, 3, 3, 3, 3, 3, 3, 3, 3, 3, 3, 3, 3, 3, 3, 3, 3, 3, 3, 3, 3, 3, 3, 3, 3, 3, 3, 3, 3, 3, 3, 3, 3, 3, 3, 3, 3, 3, 3, 3, 3, 3, 3, 3, 3, 3, 3, 3, 3, 3, 3, 3, 3, 3, 3, 3, 3, 3, 3, 3, 3, 3, 3, 3, 3, 3, 3, 3, 3, 3, 3, 3, 3, 3, 3, 3, 3, 2, 2, 2, 2, 2, 2, 2, 2, 2, 2, 2, 2, 2, 2, 2, 2, 2, 2, 2, 2, 2, 2, 2, 2, 2, 2, 2, 2, 2, 2, 2, 2, 2, 2, 2, 2, 2, 2, 2, 2, 2, 2, 2, 2, 2, 2, 2, 2, 2, 2, 2, 2, 2, 2, 2, 2, 2, 2, 2, 2, 2, 2, 2, 2, 2, 2, 2, 2, 2, 2, 2, 2, 2, 2, 2, 2, 2, 2, 2, 2, 2, 2, 2, 2, 2, 2, 2, 2, 2, 2, 2, 2, 2, 2, 2, 2, 2, 2, 2, 2, 2, 2, 2, 2, 2, 2, 2, 2, 2, 2, 2, 2, 2, 2, 2, 2, 2, 2, 2, 2, 2, 2, 2, 2, 2, 2, 2, 2, 2, 2, 2, 2, 2, 2, 2, 2, 2, 2, 2, 2, 2, 2, 2, 2, 2, 2, 2, 2, 2, 2, 2, 2, 2, 2, 2, 2, 2, 2, 2, 2, 2, 2, 2, 2, 2, 2, 2, 2, 2, 2, 2, 2, 2, 2, 2, 2, 2, 2, 2, 2, 2, 2, 2, 2, 2, 2, 2, 2, 2, 2, 2, 2, 2, 2, 2, 2, 2, 2, 2, 2, 2, 2, 2, 2, 2, 2, 2, 2, 2, 2, 2, 2, 2, 2, 2, 2, 2, 2, 2, 2, 2, 2, 2, 2, 2, 2, 2, 2, 2, 2, 2, 2, 2, 2, 2, 2, 2, 2, 2, 2, 2, 2, 2, 2, 2, 2, 2, 2, 2, 2, 2, 2, 2, 2, 2, 2, 2, 2, 2, 2, 2, 2, 2, 2, 2, 2, 1, 1, 1, 1, 1, 1, 1, 1, 1, 1, 1, 1, 1, 1, 1, 1, 1, 1, 1, 1, 1, 1, 1, 1, 1, 1, 1, 1, 1, 1, 1, 1, 1, 1, 1, 1, 1, 1, 1, 1, 1, 1, 1, 1, 1, 1, 1, 1, 1, 1, 1, 1, 1, 1, 1, 1, 1, 1, 1, 1, 1, 1, 1, 1, 1, 1, 1, 1, 1, 1, 1, 1, 1, 1, 1, 1, 1, 1, 1, 1, 1, 1, 1, 1, 1, 1, 1, 1, 1, 1, 1, 1, 1, 1, 1, 1, 1, 1, 1, 1, 1, 1, 1, 1, 1, 1, 1, 1, 1, 1, 1, 1, 1, 1, 1, 1, 1, 1, 1, 1, 1, 1, 1, 1, 1, 1, 1, 1, 1, 1, 1, 1, 1, 1, 1, 1, 1, 1, 1, 1, 1, 1, 1, 1, 1, 1, 1, 1, 1, 1, 1, 1, 1, 1, 1, 1, 1, 1, 1, 1, 1, 1, 1, 1, 1, 1, 1, 1, 1, 1, 1, 1, 1, 1, 1, 1, 1, 1, 1, 1, 1, 1, 1, 1, 1, 1, 1, 1, 1, 1, 1, 1, 1, 1, 1, 1, 1, 1, 1, 1, 1, 1, 1, 1, 1, 1, 1, 1, 1, 1, 1, 1, 1, 1, 1, 1, 1, 1, 1, 1, 1, 1, 1, 1, 1, 1, 1, 1, 1, 1, 1, 1, 1, 1, 1, 1, 1, 1, 1, 1, 1, 1, 1, 1, 1, 1, 1, 1, 1, 1, 1, 1, 1, 1, 1, 1, 1, 1, 1, 1, 1, 1, 1, 1, 1, 1, 1, 1, 1, 1, 1, 1, 1, 1, 1, 1, 1, 1, 1, 1, 1, 1, 1, 1, 1, 1, 1, 1, 1, 1, 1, 1, 1, 1, 1, 1, 1, 1, 1, 1, 1, 1, 1, 1, 1, 1, 1, 1, 1, 1, 1, 1, 1, 1, 1, 1, 1, 1, 1, 1, 1, 1, 1, 1, 1, 1, 1, 1, 1, 1, 1, 1, 1, 1, 1, 1, 1, 1, 1, 1, 1, 1, 1, 1, 1, 1, 1, 1, 1, 1, 1, 1, 1, 1, 1, 1, 1, 1, 1, 1, 1, 1, 1, 1, 1, 1, 1, 1, 1, 1, 1, 1, 1, 1, 1, 1, 1, 1, 1, 1, 1, 1, 1, 1, 1, 1, 1, 1, 1, 1, 1, 1, 1, 1, 1, 1, 1, 1, 1, 1, 1, 1, 1, 1, 1, 1, 1, 1, 1, 1, 1, 1, 1, 1, 1, 1, 1, 1, 1, 1, 1, 1, 1, 1, 1, 1, 1, 1, 1, 1, 1, 1, 1, 1, 1, 1, 1, 1, 1, 1, 1, 1, 1, 1, 1, 1, 1, 1, 1, 1, 1, 1, 1, 1, 1, 1, 1, 1, 1, 1, 1, 1, 1, 1, 1, 1, 1, 1, 1, 1, 1, 1, 1, 1, 1, 1, 1, 1, 1, 1, 1, 1, 1, 1, 1, 1, 1, 1, 1, 1, 1, 1, 1, 1, 1, 1, 1, 1, 1, 1, 1, 1, 1, 1, 1, 1, 1, 1, 1, 1, 1, 1, 1, 1, 1, 1, 1, 1, 1, 1, 1, 1, 1, 1, 1, 1, 1, 1, 1, 1, 1, 1, 1, 1, 1, 1, 1, 1, 1, 1, 1, 1, 1, 1, 1, 1, 1, 1, 1, 1, 1, 1, 1, 1, 1, 1, 1, 1, 1, 1, 1, 1, 1, 1, 1, 1, 1, 1, 1, 1, 1, 1, 1, 1, 1, 1, 1, 1, 1, 1, 1, 1, 1, 1, 1, 1, 1, 1, 1, 1, 1, 1, 1, 1, 1, 1, 1, 1, 1, 1, 1, 1, 1, 1, 1, 1, 1, 1, 1, 1, 1, 1, 1, 1, 1, 1, 1, 1, 1, 1, 1, 1, 1, 1, 1, 1, 1, 1, 1, 1, 1, 1, 1, 1, 1, 1, 1, 1, 1, 1, 1, 1, 1, 1, 1, 1, 1, 1, 1, 1, 1, 1, 1, 1, 1, 1, 1, 1, 1, 1, 1, 1, 1, 1, 1, 1, 1, 1, 1, 1, 1, 1, 1, 1, 1, 1, 1, 1, 1, 1, 1, 1, 1, 1, 1, 1, 1, 1, 1, 1, 1, 1, 1, 1, 1, 1, 1, 1, 1, 1, 1, 1, 1, 1, 1, 1, 1, 1, 1, 1, 1, 1, 1, 1, 1, 1, 1, 1, 1, 1, 1, 1, 1, 1, 1, 1, 1, 1, 1, 1, 1, 1, 1, 1, 1, 1, 1, 1, 1, 1, 1, 1, 1, 1, 1, 1, 1, 1, 1, 1, 1, 1, 1, 1, 1, 1, 1, 1, 1, 1, 1, 1, 1, 1, 1, 1, 1, 1, 1, 1, 1, 1, 1, 1, 1, 1, 1, 1, 1, 1, 1, 1, 1, 1, 1, 1, 1, 1, 1, 1, 1, 1, 1, 1, 1, 1, 1, 1, 1, 1, 1, 1, 1, 1, 1, 1, 1, 1, 1, 1, 1, 1, 1, 1, 1, 1, 1, 1, 1, 1, 1, 1, 1, 1, 1, 1, 1, 1, 1, 1, 1, 1, 1, 1, 1, 1, 1, 1, 1, 1, 1, 1, 1, 1, 1, 1, 1, 1, 1, 1, 1, 1, 1, 1, 1, 1, 1, 1, 1, 1, 1, 1, 1, 1, 1, 1, 1, 1, 1, 1, 1, 1, 1, 1, 1, 1, 1, 1, 1, 1, 1, 1, 1, 1, 1, 1, 1, 1, 1, 1, 1, 1, 1, 1, 1, 1, 1, 1, 1, 1, 1, 1, 1, 1, 1, 1, 1, 1, 1, 1, 1, 1, 1, 1, 1, 1, 1, 1, 1, 1, 1, 1, 1, 1, 1, 1, 1, 1, 1, 1, 1, 1, 1, 1, 1, 1, 1, 1, 1, 1, 1, 1, 1, 1, 1, 1, 1, 1, 1, 1, 1, 1, 1, 1, 1, 1, 1, 1, 1, 1, 1, 1, 1, 1, 1, 1, 1, 1, 1, 1, 1, 1, 1, 1, 1, 1, 1, 1, 1, 1, 1, 1, 1, 1, 1, 1, 1, 1, 1, 1, 1, 1, 1, 1, 1, 1, 1, 1, 1, 1, 1, 1, 1, 1, 1, 1, 1, 1, 1, 1, 1, 1, 1, 1, 1, 1, 1, 1, 1, 1, 1, 1, 1, 1, 1, 1, 1, 1, 1, 1, 1, 1, 1, 1, 1, 1, 1, 1, 1, 1, 1, 1, 1, 1, 1, 1, 1, 1, 1, 1, 1, 1, 1, 1, 1, 1, 1, 1, 1, 1, 1, 1, 1, 1, 1, 1, 1, 1, 1, 1, 1, 1, 1, 1, 1, 1, 1, 1, 1, 1, 1, 1, 1, 1, 1, 1, 1, 1, 1, 1, 1, 1, 1, 1, 1, 1, 1, 1, 1, 1, 1, 1, 1, 1, 1, 1, 1, 1, 1, 1, 1, 1, 1, 1, 1, 1, 1, 1, 1, 1, 1, 1, 1, 1, 1, 1, 1, 1, 1, 1, 1, 1, 1, 1, 1, 1, 1, 1, 1, 1, 1, 1, 1, 1, 1, 1, 1, 1, 1, 1, 1, 1, 1, 1, 1, 1, 1, 1, 1, 1, 1, 1, 1, 1, 1, 1, 1, 1, 1, 1, 1, 1, 1, 1, 1, 1, 1, 1, 1, 1, 1, 1, 1, 1, 1, 1, 1, 1, 1, 1, 1, 1, 1, 1, 1, 1, 1, 1, 1, 1, 1, 1, 1, 1, 1, 1, 1, 1, 1, 1, 1, 1, 1, 1, 1, 1, 1, 1, 1, 1, 1, 1, 1, 1, 1, 1, 1, 1, 1, 1, 1, 1, 1, 1, 1, 1, 1, 1, 1, 1, 1, 1, 1, 1, 1, 1, 1, 1, 1, 1, 1, 1, 1, 1, 1, 1, 1, 1, 1, 1, 1, 1, 1, 1, 1, 1, 1, 1, 1, 1, 1, 1, 1, 1, 1, 1, 1, 1, 1, 1, 1, 1, 1, 1, 1, 1, 1, 1, 1, 1, 1, 1, 1, 1, 1, 1, 1, 1, 1, 1, 1, 1, 1, 1, 1, 1, 1, 1, 1, 1, 1, 1, 1, 1, 1, 1, 1, 1, 1, 1, 1, 1, 1, 1, 1, 1, 1, 1, 1, 1, 1, 1, 1, 1, 1, 1, 1, 1, 1, 1, 1, 1, 1, 1, 1, 1, 1, 1, 1, 1, 1, 1, 1, 1, 1, 1, 1, 1, 1, 1, 1, 1, 1, 1, 1, 1, 1, 1, 1, 1, 1, 1, 1, 1, 1, 1, 1, 1, 1, 1, 1, 1, 1, 1, 1, 1, 1, 1, 1, 1, 1, 1, 1, 1, 1, 1, 1, 1, 1, 1, 1, 1, 1, 1, 1, 1, 1, 1, 1, 1, 1, 1, 1, 1, 1, 1, 1, 1, 1, 1, 1, 1, 1, 1, 1, 1, 1, 1, 1, 1, 1, 1, 1, 1, 1, 1, 1, 1, 1, 1, 1, 1, 1, 1, 1, 1, 1, 1, 1, 1, 1, 1, 1, 1, 1, 1, 1, 1, 1, 1, 1, 1, 1, 1, 1, 1, 1, 1, 1, 1, 1, 1, 1, 1, 1, 1, 1, 1, 1, 1, 1, 1, 1, 1, 1, 1, 1, 1, 1, 1, 1, 1, 1, 1, 1, 1, 1, 1, 1, 1, 1, 1, 1, 1, 1, 1, 1, 1, 1, 1, 1, 1, 1, 1, 1, 1, 1, 1, 1, 1, 1, 1, 1, 1, 1, 1, 1, 1, 1, 1, 1, 1, 1, 1, 1, 1, 1, 1, 1, 1, 1, 1, 1, 1, 1, 1, 1, 1, 1, 1, 1, 1, 1, 1, 1, 1, 1, 1, 1, 1, 1, 1, 1, 1, 1, 1, 1, 1, 1, 1, 1, 1, 1, 1, 1, 1, 1, 1, 1, 1, 1, 1, 1, 1, 1, 1, 1, 1, 1, 1, 1, 1, 1, 1, 1, 1, 1, 1, 1, 1, 1, 1, 1, 1, 1, 1, 1, 1, 1, 1, 1, 1, 1, 1, 1, 1, 1, 1, 1, 1, 1, 1, 1, 1, 1, 1, 1, 1, 1, 1, 1, 1, 1, 1, 1, 1, 1, 1, 1, 1, 1, 1, 1, 1, 1, 1, 1, 1, 1, 1, 1, 1, 1, 1, 1, 1, 1, 1, 1, 1, 1, 1, 1, 1, 1, 1, 1, 1, 1, 1, 1, 1, 1, 1, 1, 1, 1, 1, 1, 1, 1, 1, 1, 1, 1, 1, 1, 1, 1, 1, 1, 1, 1, 1, 1, 1, 1, 1, 1, 1, 1, 1, 1, 1, 1, 1, 1, 1, 1, 1, 1, 1, 1, 1, 1, 1, 1, 1, 1, 1, 1, 1, 1, 1, 1, 1, 1, 1, 1, 1, 1, 1, 1, 1, 1, 1, 1, 1, 1, 1, 1, 1, 1, 1, 1, 1, 1, 1, 1, 1, 1, 1, 1, 1, 1, 1, 1, 1, 1, 1, 1, 1, 1, 1, 1, 1, 1, 1, 1, 1, 1, 1, 1, 1, 1, 1, 1, 1, 1, 1, 1, 1, 1, 1, 1, 1, 1, 1, 1, 1, 1, 1, 1, 1, 1, 1, 1, 1, 1, 1, 1, 1, 1, 1, 1, 1, 1, 1, 1, 1, 1, 1, 1, 1, 1, 1, 1, 1, 1, 1, 1, 1, 1, 1, 1, 1, 1, 1, 1, 1, 1, 1, 1, 1, 1, 1, 1, 1, 1, 1, 1, 1, 1, 1, 1, 1, 1, 1, 1, 1, 1, 1, 1, 1, 1, 1, 1, 1, 1, 1, 1, 1, 1, 1, 1, 1, 1, 1, 1, 1, 1, 1, 1, 1, 1, 1, 1, 1, 1, 1, 1, 1, 1, 1, 1, 1, 1, 1, 1, 1, 1, 1, 1, 1, 1, 1, 1, 1, 1, 1, 1, 1, 1, 1, 1, 1, 1, 1, 1, 1, 1, 1, 1, 1, 1, 1, 1, 1, 1, 1, 1, 1, 1, 1, 1, 1, 1, 1, 1, 1, 1, 1, 1, 1, 1, 1, 1, 1, 1, 1, 1, 1, 1, 1, 1, 1, 1, 1, 1, 1, 1, 1, 1, 1, 1, 1, 1, 1, 1, 1, 1, 1, 1, 1, 1, 1, 1, 1, 1, 1, 1, 1, 1, 1, 1, 1, 1, 1, 1, 1, 1, 1, 1, 1, 1, 1, 1, 1, 1, 1, 1, 1, 1, 1, 1, 1, 1, 1, 1, 1, 1, 1, 1, 1, 1, 1, 1, 1, 1, 1, 1, 1, 1, 1, 1, 1, 1, 1, 1, 1, 1, 1, 1, 1, 1, 1, 1, 1, 1, 1, 1, 1, 1, 1, 1, 1, 1, 1, 1, 1, 1, 1, 1, 1, 1, 1, 1, 1, 1, 1, 1, 1, 1, 1, 1, 1, 1, 1, 1, 1, 1, 1, 1, 1, 1, 1, 1, 1, 1, 1, 1, 1, 1, 1, 1, 1, 1, 1, 1, 1, 1, 1, 1, 1, 1, 1, 1, 1, 1, 1, 1, 1, 1, 1, 1, 1, 1, 1, 1, 1, 1, 1, 1, 1, 1, 1, 1, 1, 1, 1, 1, 1, 1, 1, 1, 1, 1, 1, 1, 1, 1, 1, 1, 1, 1, 1, 1, 1, 1, 1, 1, 1, 1, 1, 1, 1, 1, 1, 1, 1, 1, 1, 1, 1, 1, 1, 1, 1, 1, 1, 1, 1, 1, 1, 1, 1, 1, 1, 1, 1, 1, 1, 1, 1, 1, 1, 1, 1, 1, 1, 1, 1, 1, 1, 1, 1, 1, 1, 1, 1, 1, 1, 1, 1, 1, 1, 1, 1, 1, 1, 1, 1, 1, 1, 1, 1, 1, 1, 1, 1, 1, 1, 1, 1, 1, 1, 1, 1, 1, 1, 1, 1, 1, 1, 1, 1, 1, 1, 1, 1, 1, 1, 1, 1, 1, 1, 1, 1, 1, 1, 1, 1, 1, 1, 1, 1, 1, 1, 1, 1, 1, 1, 1, 1, 1, 1, 1, 1, 1, 1, 1, 1, 1, 1, 1, 1, 1, 1, 1, 1, 1, 1, 1, 1, 1, 1, 1, 1, 1, 1, 1, 1, 1, 1, 1, 1, 1, 1, 1, 1, 1, 1, 1, 1, 1, 1, 1, 1, 1, 1, 1, 1, 1, 1, 1, 1, 1, 1, 1, 1, 1, 1, 1, 1, 1, 1, 1, 1, 1, 1, 1, 1, 1, 1, 1, 1, 1, 1, 1, 1, 1, 1, 1, 1, 1, 1, 1, 1, 1, 1, 1, 1, 1, 1, 1, 1, 1, 1, 1, 1, 1, 1, 1, 1, 1, 1, 1, 1, 1, 1, 1, 1, 1, 1, 1, 1, 1, 1, 1, 1, 1, 1, 1, 1, 1, 1, 1, 1, 1, 1, 1, 1, 1, 1, 1, 1, 1, 1, 1, 1, 1, 1, 1, 1, 1, 1, 1, 1, 1, 1, 1, 1, 1, 1, 1, 1, 1, 1, 1, 1, 1, 1, 1, 1, 1, 1, 1, 1, 1, 1, 1, 1, 1, 1, 1, 1, 1, 1, 1, 1, 1, 1, 1, 1, 1, 1, 1, 1, 1, 1, 1, 1, 1, 1, 1, 1, 1, 1, 1, 1, 1, 1, 1, 1, 1, 1, 1, 1, 1, 1, 1, 1, 1, 1, 1, 1, 1, 1, 1, 1, 1, 1, 1, 1, 1, 1, 1, 1, 1, 1, 1, 1, 1, 1, 1, 1, 1, 1, 1, 1, 1, 1, 1, 1, 1, 1, 1, 1, 1, 1, 1, 1, 1, 1, 1, 1, 1, 1, 1, 1, 1, 1, 1, 1, 1, 1, 1, 1, 1, 1, 1, 1, 1, 1, 1, 1, 1, 1, 1, 1, 1, 1, 1, 1, 1, 1, 1, 1, 1, 1, 1, 1, 1, 1, 1, 1, 1, 1, 1, 1, 1, 1, 1, 1, 1, 1, 1, 1, 1, 1, 1, 1, 1, 1, 1, 1, 1, 1, 1, 1, 1, 1, 1, 1, 1, 1, 1, 1, 1, 1, 1, 1, 1, 1, 1, 1, 1, 1, 1, 1, 1, 1, 1, 1, 1, 1, 1, 1, 1, 1, 1, 1, 1, 1, 1, 1, 1, 1, 1, 1, 1, 1, 1, 1, 1, 1, 1, 1, 1, 1, 1, 1, 1, 1, 1, 1, 1, 1, 1, 1, 1, 1, 1, 1, 1, 1, 1, 1, 1, 1, 1, 1, 1, 1, 1, 1, 1, 1, 1, 1, 1, 1, 1, 1, 1, 1, 1, 1, 1, 1, 1, 1, 1, 1, 1, 1, 1, 1, 1, 1, 1, 1, 1, 1, 1, 1, 1, 1, 1, 1, 1, 1, 1, 1, 1, 1, 1, 1, 1, 1, 1, 1, 1, 1, 1, 1, 1, 1, 1, 1, 1, 1, 1, 1, 1, 1, 1, 1, 1, 1, 1, 1, 1, 1, 1, 1, 1, 1, 1, 1, 1, 1, 1, 1, 1, 1, 1, 1, 1, 1, 1, 1, 1, 1, 1, 1, 1, 1, 1, 1, 1, 1, 1, 1, 1, 1, 1, 1, 1, 1, 1, 1, 1, 1, 1, 1, 1, 1, 1, 1, 1, 1, 1, 1, 1, 1, 1, 1, 1, 1, 1, 1, 1, 1, 1, 1, 1, 1, 1, 1, 1, 1, 1, 1, 1, 1, 1, 1, 1, 1, 1, 1, 1, 1, 1, 1, 1, 1, 1, 1, 1, 1, 1, 1, 1, 1, 1, 1, 1, 1, 1, 1, 1, 1, 1, 1, 1, 1, 1, 1, 1, 1, 1, 1, 1, 1, 1, 1], \"sizemode\": \"area\", \"sizeref\": 0.26, \"symbol\": \"circle\"}, \"mode\": \"markers\", \"name\": \"\", \"showlegend\": false, \"type\": \"scattergl\", \"x\": [\"USA\", \"New York\", \"United States\", \"London\", \"Canada\", \"Nigeria\", \"UK\", \"Los Angeles, CA\", \"India\", \"Mumbai\", \"Washington, DC\", \"Kenya\", \"Worldwide\", \"Chicago, IL\", \"Australia\", \"California\", \"California, USA\", \"New York, NY\", \"Everywhere\", \"Florida\", \"United Kingdom\", \"San Francisco\", \"Los Angeles\", \"Indonesia\", \"Washington, D.C.\", \"Ireland\", \"Toronto\", \"NYC\", \"Chicago\", \"San Francisco, CA\", \"Seattle\", \"Earth\", \"Sacramento, CA\", \"Atlanta, GA\", \"New York City\", \"London, UK\", \"Texas\", \"ss\", \"London, England\", \"Denver, Colorado\", \"Manchester\", \"Nashville, TN\", \"San Diego, CA\", \"World\", \"US\", \"304\", \"Dallas, TX\", \"Scotland\", \"Houston, TX\", \"South Africa\", \"Pennsylvania, USA\", \"Memphis, TN\", \"Seattle, WA\", \"Sydney\", \"Tennessee\", \"Denver, CO\", \"Austin, TX\", \"worldwide\", \"??????\", \"Orlando, FL\", \"Planet Earth\", \"Singapore\", \"Massachusetts\", \"Pedophile hunting ground\", \"Global\", \"Brooklyn, NY\", \"California, United States\", \" Road to the Billionaires Club\", \"Atlanta\", \"Charlotte, NC\", \"Morioh, Japan\", \"Oklahoma City, OK\", \"Calgary, Alberta\", \"Colorado\", \"Portland, OR\", \"Paterson, New Jersey \", \"Pennsylvania\", \"Philippines\", \"Asheville, NC\", \"Texas, USA\", \"New Hampshire\", \"North Carolina\", \"Southern California\", \"WorldWide\", \"Brasil\", \"NY\", \"in the Word of God\", \"Vancouver, BC\", \"Tampa, FL\", \"Florida, USA\", \"Puerto Rico\", \"Indiana\", \"New Jersey\", \"Calgary, AB\", \"Wisconsin\", \"Cleveland, OH\", \"Boston, MA\", \"Pakistan\", \"Lagos, Nigeria\", \"Melbourne, Australia\", \"San Jose, CA\", \"Leeds, England\", \"Lagos\", \"New York, USA\", \"The Netherlands\", \"Newcastle\", \"Coventry\", \"london\", \"MAD as Hell\", \"Birmingham\", \"Oregon\", \"Oakland, CA\", \"Midwest\", \"canada\", \"Japan\", \"Atlanta Georgia \", \"?\", \"Jamaica\", \"Portland, Oregon\", \"Barbados\", \"Mumbai, Maharashtra\", \"Leicester\", \"Nigeria \", \"Maryland\", \"Paignton\", \"San Francisco Bay Area\", \"Melbourne\", \"?????\", \"??\", \"Jakarta/Kuala Lumpur/S'pore\", \"U.S.A\", \"Phoenix, AZ\", \"Geneva\", \"Seattle, Washington\", \"china\", \"Bend, Oregon\", \"Massachusetts, USA\", \"Sacramento\", \"Las Vegas, Nevada\", \"Calgary\", \"Haddonfield, NJ\", \"Manchester, England\", \"Port Harcourt, Nigeria\", \"British Columbia, Canada\", \"Nairobi-KENYA\", \"Sydney, New South Wales\", \"Kansas City\", \"Republic of Texas\", \"Switzerland\", \"Michigan\", \"Cape Town\", \"Philadelphia, PA\", \"Tokyo\", \"Sydney, Australia\", \"Edinburgh\", \"Happily Married with 2 kids \", \"North Carolina, USA\", \"Utah\", \"NYC :) Ex- #Islamophobe\", \"Buffalo, NY\", \"ARGENTINA\", \"Africa\", \"Indianapolis, IN\", \"World Wide\", \"South, USA\", \"Germany\", \"State College, PA\", \"East Coast\", \"Kansas City, MO\", \"Des Moines, IA\", \"Naperville\", \"Anchorage, AK\", \"Illinois, USA\", \"Taylor Swift\", \"CA\", \"Las Vegas\", \"Johannesburg, South Africa\", \"Malaysia\", \"Anonymous\", \"Baltimore, MD\", \"Boston\", \"Buy Give Me My Money \", \"Adelaide, Australia\", \"Virginia\", \"Dublin, Ireland\", \"iTunes\", \"Karachi\", \"???\", \"nyc\", \"Birmingham, England\", \"Arizona\", \"St. Louis, MO\", \"NJ\", \"Washington D.C.\", \"Kama | 18 | France \", \"New Orleans ,Louisiana\", \"Columbus, OH\", \"Nairobi, Kenya\", \"CA via Brum\", \"Vancouver, British Columbia\", \"England\", \"Asia\", \"Glasgow\", \"Victoria, BC\", \"Tulsa, Oklahoma\", \"21.462446,-158.022017\", \"California \", \"Georgia\", \"Gotham City\", \"Milwaukee, WI\", \"Iraq|Afghanistan| RSA |Baghdad\", \"india\", \"Italy\", \"Financial News and Views\", \"Subconscious LA\", \"Washington DC\", \"Karachi Pakistan\", \"Madison, WI\", \"Arlington, TX\", \"PA\", \"MA\", \"new york\", \"London UK\", \"Nowhere. Everywhere.\", \"Memphis\", \"Upstairs.\", \"San Diego\", \"Hawaii, USA\", \"Raleigh, NC\", \"Hong Kong\", \"Calgary, AB, Canada\", \"Narnia\", \"Ontario, Canada\", \"New Orleans, LA\", \"Brazil\", \"Austin, Texas\", \"uk\", \"China\", \"Haysville, KS\", \"Manhattan, NY\", \"Victoria, British Columbia\", \"Nairobi\", \"Sweden\", \"Toronto, Ontario\", \"Rio de Janeiro\", \"America\", \"#FLIGHTCITY UK  \", \"Nottingham, England\", \"Los Angeles, California\", \"Virginia, USA\", \"Inexpressible Island \", \"Stockholm, Sweden\", \"Oregon, USA\", \"Oklahoma City\", \"America of Founding Fathers\", \"Winston-Salem, NC\", \"Five down from the Coffeeshop\", \"Vietnam\", \"New Sweden\", \"Karachi, Pakistan\", \"Olympia, WA\", \"Winnipeg\", \"United States of America\", \"online \", \"anzio,italy\", \"St Paul, MN\", \"Connecticut\", \"New Delhi, Delhi\", \"Cumming, GA\", \"Alabama\", \"Halifax\", \"Kingston, Jamaica\", \"Federal Capital Territory\", \"somewhere USA \", \"Roaming around the world\", \"Louisiana\", \"Jakarta\", \"\\u00cc\\u00cfT: 10.614817868480726,12.195582811791382\", \"Sarasota, FL\", \"In the potters hands\", \"Macclesfield\", \"New York \", \"Jerusalem\", \"Yamaku Academy, Class 3-4\", \"Boston MA\", \"Alexandria, VA\", \"va\", \"NIGERIA\", \"San Jose, California\", \"Orlando, Fl\", \"Gainesville, FL\", \"dallas\", \"New York, New York\", \"617-BTOWN-BEATDOWN\", \"Moscow\", \"Sand springs oklahoma\", \"Bakersfield, California\", \"Does it really matter!\", \"Ewa Beach, HI\", \"Auckland\", \"Ukraine\", \"USA (Formerly @usNOAAgov)\", \"Dallas Fort-Worth\", \"Eldoret, kenya\", \"Redding, California, USA\", \"Lyallpur, Pakistan\", \"Washington\", \"El Dorado, Arkansas\", \"???  Dreamz\", \"Washington, USA\", \"hell\", \"Trinidad and Tobago\", \"the insane asylum. \", \"Roanoke, VA\", \"Jupiter\", \"Instagram - @heyimginog \", \"Decatur, GA\", \"Incognito\", \"Ottawa, Canada\", \"Bournemouth\", \"Derby\", \"Manila, Philippines\", \"vancouver usa\", \"Vancouver BC\", \"Rocky Mountains\", \"Lincoln, NE\", \"DC\", \"Portland, Ore. \", \"Venezuela\", \"Bangalore, India\", \"New Delhi, India\", \"Orange County, California\", \"Epic City, BB.\", \"Breaking News\", \"Winnipeg, Manitoba\", \"Wales\", \"Spare 'Oom\", \"#HarleyChick#PJNT#RunBenRun\", \"Somalia\", \"New Zealand\", \"Knoxville, TN\", \"GLOBAL\", \"Live On Webcam\", \"http://www.amazon.com/dp/B00HR\", \"Muntinlupa City, Philippines\", \"Kent\", \"Madison, GA\", \"world\", \"texas\", \"Spokane, WA\", \"Silicon Valley\", \"? \", \"Evanston, IL\", \"Budapest, Hungary\", \"Hackney, London\", \"Manchester, UK\", \"Washington State\", \"Columbia, SC\", \"REPUBLICA DOMINICANA\", \"Dundee\", \"Israel\", \"Manchester, NH\", \"Dubai, UAE\", \"Durham, NC\", \"Dublin City, Ireland\", \"Erie, PA\", \"West\", \"Riyadh\", \"Chicago, Illinois\", \"Somewhere in the Canada\", \"San Antonio, TX\", \"Charlotte\", \"Baltimore\", \"Cherry Creek Denver CO\", \"Oakland\", \"Na:tinixw / Hoopa, Berkeley\", \"South Stand\", \"Adelaide, South Australia\", \"Buenos Aires\", \"Here.\", \"Los Angeles \", \"Korea\", \"19.600858, -99.047821\", \"tx\", \"Pretoria\", \"U.K.\", \"Odawara, Japan\", \"Mongolia\", \"Dime's Palace\", \"SF Bay Area\", \"Blackpool\", \"Philadelphia\", \"Chile\", \"St Charles, MD\", \"302\", \" Queensland, Australia\", \"Honduras\", \"Colombia\", \"Palo Alto, California\", \"Mesa, AZ\", \"Bukittinggi  ?? Sumatera Barat\", \"Wilmington, NC\", \"Reddit \", \"Rock Hill, SC\", \"Heaven\", \"West Virginia, USA\", \"Melbourne Australia\", \"Michigan, USA\", \"Huntsville, AL\", \"Leesburg, FL\", \"Thailand\", \"Portugal\", \"ph\", \"Enfield, UK\", \"Liverpool\", \"Greensboro, North Carolina\", \"Auckland, New Zealand\", \"Gold Coast, Australia\", \"Glasgow, Scotland\", \"Georgia, USA\", \"Desde Republica Argentina\", \"England, United Kingdom\", \"Pittsburgh\", \"The Universe\", \"Maldives\", \"Macon, GA\", \"rome\", \"New England\", \"Moncton, New Brunswick\", \"Yogya Berhati Nyaman\", \"Renfrew, Scotland\", \"Mackay, QLD, Australia\", \"Kashmir!\", \"Cleveland, OH - San Diego, CA\", \"Berlin, Germany\", \"SWMO\", \"Bandung\", \"Niagara Falls, Ontario\", \"Costa Rica\", \"Perth, Western Australia\", \"San Diego California 92101\", \"New Hanover County, NC\", \"Helsinki\", \"los angeles, ca\", \"Norway\", \"Trinidad & Tobago\", \"scandinavia\", \"Brisbane\", \"Columbus\", \"Philadelphia, PA \", \"Detroit, MI\", \"WA State\", \"Mo.City\", \"Lisbon, Portugal\", \"Suplex City\", \"S\\u00cc\\u00a3o Paulo\", \"Palo Alto, CA\", \"Location\", \"Europe\", \"Houston\", \"Boise, Idaho\", \"Alaska\", \"Houston TX\", \"Newcastle Upon Tyne, England\", \"To The Right of You!\", \"Sydney Australia\", \"A little house in the outback.\", \"107-18 79TH STREET\", \"Accra,Ghana\", \"Lagos Nigeria\", \"Melbourne, Victoria\", \"Bronx NY\", \"Your screen\", \"Fresno, CA\", \"EIC\", \"Ohio, USA\", \"Dubai\", \"Kolkata\", \"Newark, NJ\", \"Detroit\", \"Mumbai , India\", \"Miami, FL\", \"In Hell\", \"Washington, DC & Charlotte, NC\", \"The American Wasteland (MV)\", \"they/them \", \"Global-NoLocation\", \"World Wide Web\", \"Paris\", \"Silver Spring, MD\", \"TX\", \"Chevy Chase, MD\", \"far away\", \"Istanbul\", \"Ontario Canada\", \"????\", \"Toronto, Canada\", \"434\", \"Selma2Oakland\", \"Charlotte NC\", \"140920-21 & 150718-19 BEIJING\", \"CA physically- Boston Strong?\", \"Arizona \", \"HTX\", \"Scotland, United Kingdom\", \"Belgium\", \"Ashburn, VA\", \"Baton Rouge, LA\", \"Swaning Around\", \"Santa Cruz, CA\", \"Unknown\", \"Phoenix\", \"NC\", \"mumbai\", \"everywhere\", \"Berlin - Germany\", \"Buenos Aires, Argentina\", \"Somewhere Only We Know ?\", \"Minna, Nigeria\", \"Victoria, Australia, Earth\", \"Above the snake line - #YoNews\", \"EastCarolina\", \"Street of Dallas\", \"Emirates\", \"Cavite, Philippines\", \"london town..\", \"Dhaka, Bangladsh\", \"Sacae Plains\", \"Cymru araul\", \"Numenor\", \"Basking Ridge, NJ\", \"Louisville, KY \", \"Stanford University\", \"ill yorker\", \" Neverland \", \"Louavul, KY\", \"Oshawa, Canada\", \"AUSTRALIA-SOUTHAFRICA-CAMBODIA\", \"The Sun's Corona\", \"hyderabad\", \"PA, USA\", \"????? ???? ????\", \"Minority Privilege, USA\", \"Chorley, Lancashire, UK\", \"Punjab\", \"Inverness, Nova Scotia\", \"Hermitage, PA\", \"Geneva. And beyond. \", \"Australian Capital Territory\", \"lowestoft\", \"Hillsville/Lynchburg, VA\", \"a box\", \"Mostly Yuin.\", \"PH\", \"Jonesboro, AR MO, IOWA USA\", \"california mermaid ? \", \"us-east-1a\", \"Cuernavaca, Morelos, M\\u00cc\\u00a9xico.\", \" Blood Indian Reserve\", \"Fife, WA\", \"Storybrooke \", \"In the clouds...\", \"Hampton Roads, VA\", \"The Jewfnited State\", \"In the middle of no where\", \"Buxton, Venice, and Nottingham\", \"UK, Republic of Ireland and Australia\", \"Ottawa, Ontario\", \"Minneapolis, MN\", \"Stratford, CT\", \"Bombardment Bay\", \"Desert Storm?? |BCHS|\", \"NY Capital District\", \"Charleston, WV\", \"NEW YORK\", \"St. Louis, Mo\", \"Balikesir - Eskisehir\", \"South Florida\", \"Somewhere \", \"Americas Newsroom\", \"Somewhere Powerbraking A Chevy\", \"Pekanbaru\\u00e5\\u00a1Batam Island\\u00e5\\u00a1Medan\", \"Mountains\", \"Anywhere Safe\", \"Toronto, ON\", \"the own zone layer \", \"Montgomery County, MD\", \"Sheffield/Leeds\", \"Spokane, Washington\", \"Silang, Cavite / Para\\u00cc\\u00b1aque\", \"ELVY\", \"My heart is a ghost town!\", \"Duval, WV 25573, USA ?\", \"Shirley, NY\", \"IM LOST \", \"todaysbigstock.com\", \"Vancouver, Canada\", \"Alberta, VA\", \"www.youtube.com?Malkavius2\", \"Sandton, South Africa\", \"Huntington, WV\", \"Methville, CA\", \"Vidalia GA\", \"Tokyo & Osaka\", \"Astley, Manchester\", \"MD\", \"Dallas, Texas. \", \"Bossland\", \"Right here\", \"Dubai, United Arab Emirates\", \"World Wide!!\", \"Paris (France)\", \"Lancaster, CA\", \"Portage, IN / Worldwide\", \"Silvermoon or Ironforge\", \"Williamsbridge, Bronx, New Yor\", \"Rhode Island\", \"Waco, Texas\", \" 45\\u00e5\\u00a1 5'12.53N   14\\u00e5\\u00a1 7'24.93E\", \"Peterborough, On\", \"brooklyn, NYC\", \"Amsterdam & Worldwide\", \"Arnhem, the Netherlands\", \"NYC,US - Cali, Colombia\", \"indiana\", \"A.A.S my Aztec Princess\", \"MIchigan\", \"Birmingham & Bristol\", \"EGYPT\", \"lagos. Unilag\", \"Romania\", \"The Epicenter, and Beyond\", \"Some other mansion\", \"London \", \"i love the smurfs 2\", \"In the spirit world\", \"not so cool KY\", \"UPTOWN \", \"by a piano probably. \", \"Your Conversation\", \"Miami?Gainesville\", \"Antarctica\", \"11th dimension, los angeles\", \"McLean, VA\", \"Prehistoric Earth\", \"District 12 - Orange County\", \"Plano,TX\", \"The TARDIS\", \"Ziam af \", \"Chester \", \"Athens - Nicosia\", \"Mass\", \"Greenpoint, Brooklyn\", \"ca(NADA) \", \"Worcester, MA\", \"Atlanta, Georgia\", \"FILM OUT LATE 2015\", \"mi\", \"Chicagoland\", \"Vail Valley\", \"Abuja,Nigeria\", \"Mount Vernon, NY\", \"we?it \\u0089\\u00db\\u00a2 ixwin\", \"? icon by @Hashiren_3 ?\", \"1/3 of the blam squad \", \"Joshua Tree, CA\", \"Malang\", \"All Around the World\", \"Rome, Italy\", \"Philadelphia, Pennsylvania USA\", \"Savannah, GA\", \"\\u00cc\\u00cfT: 43.631838,-79.55807\", \"Canada Eh! \", \"Bacon\", \"The windy plains of Denver\", \"828??864??803\", \"Cimahi,West Java,Indonesia\", \"Ukraine and Ireland\", \"Guayaquil\", \"Atlanta, Ga\", \"xiumin's nonexistent solos\", \"they/her\", \"bk. \", \"sydney, australia\", \"MAURITIUS\", \"Piedmont Area, North Carolina\", \"nap queen\", \"|-/\", \"Nebraska, Colorado & The GLOBE\", \"philly \", \"FSC '19\", \"Corpus Christi\", \"Crato - CE \", \"Blackpool, England, UK.\", \"Richmond, VA\", \"2B Hindhede Rd, Singapore\", \"Saltillo, Coahuila de Zaragoza\", \"The Internet\", \" New England\", \"????s ?? ????\\u00cc\\u00f8????\\u00cc\\u00a1a\", \"International \", \"Aperture Science Test Facility\", \"From a torn up town MANCHESTER\", \"London, Riyadh\", \"Travelling around the world \", \"Phoenix, Arizona, USA\", \"in Dimitri's arms\", \"R'lyeh, South Pacific\", \"Lynnfield, MA\", \"Lima-Peru\", \"My subconscious\", \"Spain but Opa-Locka, FL\", \"Nevada, USA\", \"Chapel Hill, NC\", \"Philadelphia, PA USA\", \"V-RP @OZRP_ ?MV, AU, R18+?\", \"San Diego, California\", \"Phoenix Az\", \"Southern Maine\", \"L'Enfant Plaza Metro Station\", \"Own planet!!\", \"cognitive dissonance town\", \"Long Island\", \"USA , AZ\", \"Our Empire State\", \"california | oregon | peru |\", \"2 high 2 come down \", \"Carol Stream, Illinois\", \"Jersey Shore\", \"buhh\", \"Louisville, KY\", \"Eau Claire, Wisconsin\", \"Houston, TX  \", \"Los Angeles for now\", \"Warsaw\", \"Mid West\", \"GLOBAL/WORLDWIDE\", \"Alexandria, Egypt.\", \"Kensington, MD\", \"Azeroth\", \"Somewhere Around You\", \"#BossNation!\", \"VONT ISLAND, LAGOS\", \"Welt\", \"Back East in PA\", \"Ikeja, Nigeria\", \"Fiore, Lamia Scale\", \"i beg vines sorry \", \"Hemel Hempstead\", \"Dalston, Hackney\", \"Illinois\", \"Pomfret/Providence\", \"West Lancashire, UK.\", \"Boston, Massachusetts\", \"6\", \"Terre Haute, IN\", \"Gurgaon, Haryana. \", \"Carregado\", \"From NY. In Scranton, PA\", \"The barn\", \"dorito land\", \"Conroe, TX\", \"plymouth\", \"Washington DC / Nantes, France\", \"sweden\", \"Honeymoon \\u00cc\\u00a3ve.\", \"The Multiverse\", \"Chester, IL\", \"Dorset, United Kingdom\", \"Oakland, Ca\", \"London/Surrey \", \"phuket thailand\", \"San Diego, Texas.\", \"Tennessee/Gallifrey\", \"Griffin :3\", \"Miami\", \"Hyrule\", \"Santiago de Cmpostela Galicia\", \"Victoria, BC  Canada\", \"America | New Zealand \", \"Portsmouth, VA\", \"California or Colorado\", \"London, Sydney\", \"West Coast, USA\", \"south africa eastern cape\", \"Tring, UK\", \"The Great State of Maine \", \"204, 555 11 Ave. S.W.\", \"livin in a plastic world\", \"Kualar Lumpur, Malaysia\", \"Stockton on tees Teesside UK\", \"us\", \"Dappar (Mohali) Punjab\", \"Charlotte \", \"North East / Middlesbrough \", \"Greenville,SC\", \"Amsterdam | San Francisco\", \"East Aurora, NY\", \"Toronto-Citizen of Canada & US\", \"You're not 19 forever   \", \"Waverly, IA\", \"3.28.15|7.20.15|7.25.15\", \"\\u00cc\\u00cfT: 40.562796,-75.488849\", \"Bug Forest\", \"Queen Creek AZ\", \"the azure cloud\", \"Washington, Krasnodar (Russia)\", \"Orm\", \"victoria moz\\u00cc\\u00a3o \", \"Palma, Islas Baleares\", \"eBooks, North America\", \"New York 2099\", \"Brecksville, OH\", \"Ojodu,Lagos\", \"IRAQ\", \"{Detailed}\", \"K\\u00cc\\u00a6ln, Nordrhein-Westfalen\", \"Where I Need To Be\", \"Uruguay / Westeros / Gallifrey\", \"North-East Region, Singapore\", \"Sao Paulo\", \"louisville, kentucky\", \"Realville\", \"Long Eaton \\u00e5\\u00e1 Derbyshire \\u00e5\\u00e1 UK\", \"Saint Louis, Missouri\", \"Miami,FL\", \"Cosmic Oneness\", \"Alberta | Sask. | Montana\", \"Newcastle, England \", \"Greenwich Meridian\", \"Piedmont Triad, NC\", \"Attock\", \"statesboro/vidalia\", \"Orlando \", \"Medford, Oregon\", \"Sochi, KDA, RU\", \"Yewa zone\", \"All around the world\", \"?? Cloud Mafia ??\", \"Evergreen Colorado\", \"\\u00cc\\u00cfT: 36.142163,-95.979189\", \"NYC-LA-MIAMI\", \"The dark\", \"Franklin, TN near Nashville\", \"Harbour Heights, FL\", \"Quito, Ecuador.\", \"Ashland, Oregon\", \"[@blackparavde is my frankie]\", \"Atlanta - FAU class of '18\", \"??????????????\", \"Beaumont, TX\", \"Konoha Village\", \"Atlanta Georgia\", \"EARTH \", \"SD |Norway| KSA\", \"neil's kitchen  |  32215\", \"Ebola\", \"Fort Worth,  Texas \", \"Perth, Australia\", \"Atmosphere\", \"Olathe, KS\", \"In The Mansion\", \"Mexico City\", \"Cape Cod, Massachusetts USA\", \"The Triskelion\", \"Gaborone, Botswana\", \"wherever-the-fuck washington\", \"WORDLDWIDE\", \"probably the strip club\", \"facebook.com/tradcatknights\", \"Saudi Arabia\", \"cereal aisle #17:i4\", \"www.twitch.tv/PKSparkxx\", \"fluffy cloud\", \"Alicante, Spain\", \"Palestine Texas\", \"Eastbourne England\", \"(he/him)\", \"TechFish \", \"Two Up Two Down\", \"Bronx, New York\", \"Charlotte, N.C.\", \"Aro Diaspora\", \"Chatham, IL\", \"Aurora, IL\", \"The Howling\", \"RSN: Tru\", \"Tring \", \"Alicante, Valencia\", \"Alabama, USA\", \"Lincoln, IL\", \"Copenhagen, Capital Region of Denmark\", \"IL\", \"LIVERPOOL\", \"#UNITE THE BLUE  \", \"Park Ridge, Illinois\", \"BOSTON-LONDON\", \"Gotham City,USA\", \"KLA,Uganda\", \"\\u0089\\u00db\\u00a2901\\u0089\\u00db\\u00a2\", \"Raleigh (Garner/Cleveland) NC\", \"Thailand Malaysia Indonesia \", \"Srinagar,Kashmir\", \"Tripsburg, ms.\", \"di langit 7 bidadari (^,^ )\", \"Coconut Creek, Florida\", \"Amsterdam\", \"Manhattan\", \"Greeley, CO\", \"Fakefams\", \"Friendswood, TX\", \"Port Jervis, NY\", \"Spinning through time.\", \"taken by piper curda\", \"W.I.T.S Academy\", \"Wrex\", \"Wales, United Kingdom\", \"@protectingtitan's side.\", \"WORLDWI$E \", \"Fruit Bowl\", \"Ely, Cambridgeshire\", \"y(our) boyfriends legs \", \"LOCAL ATLANTA NEWS 4/28/00 - 4/28/15 FREELANCER\", \"Fresno, California\", \"Ottawa,Ontario Canada\", \"Zero Branco\", \"san gabriel la union\", \"Host of #MindMoversPodcast\", \"92\", \"Inside the Beltway (DC Area)\", \"Tractor land aka Bristol\", \"Pratt-on-Wye\", \"Somewhere in Spain\", \"Earth \", \"Fredonia,NY\", \"Hudson Valley, NY\", \"New South Wales, Australia\", \"toronto, ontario\", \"Spokane, Washington 99206\", \"Somewhere out there\", \"Wandsworth, London\", \"Wilbraham, MA\", \"somewhere in Indiana \", \"New Orleans, Louisiana\", \"Neath, South Wales\", \"North Carolina \", \"Canada \", \"Arlington, VA and DC\", \"walking the tightrope\", \"BILASPUR,CHHATTISGARH,495001\", \"Photo : Blue Mountains \", \"|| c h i c a g o ||\", \"My mind is my world\", \"Your Six\", \"Tucson, Az\", \"planet earth\", \"Chicago Area\", \"Hamilton, ON\", \"Sligo and Galway, Ireland\", \"Iliff,Colorado  \", \"Coventry, Rhode Island\", \"Wakefield, West Yorkshire\", \"Chiyoda Ward, Tokyo\", \"Riverview, FL \", \"Pluto\", \"Nelspruit, South Africa\", \"Maryland,Baltimore\", \"North\", \"Whitby, ON\", \"San Diego CA\", \"Sanganer, Rajasthan\", \"Speaking the Truth in Love\", \"Mpela'zwe \", \"qosqo\", \"New Jersey/ D.R.\", \"Hampshire, UK\", \"Kuala Lumpur\", \"Madisonville TN\", \"North Hastings Ontario\", \"Football Field\", \"southern california\", \"PARACHUTE\", \"Arlington, VA\", \"Upper manhattan, New York\", \"ur\\u00cc\\u00a3nus\", \"Baydestrian\", \"iPhone: -27.499212,153.011072\", \"taco bell\", \"'SAN ANTONIOOOOO'\", \"Fort Walton Beach, Fl\", \"SEA Server\", \"Abuja\", \"Over the Moon...\", \"Pontefract UK\", \"st.louis county missouri \", \"scumbernauld\", \"Chamblee, Georgia\", \"Trumann, Arkansas\", \"WORLD WIDE\", \"Ktx\", \"L/S/Z/L/T/H/C/H/R/A/S/C\", \"Houston \", \"Nakhon Si Thammarat\", \"Pocatello, Idaho\", \"music.\", \"Kingston, Pennsylvania\", \"CT, USA\", \"Kuwait \", \"Brighton and Hove\", \"West Wales\", \"Paranaque City\", \"Winnipeg, MB, Canada\", \"Storybrooke / The Moors\", \"Littleton, CO\", \"The Sanctuary Network, Rome\", \"Texas \", \"Kalimantan Timur, Indonesia\", \"Zeerust, South Africa\", \"Tampa-St. Petersburg, FL\", \"rural ohio (fuck)\", \"In #Fairie, where else? ;-)\", \"Baker City Oregon\", \"w. Nykae \", \"Paonia, Colorado \", \"Bristol, UK\", \"Viejo\", \"Rochester Hills, MI\", \"Newton Centre, Massachusetts\", \" New Delhi \", \"Tucson, Arizona \", \"Spain - China - Latin America.\", \"Hawthorne, NE\", \"Near Yosemite\", \"NY, CT & Greece\", \"tokyo\", \"White Plains, NY\", \"Atlantic Highlands, NJ\", \"Torrance, CA\", \"beijing .China\", \"Hamburg, DE\", \"Novi, MI\", \"cork\", \"Riverside, California.\", \"23 countries and counting!\", \"eating strawberry shitsickles\", \"watford\", \"somewhere outside\", \"Escondido, CA\", \"Hinterestland\", \"N. California USA\", \"LAGOS\", \"Melrose\", \"Dalkeith, Scotland\", \"Rotterdam, The Netherlands\", \"Austin\", \"bajaur\", \"Sheffield Township, Ohio\", \"Cypress, CA 90630\", \"Providence RI / Lisnaskea \", \"@cockerelshoes\", \"South Central Wales\", \"IN\", \"ANYWEHERE !!\", \"Click the link below, okay \", \"#goingdownthetoilet Illinois\", \"(RP)\", \"CORNFIELDS\", \"probably petting an animal\", \"Cardiff, Wales\", \"In a graveyard \", \"Fort Collins, CO\", \"Houma La\", \"beacon hills \", \"ANDY 4 LEADER X\", \"Homs- Syria\", \"houston\", \"DaKounty, Pa\", \"West Chester, PA\", \"The Internetz\", \"\\u0089\\u00db\\u00a25\\u0089\\u00db\\u00a212\\u0089\\u00db\\u00a214\\u0089\\u00db\\u00a2 | \\u00e5\\u00c8#SaviourSquad\\u00e5\\u00c7\", \"Bronx NYC / M-City NY\", \"Some pum pum\", \"Kuwait\", \"I O W A\", \"Watch Those Videos -\", \"Waialua, Hawaii\", \"South Korea GMT+9\", \"Proudly frozen Canuck eh !!\", \"Dublin\", \"Arthas US\", \"Wonderland\\u0089\\u00db\\u00d3 ?????? ???? ??????\", \"Austin/Los Angeles\", \"Nice places \", \"Slappin and Smackin \", \"Concord, N.C.\", \"Texas-USA\\u0089\\u00e3\\u00a2 ?\", \"toronto\", \"#937??#734\", \"Mostly Wellington, NZ \", \"Hartford,  connecticut\", \"Crouch End, London\", \"Orange County, Calif.\", \"have car; will travel\", \"? Jet Life ?\", \"Kentucky, USA\", \"London / Birmingham\", \"Broadview Heights, Ohio\", \"Largo, MD\", \"9/1/13\", \"NYC / International\", \"Just Happy to Be Anywhere\", \"The Kingdom of Fife, Scotland\", \"Linton Hall, VA\", \"Alexandria, VA, USA\", \"wherever there's netflix\", \"The shores of Lake Kilby\", \"Sugarhouse, UT\", \"Heinz Field \", \"seattle grace mercy death\", \"Land Of The Kings\", \"Brackley Beach, PE, Canada\", \"Terlingua, Texas\", \"Pacific Northwest\", \"Rhyme Or Reason?\", \"Amman, Jordan\", \"Elchilicitanierraversal \", \"Narnia, Maryland\", \"GREENSBORO,NORTH CAROLINA\", \"heccfidmss@gmail.com\", \"\\u00cc\\u00cfT: 27.9136024,-81.6078532\", \"Hame\", \"Queensland, Australia\", \"Inang Pamantasan\", \"Ventura, Ca\", \"East London. \", \"Asia Pacific   \", \"At Work\", \"One World\", \"Bathtub de Bett \", \"Jackson\", \"  Glasgow \", \"North Vancouver, BC\", \"USA \", \"Livingston, IL  U.S.A.\", \"Jeddah_Saudi Arabia.\", \"Long Island NY & San Francisco\", \"Also follow ?\", \"Halifax, NS, Canada\", \"316\", \"Proudly Canadian!\", \"Athens, Greece\", \"ATL ? SEA \", \"Planet Eyal, Shandral System\", \"cedar rapids ia\", \"Vancouver Canada\", \"Not Los Angeles, Not New York.\", \"central chazifornia\", \"Temporary Towers\", \"Plano, IL\", \"WorldWideWeb\", \"Cambridge, Massachusetts\", \"Greensboro, NC\", \"San Juan, Puerto Rico\", \"somewhere in Portugal\", \"Guatemala\", \"Hamilton, Ontario Canada\", \"Hammersmith, London\", \"Paris.\", \"3?3?7?SLOPelousas??2?2?5?\", \"Tema,Accra\", \"Madison, WI & St. Louis MO\", \"Lindenhurst\", \"Paname City\", \"kediri,,jawa timur\", \"winston-salem north carolina\", \"Henderson, NV\", \"Northern Ireland\", \"Salt Lake City, UT\", \"Swag Francisco\", \"santo domingo\", \"San Jose\", \"Magnolia, Fiore \", \"honeymoon avenue\", \"Aberdeenshire\", \"Surulere Lagos,Home Of Swagg\", \"Lake Highlands\", \"elizabeth king\", \"U.S.A. - Global Members Site\", \"Eddyville, Oregon 97343\", \"LA\", \"Jersey\", \"Hampshire UK\", \"alberta, canada\", \"#HAMont\", \"T\\u00cc\\u00c1chira - Venezuela\", \"England,UK,Europe,Sol 3.\", \"Palmyra, NJ\", \"Oneonta, NY/ Staten Island, NY\", \"Alaska, USA\", \"Wildomar, CA\", \"Chicago, but Philly is home\", \"Ibadan,Oyo state\", \"Columbus ?? North Carolina\", \"YA MOTHA BED\", \"Boston \\u0089\\u00db\\u00a2 Cape Cod ?\", \"USAoV\", \"The Shire\", \"#MadeInNorthumberland\", \"828/704(Soufside)/while looking goofy in NJ\", \"Konoha\", \"Spring Grove, IL\", \"Greg's place\", \"Marrakech M\\u00cc\\u00a9dina, Marrakech - Tensift - Al Haouz\", \"Hollywood\", \"dundalk ireland\", \"Saline, MI\", \"Jacksonville, FL\", \"Wellington\", \"NEPA/570\", \"lost in history\", \"Nunya\", \"Queens, NY\", \"NV\", \"Goa, India\", \"shoujo hell \", \"Not Of This World\", \"Garrett\", \"Norwalk, CT\", \"Brazos Valley, Texas\", \"#Bummerville otw\", \"Loading...\", \"AKRON OHIO USA\", \" Bouvet Island\", \" Indiana\", \"Cassadaga Florida\", \"Dayton, OH\", \"Esp\\u00cc_rito Santo\", \"Edinburgh, Scotland\", \"iamdigitalent.com\", \"DMV\", \"Sao Paulo, Brazil\", \"LONG ISLAND, NY\", \"Birmingham and the Marches\", \"Dunwoody, GA\", \"Kwajalein/Virginia/Dayton, OH\", \"#BlackLivesMatter\", \"Philadelphia, Pennsylvania\", \"KurveZ@GearHeadCentral.net\", \"Shady Pines \", \"Alameda and Pleasanton, CA\", \"94123\", \"OES 4th Point. sisSTAR & TI\", \"Johannesburg, South Africa \", \"Port Williams NS\", \"???????, Texas\", \"EARTH\", \"Bikini bottom\", \"Garden Grove\", \"Hartford, Connecticut\", \"London, Kent & SE England.\", \"Espoo, Finland\", \"lugo\", \"Loughborough, England\", \"Jubail IC, Saudi Arabia\", \"THE 6IX\", \"Suitland\", \"46.950109,7.439469\", \"#1 Vacation Destination,HAWAII\", \"In @4SkinChan 's arms\", \"Hueco Mundo\", \"The South & WestCoast \", \"UK,singer,songwriter,?2 act\", \"Midwest City, OK\", \"Bras\\u00cc_lia\", \"Orlando/Cocoa Beach, FL\", \"Kansas City, Mo.\", \"Anaheim\", \"Londonstan\", \"Durand, MI\", \"North Jersey\", \"Wema building\", \"New Haven, Connecticut\", \"Insula Barataria\", \"Home of the Takers.\", \"#LemonGang \", \"Houston, Texas\", \"Chicora ?? Oakland\", \"Burbank,CA\", \"Nashville, Tennessee\", \"British girl in Texas\", \"Chicago, IL \", \"London / Berlin / Online\", \"Jogja, Indonesia Slowly Asia\", \"Reddit\", \"Galatians 2:20 \", \"At your back\", \"Beirut/Toronto\", \"New Jersey, usually\", \"St. Joseph, Minnesota\", \"#NewcastleuponTyne #UK\", \"Ames, Iowa\", \"Htx\", \"Austin | San Diego\", \"ohio\", \"Henderson, Nevada\", \"SouthEast Asia\", \"Ankara - Malatya - ad Orontem\", \"Why should you know?\", \"Pueblo, CO\", \"Christchurch New Zealand\", \"Newcastle, OK\", \"In my own world!!!\", \"Miami, Florida\", \"Nottingham\", \"New York ? ATL\", \"khartoum sudan\", \"Charlottetown\", \"ATL??AL??\", \"in my head\", \"Boulder, CO\", \"Petaluma, CA\", \"Minneapolis/St. Paul\", \"Bon Temps Louisiana\", \"SOUTHERN CALIFORNIA DESERT\", \"miami x dallas \", \"Kajang ? UiTM Puncak Alam\", \"Livingston, MT\", \"Cardiff, UK\", \"Sicamous, British Columbia\", \"Detroit, Michigan\", \"\\u00cc\\u00cfT: 42.910975,-78.865828\", \"Fresno\", \"Sharkatraz/Bindle's Cleft, PA\", \"East Kilbride\", \"Porthcawl\", \"Pro-American and Anti-#Occupy\", \"Stowmarket\", \"Tacoma,Washington\", \"japon\", \"Bay Area, CA\", \"Coimbatore\", \"Oxford, OH\", \"Dutch/English/German\", \"Overland Park, KS\", \"SoCal\", \"Manchester UK\", \"Where the money at\", \"Nairobi , Kenya\", \"2,360 miles away\", \"Port Orange, FL\", \"Kalamazoo, Michigan\", \"M!A: None\", \"Grimsby, England\", \"Nairobi, Kenya \", \"New Brunswick, NJ\", \"Headed To The Top\", \"Kirkwall\", \"melbourne\", \"bangalore\", \"S\\u00cc\\u00a3o Paulo, Brasil\", \"BC\", \"Bangalore\", \"Chester Football Club\", \"Principality of Zeron\", \"Windsor,Ontario\", \"Saint Marys, GA\", \"dmv ?? fashion school @ KSU. \", \"eARth 3\", \"Portoviejo-Manabi-Ecuador\", \"Denver Colorado. Fun Times\", \"Indiana, USA\", \"Shelby County\", \"Kawartha Lakes, Ontario, Canad\", \"boston\", \"Wilmington, Delaware\", \"Hustletown\", \"africa\", \"az\", \"Lincoln City Oregon\", \"germany\", \"Bangalore, INDIA\", \"on the go\", \"Broomfield, CO\", \"Adelaide\", \"St. John's, NL, Canada\", \"Bow, NH\", \"NAIROBI  KENYA \", \"Himalayan Mountains\", \"Winston Salem, North Carolina\", \"Perthshire \", \"International Action\", \"London/Outlaw Country \", \"United States where it's warm\", \"Shity land of Northern Ireland\", \"Ciudad Aut\\u00cc_noma de Buenos Aires, Argentina\", \"Not Steven Yeun / AMC.\", \"A sofa\", \"Enterprise, NV\", \"Tucson, AZ\", \"columbus ohio\", \"518 \\u00e5\\u00e1 NY\", \"2005 |-/\", \"A Hoop Somewhere\", \"T-Ville\", \"GrC Founder, 8,000 Subscribers\", \"State College, Pa\", \"Hickville, USA\", \"Co. Tyrone Northern Ireland\", \"Benedict College\", \"Gettysburg, PA\", \"instagram- Chloe_Bellx\", \"Daruka (near Tamworth) NSW\", \"LITTLETON, CO, USA, TERRAN\", \"Sylacauga, Alabama\", \"Wiltshire\", \"Quezon City, Philippines\", \"buenos aires argentina\", \"Saipan, CNMI\", \"Las Vegas, NV\", \" Somewhere.\", \"Fairfield, California\", \"Mumbai (India)\", \"Sutton, London UK\", \"Le Memenet\", \"Cobblestone\", \"Coasts of Maine & California\", \"Anderson, SC\", \"Statute Of Limitations_\", \"Nomad, USA\", \"marysville ca \", \"Based out of Portland, Oregon\", \"Clearwater, FL\", \"IJmuiden, The Netherlands\", \"#WhereverI'mAt\", \"State of Georgia\", \"U.S. Northern Virginia\", \"Earth, Milky Way, Universe\", \"Lima, OH\", \"PROUD INDIANS\", \"Paulton, England\", \"Surrey & Manchester\", \"St. Louis, Missouri\", \"10 Steps Ahead.  Cloud 9\", \"Spring Tx\", \"Hertfordshire \", \"City of Angels, CA\", \"Warrandyte, Australia\", \" Miami Beach\", \"Washington, DC NATIVE\", \"Lucknow, India\", \"Napa, CA\", \"Somewhere else...\", \"Santa Clara, CA\", \"Grand Rapids MI\", \"liverpool \", \"Whippany, NJ\", \"Jerseyville, IL\", \"NEWCASTLE\", \"@potteratthedisc\", \"Innsmouth, Mass.\", \"Weston super mare\", \"Sunshine Coast, Queensland\", \"Iowa, USA\", \"North London\", \"LA ??\", \"Darlington\", \"Hensley Street, Portland\", \"Dicky Beach\", \"lrhcthband;four - bournemouth\", \"#GDJB #ASOT\", \"Boksburg\", \"Rockford, IL\", \"NJ/NYC\", \"JamDung\", \"Edmonton, Alberta\", \"Albany/NY\", \"am everywhere\", \"peshawar pakistan \", \"Lahore\", \"WORLDWIDE-BOSTON\", \"Bloomington, IN\", \"POFFIN\", \"dreamy lake\", \"CHICAGO (312)\", \"Beside Basketball\", \"CHICAGO\", \"CA, AZ & NV\", \"Lowell, MA\", \"Near Warrington\", \"Swindon,England \", \"Gotham\", \"Harris County, Texas\", \"Roads/Trails Everywhere\", \"Hampstead, London.\", \"Notts\", \"IG : Sincerely_TSUNAMI\", \"#keepthefaith J&J\", \"nbc washington\", \"Malaysia/Jordan\", \"Sumter, SC\", \"Finland\", \"wrapped arnd hyuk's finger\", \" ? ??????? ? ( ?? \\u00e5\\u00a1 ? ? ? \\u00e5\\u00a1)\", \"taking pain like pleasure\", \"houstn\", \"Scotts Valley, CA\", \"Detroit, MI, United States\", \"Ohio\", \"it's a journey \", \"Nevada (wishing for Colorado)\", \"We are global!\", \"Poconos\", \"Halifax, Nova Scotia\", \"Manchester, The World, England\", \"Penn Hills, PA\", \"Kernow\", \"taking bath do not disturb\", \"\\u00e5\\u00a1\\u00e5\\u00a1Midwest \\u0089\\u00db\\u00a2\\u0089\\u00db\\u00a2\", \"Keighley, England\", \"Use #TMW in tweets get #RT\", \"North America\", \"Beit El - Israel\", \"??9?\", \"Cottonwood Arizona\", \"Bedford, England\", \" Little Rock, AR\", \"sindria\", \"\\u00cc\\u00cfT: 6.488400524109015,3.352798039832285\", \"Sugar Land, TX\", \"Maharashtra\", \"17th Dimension\", \"Lima, Peru\", \"Marysville, MI\", \"?Gangsta OC / MV RP; 18+.?\", \" ?currently writing a book?\", \"Vancouver, Colombie-Britannique\", \"iTunes - RSS\", \"Auburn \", \"Eastern Iowa\", \"U.S.A and Canada\", \"Camberwell, Melbourne\", \"Contoocook Valley Region of Ne\", \"Alberta Pack\", \"Eaubonne, 95, France\", \"Pennsylvania, PA\", \"LFC x GSW\", \" Alex/Mika/Leo|18|he/she/they\", \"University of Toronto\", \"?205?478?\", \"#iminchina\", \"Stay Fly?\", \"Bangkok\", \"Paris, France\", \"Gloucestershire , UK\", \"St Louis, MO\", \"Espa\\u00cc\\u00b1a - Spain - Espagne\", \"Alameda, CA\", \"Fashion Heaven. IG: TMId_\", \"Louisiana, USA\", \"Quilmes , Arg\", \"Concord, CA\", \"Melton, GA\", \"South, England\", \"Bartholomew County, Indiana\", \"SE London(heart is by the sea)\", \"Aix-en-Provence, France\", \"Monterrey, M\\u00cc\\u00a9xico\", \"INDIA\", \"MUM-DEL\", \"THE WORLD T.G.G / M.M.M \", \"Pembroke NH\", \"Sunny South florida \", \"IG/SC:bjfordiani\", \"Redondo Beach, CA\", \"Catskills\", \"Anywhere\", \"Huber Heights, OH\", \"Brasil, Fortaleza ce\", \"chicago\", \"Rochelle, GA\", \"#RedSoxNation\", \"In Space\", \"5-Feb\", \"Rochester, NY\", \"Toronto, ON, Canada\", \"Team Slytherin\", \"Jersey City, New Jersey\", \"Davao City\", \"?semekeepschanging@soyeh?\", \"Berlin, NY, DC, Malibu\", \"East TN.\", \"Innerhalb der L\\u00cc_cke\", \"Right next to Compton\", \"Kabul, Tuebingen, Innsbruck\", \"Burlington, VT\", \"Haarlem\", \"Vit\\u00cc_ria (ES)\", \"Royton\", \"Thornton  Colorado\", \"Scottsdale, AZ\", \"New Jersey, USA\", \"Trapped in my Conscience \", \"Brisbane.\", \"?????????????, Thailand \", \"Victorville, CA\", \"50% Queanbeyan - 50% Sydney\", \"Dreieich, Germany\", \"Los Angles, CA\", \"\\u00cc\\u00f8\\u00e5\\u00c0\\u00e5_T: 40.736324,-73.990062\", \"USA/SO FLORIDA via BROOKLYN NY\", \"Kenosha, WI 53143\", \"The Meadow\", \"$ad $hawty\", \"ACCRA GHANA\", \"Argus Industries \\\\m/666\\\\m/\", \"www.tmgcgart.com\", \"Rogersville, MO\", \"Wakefield MA\", \"BKI-KUA\", \"Here, there and everywhere\", \"somewhere over a rainbow\", \"cigarknub@gmail.com\", \"Frisco, TX\", \"Charleston, SC\", \"A small federal enclave\", \"Missouri, USA\", \"Nanaimo, BC, Canada\", \"#freegucci\", \"Suginami-ku, Tokyo, Japan\", \"Loughton, Essex, UK\", \"Fukuoka, Japan\", \"Lebanon, Tennessee\", \"Richardson TX\", \"SF Bay Area, California / Greater Phoenix, AZ\", \"whs '17\", \"Reston, VA, USA\", \"right next to you\", \"PunPunl\\u00cc\\u00a2ndia\", \"NJ/NY/NM/NE/ND\", \"Tamworth\", \"Saint Lucia\", \"Skyport de la Rosa\", \"17-Feb\", \"kissimmee,fl.\", \"Fort Walton Beach, FL\", \"Fukushima city Fukushima.pref\", \"Wisconsin, USA\", \"Bournemouth, Dorset, UK\", \"Hogwarts\", \"AFRICA\", \"TonyJ@Centralizedhockey.com\", \"St PetersburgFL\", \"Fort Lauderdale, FL\", \"Layang-Layang, Perak\", \"Jaipur, India\", \"Black Canyon New River, AZ\", \"PSA Nursing \", \"lia\\u0089\\u00db\\u00a2dani\\u0089\\u00db\\u00a2laura\", \"The Desert\", \"\\u00e5\\u00ca(?\\u0089\\u00db\\u00a2`?\\u0089\\u00db\\u00a2\\u00e5\\u00ab)??\", \"City of London, London\", \"Melbourne, Australia.\", \"Uganda\", \"Reading a romance novel\", \"Netherlands\", \"Kelowna, BC\", \"Washington, D.C., area\", \" BC, US, Asia or Europe.\", \"Books Published, USA\", \"golborne, north west england.\", \"518\", \"Giddy, Greenland\", \"Johannesburg \", \"New York, United States\", \"Bulgaria\", \"nj\", \"'soooota\", \"Based in CA - Serve Nationwide\", \"Fountain Valley, CA\", \"The Harbinger.\", \"#WashingtonState #Seattle\", \"Akure city in ondo state \", \"Somerset, UK\", \"An eight-sided polygon\", \"Memphis, in the Tennessees\", \"\\u0089\\u00db\\u00a2III.XII.MMXI\\u0089\\u00db\\u00a2\", \"the Refrigerator \", \"Corpus Christi, Texas\", \"Albuquerque\", \"Colorado, USA\", \"Rapid City, South Dakota\", \"Trackside California\", \"Thane\", \"Waco TX\", \"Tarragona\", \"Austin TX\", \"St.Cloud, MN\", \"Twitterville\", \"Dallas, Tejas\", \"russia\", \"Mysore, Karnataka\", \"Southern Califorina\", \"Eugene, Oregon\", \"Pittsburgh PA\", \"Mumbai, India\", \"Clayton, NC\", \"Pune, Maharashtra\", \"Hermosa Beach, CA\", \"New York Brooklyn\", \"FCT, Abuja \", \"calgary,ab\", \"NYC, New York\", \"Miami Beach, Fl\", \"Birmingham UK\", \"moss chamber b\", \"middle eastern palace\", \"Galveston, Texas\", \"Flipadelphia\", \"Traverse City, MI\", \"Killafornia made me \", \"Derry, 17 \", \"See the barn of bleakness\", \"CLVLND\", \"772 Temperance Permenence\", \"Free State, South Africa\", \"Dakar\", \"The Memesphere\", \"jayankondacholapuram.tamilnadu\", \"Rockland County, NY\", \"21 | PNW\", \"3rd Eye Chakra\", \"South Pasadena, CA\", \"? Philly Baby ?\", \"Cochrane, Alberta, Canada\", \"Lynwood, CA\", \"Freeport Ny\", \"Starling City\", \"Aurora, Ontario \", \"keli x\", \"NAWF SIDE POKING OUT \", \"Here, unless there.  \", \"washington, d.c.\", \"England \", \"Bay Area\", \"Conversing In Janet's Caf\\u00cc\\u00ac\", \"US, PA\", \"the moon\", \"Gidi\", \"ARBAILO\", \"#ODU\", \"Semarang, Indonesia\", \"Victoria, Canada\", \"Silesia, Poland\", \"D(M)V  \", \"?????? ???? ??????\", \"dubai \", \"Greenfield, Massachusetts\", \"high way 99\", \"right here\", \"MNL\", \"Australia \", \"New Chicago\", \"Lehigh Valley, PA\", \"ATX\", \"Every where\", \"nj/ny\", \"Kodiak, AK\", \"Overton NV\", \"Stalybridge, Tameside\", \"austin tx\", \"Rafael castillo\", \"Rheinbach / Germany\", \"[ Blonde Bi Fry. ]\", \"toledo\", \"ALWAYS DYING NEVER RESTING\", \"labyrinthia\", \"Catalonia, Spain\", \"at my home\", \"Lytham St Anne's \", \" snapchat // fvck_casper \", \"The Grey Area\", \"NC || OR\", \"Utah, USA\", \"I ACCEPT SONG REQUESTS\", \"Centurion \", \"Lynchburg, VA\", \"Rio\", \"Earth: Senseless nonsense\", \"Unnamed City\", \"US: 44.414510,8.942499\", \"Adventuring in Narnia\", \"Barcelona, Spain\", \"Center for Domestic Preparedness\", \"cyprus\", \"UK Great Britain \", \"Gloucester, MA\", \"Uyo, Akwa Ibom State, Nigeria\", \"Ile-Ife,Osun state, Nigeria\", \"southwest, Tx\", \"In my studio\", \"Winter Park, Colorado\", \"Dimapur\", \"Wolverhampton\", \"Horsemind, MI\", \"Oxford / bristol\", \"Haiku, Maui, Hawaii\", \"10-Jul\", \"WASHINGTON,DC\", \"Brizzle City !\", \"snapchat~ maddzz_babby \", \"\\u00cc\\u00cfT: 40.707762,-74.014213\", \"San Mateo County, CA\", \"Madison, Wisconsin, USA\", \"North Port, FL\", \"Fountain City, IN \", \"North Memphis/Global Citizen\", \"Gages Lake, IL\", \"NOLA ?? TX\", \"Brentwood, NY\", \"Los Angeles,CA, USA\", \"?^\\u00e5\\u00e1??\\u00e5\\u00e1?^?? ??\", \"EastAtlanta ??#WestGeorgia'18\", \"Auburn, AL\", \"Here & There\", \"Frome, Somerset, England\", \"Wailuku, Maui\", \"El Dorado, KS\", \"buffalo / madrid / granada\", \"Leeds, U.K.\", \"Brisbane Australia\", \"\\u00e5_\\u00e5_Los Mina City\\u0089\\u00e3\\u00a2\", \"Killa Hill, CO\", \"Higher Places\", \"Selangor\", \"Bangkok Thailand\", \"Hollywood, CA\", \"FIMAK A.S Ist Bolge Muduru\", \"Somewhere between Chicago & Milwaukee\", \"52.479722, 62.184971\", \"Amazon Seller , Propagandist\", \"Saskatchewan, Canada\", \"Melbourne, Florida\", \"Toledo, OH\", \"ava\", \"mpls. \", \"ilford\", \"New York - Connecticut\", \"Scotland \", \"Shanghai\", \"The Great State of Texas\", \"Jaipur, Rajasthan, India\", \"Swan River\", \"18 \\u0089\\u00db\\u00a2 CC\", \"CLT\", \"Savage States of America\", \"Asia European Continent Korea \", \"infj \", \"Frankfort, KY\", \"Rocketing through the galaxy\", \"Somewhere in China.\", \"Hinton, W.Va.\", \"glasgow\", \"Buffalo NY\", \"Houston |??| Corsicana\", \"Im In Route \", \"NIFC\", \"Texas af\", \"In Your Notifications \", \"London, Greater London, UK\", \"Ellensburg to Spokane\", \"Namjoon's pants\", \"m3, k, a, d\", \"The D\", \"big boy \\u0089\\u00db\\u00a2 0802\", \"Head Office: United Kingdom\", \"Northern Colorado\", \"Leitchfield Kentucky\", \"San Francisco , CA\", \"Freeport IL. USA\", \"Kwara, Nigeria\", \"Zac Newsome loves me\", \"Moore, OK\", \"h+l\", \"West Coast, Cali USA\", \"PG County, MD\", \"HOMRA.\", \"Florida USA\", \"Regalo Island\", \"Big NorthEast Litter Box\", \"Fredericksburg, Virginia\", \"probably watching survivor\", \"Aracaju - Sergipe\", \"  News\", \"The Pumpkin Carriage of Dreams\", \"Downtown Churubusco, Indiana\", \"Boulder\", \"Palm Bay, FL (Kissimmee)\", \"Norf Carolina\", \"Va Beach, Virginia\", \"WAISTDEEP, TX\", \"3???2???????\", \"1/10 Taron squad\", \"Shrewsbury\", \"Kamloops, BC\", \"South Bloomfield, OH\", \"[ kate + they/them + infp-t ]\", \"New Jersey \", \"Chester\", \"Sale, England\", \"Forging my Story\", \"US-PR\", \"Varanasi\", \"Peoria\", \"sitting on Eddie Vedders lap,\", \"home \", \"Soul Somalia/Body Montreal\", \"gaffney, sc \", \"Moscow, Russia\", \"Proud @BuckMasonUSA supporter!\", \"UGA '15 Alumnus - Economics \", \"Utica NY\", \"Pontevedra, Galicia\", \"U.S.\", \"CA ??DC\", \"Colonial Heights, VA\", \"Scituate, MA\", \"Lexington\", \"Columbia Heights, MN\", \"?s????ss? a?????\", \"Eastlake, OH\", \"Chandler, AZ\", \"NH via Boston, MA\", \"Greensburg, PA\", \"instagram: bribriony\", \"Rural Northern Nevada\", \"PROV\", \"Wild Wild Web\", \"Dundas, Ontario\", \"Sacramento, California\", \"Ondo\", \"Makai\", \"United Kingdom,Fraserburgh\", \"All around the world!\", \"Islamabad\", \"ny\", \"Manila\", \"Florida but I wanna be n Texas\", \"Leeds, United Kingdom\", \"nearest trash can \", \"nashville, tn \", \"Nirvana\", \"WestEnd, Puritan Ave \", \"Georgia, U.S.A.\", \"Shah Alam,Malaysia\", \"Pueblo, Colorado\", \"London/Lagos/FL \\u00cc\\u00cfT: 6.6200132,\", \"Tafekop Ga-Matsepe\", \"Inglewood, CA\", \"Cimerak - Pangandaran\", \"Freddy Fazbears pizzeria\", \"btwn a rock and a hard place\", \"Des Moines, Iowa \", \"Bandar Lampung, Indonesia\", \"Colorado/WorldWide\", \"Jonesboro, Arkansas USA\", \"Viterbo BFA Acting '18\", \"Scottsdale. AZ\", \"Metro Manila\", \"Gander NF\", \"Me mammy's belly\", \"\\u00cc\\u00cfT: 1.50225,103.742992\", \"Murray Hill, New Jersey\", \"South east of U.K\", \"Wrigley Field\", \"La Grange Park, IL\", \"Devon/London \", \"marvel | books | hp | tmr\", \"Live4Heed??\", \"Lakewood, Tennessee\", \"Diamondville\", \"Bayonne, NJ\", \"Area 8 \", \"#EngleWood CHICAGO \", \"Tornado Alley, USA \", \"pettyville, usa\", \"Reality\", \"EVERYWHERE\", \"sneaking glances at Thancred\", \"Funtua, Nigeria\", \"EveryWhere\", \"Houston, Texas ! \", \"Estados Unidos\", \"Rockville, Maryland\", \"Melbourne, FL\", \"Colombo,Sri Lanka.\", \"North West England UK\", \"Geneva, Switzerland\", \"Charlotte County Florida\", \"London, United Kingdom\", \"ColoRADo\", \"Every Where in the World\", \"Cuttack, Orissa\", \"Hartford  London Hong Kong\", \"my deli\", \"EIU  Chucktown/LaSalle IL\", \"eritrean\", \"Kokomo, In\", \"#MayGodHelpUS\", \"bahstun/porta reeko\", \"Anna Maria, FL\", \"Santo Domingo Alma Rosa \", \"Orange County, CA\", \"COMING SOON\", \"Las Vegas aka Hell\", \"NYC metro\", \"Marbella. Spain\", \"Searching for Bae \", \"SWinfo@dot.state.al.us\", \"she/her/your majesty/empress\", \"Playa\", \"The Weird Part of Wonderland\", \"Bremerton, WA\", \"Vermont, USA\", \"Ad Majorem Dei Glorium\", \"Brum/Lestah \", \"i'm a Citizen of the World\", \"Peterborough, Ont.\", \"Chicago,Illinois\", \"?? ??\", \"call me peach or sam lo\", \"Deadend, UK\", \"Wausau, Wisconsin\", \"Macon, Georgia\", \"Far Away From Home\", \"Dammam- KSA\", \"???????, ??'??????\", \"Sunrise Manor, NV\", \"Caserta-Roma, Italy \", \"Plano, Texas\", \"Palm Desert, CA\", \"21, Porto\", \"garowe puntland somalia\", \"Like us on Face \", \"prob turning up with sheen\", \" Tropical SE FLorida\", \"UK & Ibiza\", \"Caracas, Venezuela.\", \"USA, WA\", \"PSN: Pipbois \", \"Karachi \", \"Calgary,AB, Canada\", \"OK\", \"Waterford MI\", \"Li\\u00cc\\u00acge\", \"http://twitch.tv/jcmonkey\", \"Paradise, NV\", \"BIG D  HOUSTON/BOSTON/DENVER\", \"253\", \"Charleston S.C.\", \"1648 Queen St. West, Toronto.\", \"England.\", \"Official Website\", \"Somecity, Somerset, MD\", \"Suva, Fiji Islands.\", \"Milton keynes\", \"Sioux Falls, S.D. \", \"Portsmouth, UK\", \"Oxford, MS\", \"Score Team Goals Buying @\", \"DC Metro area\", \"my house\", \"Here there and everywhere\", \"[marvel\\u0089\\u00db\\u00a2dragon age\\u0089\\u00db\\u00a2wicdiv]\", \"Benton City, Washington\", \"VCU\", \"State of Dreaming\", \"oklahoma\", \"seoul\", \"Under Santa Barbara Skies\", \"pissing off antis\", \"Tampa, Fl\", \"Nicoma Park, OK\", \"belleville\", \"Brazil \", \"Ljubljana, Slovenia\", \"Chicago Heights, IL\", \"Hearts & Minds\", \"where I'm supposed to be\", \"Coventry, UK\", \"ITALY\", \"Los Angeles... CA... USA\", \"Espa\\u00cc\\u00b1a, Spain\", \"San Fransokyo\", \"timeline kamu\", \"Medell\\u00cc_n, Antioquia\", \"AUS\", \"South West, England\", \"Inside your mind.\", \"Bishops Lydeard, England\", \"staggering on tenement roofs\", \"The Windy City\", \"Sheff/Bangor/Salamanca/Madrid\", \"Greenpoint\", \"LA - everywhere\", \"Thrissur\", \"Timaru District, New Zealand\", \"Bellevue NE\", \"Chicago, IL 60607\", \"peekskill. new york, 10566 \", \"IG: AyshBanaysh\", \"Sunnyvale, CA\", \"\\u00e5\\u00f8\\\\_(?)_/\\u00e5\\u00f8\", \"Unites States\", \"Lima, Ohio\", \"Paris \", \"Durham N.C \", \"Land of Lincoln\", \"Docker container\", \"i luv raquel\", \"Avon\", \"Liberty Lake, WA\", \"Sevier County.\", \"Some Where in this World\", \"July 11th, 2015. ?\", \"Weyburn\", \"USA, Haiti, Nepal\", \"Russia\", \"Somewhere between here & there\", \"KOLKATA\", \"627\", \"don't run\", \"M\\u00cc\\u00a9xico D.F.\", \"V\\u00cc_ster\\u00cc\\u00b4s, Sweden\", \"PURPLE BOOTH STUDIO\\u0089\\u00e3\\u00a2\", \"-6.152261,106.775995\", \"261 5th Avenue New York, NY \", \"Hagerstown, MD\", \"lost in my thoughts\", \"Light and dark, form and void\", \"Asheboro, NC\", \"Vancouver, BC.\", \"Yellowknife\", \"Helsinki, Finland\", \"im definitely taller than you.\", \"PS4, now stop asking\", \"London.\", \"CT & NY\", \"Waddesdon\", \"Milton Keynes, England\", \"Espa\\u00cc\\u00b1a\", \"Dil's Campsite\", \"West Hollywood\", \"Chippenham/Bath, UK\", \"Athens,Greece\", \"\\u00cc\\u00cfT: 41.252426,-96.072013\", \"everywhere \", \"toronto \\u0089\\u00db\\u00a2 dallas\", \"Leeds, UK\", \"Lethbridge, AB, Canada\", \"I'm standing behind you\", \"Hyderabad Telangana INDIA\", \"Chappaqua NY and Redlands CA\", \"Queens New York\", \"U.S.A.   FEMA Region 5\", \"Maryland, USA\", \"Tn\", \"Milton/Tallahassee\", \"@notoriousD12\", \"Cambridge, MA\", \"East Atlanta, Georgia\", \"Cyprus\", \"Montgomery, AL\", \"L. A.\", \"he/him or she/her (ask)\", \"Elk Grove, CA, USA\", \"wisco\", \"412 NW 5th Ave. Portland OR\", \"Cheshire. London. #allover\", \"{GoT | Modern AU | Lizz}\", \"new york, ny\", \"Lubbock, TX\", \"North West London\", \"Abuja, Nigeria\", \"Oldenburg // London\", \"S\\u00cc\\u00a3o Paulo SP,  Brasil\", \"hertfordshire.\", \"FOLLOWS YOU everywhere you go\", \"Pon Di Gully\", \"South of D.C.\", \"Camaqu\\u00cc\\u00a3/Pelotas\", \"Amarillo\", \"ECSU16\", \"Santiago de Chile\", \"CT ? NYC\", \"elena's bed // info on link\", \"jersey \", \"Los Angeles, London, Kent\", \"Okanagan Valley, BC\", \"InterplanetaryZone\", \"seattle wa\", \"Warszawa\", \"Santa Maria, CA\", \"Hawaii\", \"Hailing from Dayton \", \"Montr\\u00cc\\u00a9al, Qu\\u00cc\\u00a9bec\", \"V\\u00cc_a L\\u00cc\\u00c1ctea\", \"Chicopee MA\", \"between ideas & 3-5pm AEST\", \"?? ?+254? ? \\\\??\\u00e5\\u00a1_??\\u00e5\\u00a1_???\\u00e5\\u00a1_?/??\", \"Selena | Britney | Hilary\", \"Frostburg\", \"Lancaster, Pennsylvania, USA\", \"St. Louis Mo.\", \"Jackson TN\", \"Bishops Stortford, England\", \"yorkshire\\n\", \"Polmont \", \"Atlanta(ish), GA\", \"We're All Mad Here\", \"Jersey City, NJ\", \"Cascadia\", \"LiVE M\\u00cc\\u0081S\", \"youtube.com/channel/UCHWTLC9B4ZjUGh7yDlb55Iw\", \"Bristol\", \"Worldwide - Global\", \"Bahrain\", \"Montana \", \"Groningen, Netherlands, Europe\", \"West Africa\", \"Lancashire, United Kingdom\", \"Serva Fidem\", \"www.facebook.com/stuntfm\", \"Internet\", \"Central Coast, California\", \"@UntmdOutdoors #T.O.R.K \", \"Hughes, AR\", \"somewhere too cold for me\", \"Unite. Bless. Wallahi \", \"PLFD cuh..\", \"Around the world\", \"West Hollywood, CA\", \"fujo garbage heaven \", \"come here in 20 minutes for an ass kicking\", \"Woosley\", \"oman muscat al seeb \", \"??? ??? ????? ??? ???.\", \"Western Washington\", \"Fairy Tail! \", \"Orlando\", \"Georgia ? Tennessee\", \"The Waystone Inn\", \"with Doflamingo\", \"canberra\", \"No ID, No VOTE!!!\", \"Essex/Brighton\", \"????????????\", \"I rap to burn shame.\", \"Skyhold\", \"Queensland\", \"Live Oak, TX\", \"Danbury, CT\", \"lagos nigeria\", \"Surry Hills, Sydney\", \"18 | 509 \", \"South 37\", \"Elsewhere, NZ\", \"Republica Dominicana\", \"AEP\", \"mnl\", \"Purgatory, USA\", \" Eugene, Oregon\", \"Huntsville AL\", \"#otrakansascity\", \"Marietta, GA\", \"Canberra, Australian Capital Territory\", \"Bozeman, Montana\", \"In the Shadows\", \"Okuma Town, Fukushima\", \"Fort Calhoun, NE\", \"Colchester Essex \", \"Tipperary (Long Way) \", \"Nadiad ,Gujarat , India!!\", \"italy\", \"Your Sister's Bedroom\", \"KSU 2017\", \"??+ ... ??+\", \"global\", \"Bloomington, Indiana\", \"PDX\", \"Minneapolis,MN,US\", \"Concord, NH \", \"Vancouver (HQ) and worldwide\", \"Huntley, IL\", \"United Hoods of the Globe\", \"Vista, CA\", \"Banbridge\", \"Otsego, MI\", \"sitting on the fence, New York\", \"\\u0089\\u00db\\u00a2OlderCandyBloom\\u0089\\u00db\\u00a2\", \"Chennai\", \"on twitter\", \"Dorset, UK\", \"Vineyard\", \"DC, frequently NYC/San Diego\", \"876 Jamrock.\", \"Mackem in Bolton\", \"Pune, mostly \", \"Earthling (For now!)\", \"#PhanTrash\", \"ljp/4\", \"Guildford, UK\", \"Indonesia\\n\", \"atlanta\", \"Chiswick, London\", \"I Heard #2MBikers\", \"Sherwood, Brisbane, Australia\", \"Norwich\", \"Somewhere\", \"kisumu\", \"Chattanooga TN\", \"Baton Rouge\", \"back in japan ??????????\", \"Aztec NM\", \"Porto Alegre, Rio Grande do Sul\", \"In a crazy genius mind\", \"Pensacola, FL\", \"Visit our  dedicated website @\", \"planeta H2o\", \"antoine fisher \", \"Waterfront\", \"801 SL,UT\", \"Not where I want to be, yet\", \"Lansing, Michigan\", \"#Gladiator \\u0089\\u00db\\u00a2860\\u0089\\u00db\\u00a2757\\u0089\\u00db\\u00a2\", \"s\\u00cc\\u00a3o luis\", \"//RP\\\\ ot @Mort3mer\\\\\\\\\", \"Detroit Tigers Dugout\", \"West Vancouver, B.C.\", \"#partsunknown\", \"Enterprise, Alabama\", \"Peshawar\", \"ayr\", \"a feminist, modernist hag.\", \"Everett, WA\", \"WORLDWIDE!\", \"Mooseknuckle, Maine\", \"aggressive cannoli eater \", \"Spying on your thoughts\", \"Fort Worth, Texas\", \"Ormond By The Sea, FL\", \"Kauai, Hawaii\", \"Croydon\", \"On a beach \", \"Arvada, CO\", \"Mars\", \"N?? Y???.\", \"Greater Manchester, UK\", \"Afghanistan, USA\", \"Displaced Son of TEXAS!\", \"San Antonio-ish, TX\", \"Ted&Qz Inc, Ireland, Europe\", \"Island Lake, IL\", \"???? ???????\", \"Bushkill pa\", \"Cameroon\", \"Kenton, Ohio\", \"Robin Hood's County \", \"Wyoming, MI (Grand Rapids)\", \"Eagle River Alaska\", \"505 W. Maple, Suite 100\", \"District of Gentrification/ DC\", \"Havenford\", \"Mogadishu, Somalia\", \"LA/OC/Vegas\", \"ngapain?\", \"Laventillemoorings \", \"Huntsville, Alabama\", \"Ealing, London\", \"amsterdayum 120615 062415\", \"Los Angeles New York\", \"Santiago Bernabeau\", \"SEATTLE, WA USA\", \"The Pig Sty\", \"Score More Goals Buying @\", \"Paducah, KY\", \"Las Vegas, NV USA\", \"Greater Los Angeles Bearia\", \"Harpurhey, Manchester, UK\", \"Miami via Lima\", \"Paradise City\", \"GCC\", \"USA, Alabama\", \"someplace living my life\", \"Morris, IL\", \"Cape Town, Khayelitsha\", \"Jakarta, Indonesia\", \"Wakanda\", \"labuan, malaysia\", \"Primum non nocere\", \"Some where\", \"Ontario\", \"\\u00cc\\u00cfT: 6.4682,3.18287\", \"Making Worldwide Change Near U\", \"Topeka, KS\", \"milky way\", \"access to njh/5 and cth/4\", \"i got 1/13 menpa replies, omg\", \"New Jersey/New York\", \"mainly California\", \"South Carolina, USA\", \"Aix-en-Provence/Utrecht\", \"Play For Ryan ??\", \"Not a U.S resident\", \"SURROUNDED BY WEEABOOS\", \"travelling to tae's pants\", \"Stamford & Cork (& Shropshire)\", \"Lethbridge, Alberta, Canada\", \"Laredo, TX\", \"In My Lab Creating \", \"sheffield // rotherham\", \"Lives in London\", \"\\u0089\\u00db\\u00ca\\u0089\\u00db\\u00ca\\u0089\\u00db\\u00ca\", \"khanna\", \"The World\", \"World news\", \"Pig Symbol, Alabama\", \"Pittsburgh \", \"Idaho\", \"Daddy Kink Central\", \"livin life in the 610\", \"Darnley, Prince Edward Island\", \"Shipwreck Cove\", \"Fort Smith, AR\", \"Hannover, Germany\", \"Madrid, Comunidad de Madrid\", \"Ideally under a big tree\", \"Leeds\", \"but i love kaylen ??\", \"mind ya business\", \"New Delhi\", \"Pioneer Village, KY\", \"Vancouver\", \"IUPUI '19\", \"#SandraBland\", \"Eww, I'm not Paul Elam\", \"Trost District\", \"QUEENS.\", \"I-75 in Florida\", \" Jariana Town\", \"Afghanistan\", \"Nowhere Islands/Smash Manor\", \"Kilkenny\", \"denver colorado\", \"San Luis Obispo, CA\", \"Seattle native in Prescott, AZ\", \"THANJAVUR\", \"HI\\u0089\\u00db\\u00a2UT\\u0089\\u00db\\u00a2AS\", \"Clean World\", \"The Forever Girl\", \"Williamsburg, VA\", \"Aarhus, Central Jutland\", \"Zimbabwe\", \"Roadside\", \"Colorado Springs\", \"South Carolina\", \"Essex\", \"Medan,Indonesia\", \"Panam\\u00cc\\u00c1 \", \"Planet of da Bathing Apes\", \"College Station, TX\", \"The Wood\", \"Palestine \", \"Dover, DE\", \"Van Buren, MO\", \"Torry Alvarez love forever ? ?\", \"Did anybody see me here ??\", \"JKT48-Muse-A7X\", \"Den Helder, Rijkswerf\", \" 616 \\u0089\\u00db\\u00a2 Kentwood , MI \", \"Intramuros, Manila\", \"Nashville, Tn\", \"U.S\", \"Dudetown\", \"maryland\", \"North Cack/919\", \"Michigan \", \"Suburban Detroit, Michigan\", \"North Dartmouth, Massachusetts\", \"Victoria, Tx.\", \"Atlanta, Georgia USA\", \"on twitter \", \"Orbost, Victoria, Australia\", \"nowhere\", \"Alvin, TX\", \"Voorhees, NJ\", \"Chicago - Lake Buena Vista\", \"fl\", \"The Circle of Life\", \"Anywhere I like\", \"D.C. - Baltimore - Annapolis\", \"tri state\", \"Walker County, Alabama\", \"Turkmenistan\", \"Wynne, AR\", \"Morocco\", \"Medford, NJ\", \"Predjama, Eslovenia.\", \"Kuala Lumpur, Malaysia\", \"followurDREAMS(& my instagram)\", \"CCH \", \"My contac 27B80F7E 08170156520\", \"icon: cheese3d\", \"where the wild things are\", \"City Of Joy\", \"sri lanka\", \"Las Vegas, NV \", \"The land of New Jersey. \", \"The Orwellion police-state\", \"This Is Paradise. Relax. \", \"Multinational *****\", \"Soufside\", \"Gainesville/Tampa, FL\", \"The Globe\", \"Fort Knox, KY 40121\", \"norway\", \"Tampa\", \"Kutztown, PA\", \"Calgary, Canada\", \"Bracknell\", \"San Diego, Calif.\", \"SoDak\", \"Cleveland, Ohio\", \"Waterloo, ON\", \"Lincoln\", \"Numa casa de old yellow bricks\", \"Bokaro Steel City, Jharkhand\", \"Yuuko-san's shop\", \"Tips on my blog at\", \"Cydia\", \"Kaneohe\", \"El Paso, Texas\", \"Alberta \", \"Aveiro, Portugal\", \"Belfast\", \"Wolmers Trust School for Boys \", \"North East, England\", \"Montreal\", \"Liberty Township, Ohio\", \"???????? ?????????.\", \"Surabaya\", \"Pleasanton, CA\", \"Michel Delving.\", \"Long Beach, CA\", \"Gloucester\", \"Lahti, Finland\", \"Jackson, MS\", \"PA.USA\", \"Arundel \", \"Top secret bunker \", \"Yadkinville, NC\", \"Mentor OH\", \"oxford\", \"Slateport City, Hoenn\", \"Phila.\", \"california\", \"jeddah | Khartoum\", \"front row at a show\", \"Outside The Matrix, I Think.\", \"Chicago IL\", \"Bedford IN \", \"Houston,  TX\", \"JDB/LJC/AGB/TW/PLL\", \"New Delhi,India\", \"Depok\", \"somewhere in cali \", \"the local dump\", \"London/New York\", \"NY, NY\", \"Here And There\", \"Dallas, TX \", \"Oklahoma\", \"//??//\", \"Upstate New York\", \"pittsboro\", \"Palm Beach County, FL\", \"Beacon Hills\", \"Freeport il \", \"iPhone: 33.104393,-96.628624\", \"Niall's arms\", \"Njoro, Kenya\", \"Chicago, Il\", \"H / pez & sophia \", \"Riyadh ')\", \"cody, austin follows ?*?\", \"hollywoodland \", \"Glendale, CA\", \"Memphis,TN/ World Wide\", \"Dundee, UK\", \"Bhubneshwar\", \"Mooresville, NC\", \"Very SW CA, USA....Draenor\", \"Beautiful British Columbia\", \"chillin at ceder rapids\", \"Tennessee, USA\", \"please H? ?:??\", \"MI\", \"Washington, DC 20009\", \"Cape Cod\", \"Still. ??S.A.N.D.O.S??\", \"Caribbean\", \"New York. NY\", \"England, Great Britain.\", \"Minneapolis - St. Paul\", \"Wolverhampton/Brum/Jersey\", \"Argentina\", \"midwest\", \"UAE,Sharjah/ AbuDhabi\", \"Alphen aan den Rijn, Holland\", \"EPTX\", \"Wahpeton, ND\", \"570 Vanderbilt; Brooklyn, NY\", \"Miami ??\", \"5/5 access / rt link please x\", \"Up a hill\", \"Coolidge, AZ\", \"Smash Manor/Kanto\", \"FLYEST HIPPIE YOU KNOW \", \"Canterbury kent\", \"Jerusalem, Israel\", \"D\\u00cc_sseldorf, Germany\", \"Halfrica\", \"Derbyshire, United Kingdom\", \"ON\", \"Made in America\", \"the road to success\", \"Xi'an, China\", \"Leaving Bikini Bottom\", \"Gameday\", \"\\u0089\\u00db\\u00a2FLG\\u0089\\u00db\\u00a2\", \"manaus\", \"Asgard\", \"Washington, D.C. \", \"Oklahoma, USA\", \"blackfalds.\", \"Doghouse\", \"Wherever I'm sent\", \"Newport, Wales, UK\", \"Augusta, Maine, 04330\", \"??????????????????\", \"Warwick, RI @Dollarocracy also\", \"Saint Paul\", \"Beirut, Lebanon\", \"Jacksonville Beach, FL\", \"ATL ??\", \"Ogba, Lagos, Nigeria\", \"#expelcl*y\", \"hkXfYMhEx\", \"Oregon and Washington\", \"Trinity, Bailiwick of Jersey\", \"WORLD\", \"Dayton, Ohio\", \"ARIZONA\", \"BrowardCounty // Florida \", \"Quantico, VA\", \"Tallahassee, FL\", \"Newcastle, England\", \"Stage with Trey Songz\", \"nor*cal\", \"israel\", \"Lizzy's Knee\", \" |IG: imaginedragoner\", \"Holly, MI\", \"Fort Myers, Florida\", \"QLD Australia\", \"VISIT MY YOUTUBE CHANNEL.\", \"nigeria\", \"Livonia, MI\", \"South africa\", \"texasss\", \"My old New England home\", \"? miranda ? 521 mi\", \"Salt Lake City, Utah\", \"??????????? ???????????..? \", \"SaudI arabia - riyadh \", \"Rutherfordton, NC\", \"USA - Canada - Europe - Asia\", \"Karolinska v\\u00cc_gen 18, Solna\", \"University of Limerick\", \"East Lansing, MI\", \"Lahar & Gwalior\", \"Pawnee\", \"Hell\", \"Ikorodu\", \"antioch, california\", \"Mid north coast of NSW\", \"Tama, Iowa\", \"Made Here In Detroit \", \"Birmingham, United Kingdom\", \"WV, love the blue and gold\", \"on a catwalk somewhere\", \"St. Catharines, Ontario\", \"Corpus - Las Vegas - Houston\", \"Christiana,Tennessee\", \"ona block w/ my BOY ??\", \"University of South Florida\", \"Essex, England\", \"Maricopa, AZ\", \"kano\", \"International\", \"the burrow\", \"West Palm Beach, Florida\", \"3000 miles from everyone\", \"Kettering, OH\", \"Flushing, Queens\", \"Sydney & Worldwide\", \"Halifax, Nouvelle-\\u00cc\\u00e4cosse\", \"Central Illinois\", \"probably not home\", \"Williamstown, VT\", \"El Paso, TX\", \"Vero Beach , FL\", \"Chasing My Dreams w/Jass??\", \"Benicia, CA \", \"The North\", \"Morganville, Texas.\", \"The Citadel, Oldtown, Westeros\", \"philly\", \"Thibodaux, LA\", \"Rochester\", \"East Islip, NY\", \"zboyer@washingtontimes.com\", \"Castaic, CA\", \"Manila City\", \"Ab, Canada\", \"brisbane, australia\", \"North East Unsigned Radio\", \"Hendersonville, NC\", \"rzl ?\", \"Youngstown, OH\", \"England & Wales Border, UK\", \"Alger-New York-San Francisco\", \"Ashford, Kent, United Kingdom\", \"New York / Worldwide\", \"The Web\", \"The Peach State\", \"302???? 815\", \"Valle Del Sol\", \"?? Made in the Philippines ??\", \"Whiterun, Skyrim\", \"Frascati\", \"Kyiv, Ukraine\", \"Instagram: trillrebel_\", \"Ontario, Canada. \", \"Isolated City In World Perth\", \"mexico\", \"Evansville, IN\", \"Third rock from the Sun\", \"Telangana\", \"Highland Park, CA\", \"illinois. united state \", \"New Your\", \"Riverside, CA\", \"New York City ,NY\", \"Seattle WA\", \"11/4/14\", \"M\\u00cc\\u00a9rida, Yucat\\u00cc\\u00c1n\", \"?@symbolicjensen?\", \" The World\", \"Ocean City, NJ\", \"lee london\", \"Oshawa/Toronto\", \"Detroit/Windsor\", \"MY RTs ARE NOT ENDORSEMENTS\", \"the Dirty D\", \"don't buy the s*n\", \"Virgo Supercluster\", \"y/e/l\", \"Garden City, NY\", \"Peru\", \"Galapa / Atl\\u00cc\\u00c1ntico\", \"The P (South Philly)\", \"Toronto, Bob-Lo, Miami Beach\", \"Cloud 9\", \"Crayford, London\", \"Orange County, NY\", \"Global Edition\", \"Oblivion?\", \"Justin and Ariana follow\", \"Your notifications\", \"New York City, NY\", \"Live m\\u00cc\\u00c1s\", \"Toronto, Worldwide \", \"Fort Wayne, IN\", \"Calgary, Alberta, Canada\", \"Brisbane, Queensland\", \"The Shady Hyenatown of Finland\", \"Bhopal, Madhya Pradesh, India.\", \"Littleton, CO, USA\", \"Deployed in the Middle East\", \"Wellington, New Zealand\", \"Harlingen, TX\", \"Meereen \", \"Vilnius\", \"Ivano-Frankivsk\", \"Temecula, CA\", \"Kolkata, India\", \"Columbus, Georgia\", \"Durban, South Africa\", \"65\", \"RhodeIsland\", \"Fleet/Oxford, UK\", \"Montana, USA\", \"Tulsa, OK\", \"missouri USA\", \"Ashxjonespr@gmail.com\", \"Yuba City, CA\", \"TV5, Philippines\", \"Unknown \", \"Earth 0\", \"a botanical garden probably\", \"Charlotte, North Carolina\", \"Eureka, California, USA\", \"Bagalkote Karnataka \", \"( ?\\u00e5\\u00a1 ?? ?\\u00e5\\u00a1), \", \"The Land of MAss Stupidity\", \"Denton, Texas\", \"port matilda pa\", \"In your mind\", \"gamertag: bexrayandvav \", \"Fort Fizz, Ohio\", \"Dhaka\", \"48.870833,2.399227\", \"Get our App\", \"Edmonton, Alberta - Treaty 6\", \"Arkansas\", \"Warm Heart Of Africa\", \"County Durham, United Kingdom\", \"Patra-Greece.\", \"DRAW A CIRCLE THAT'S THE EARTH\", \"Nashua NH\", \"Massachusetts \", \"MI - CA\", \"60th St (SS)\", \"Wasington, DC\", \"Am International\", \"Playa del Carmen, Mexico\", \"PG Chillin!\", \"potters bar\", \"Adventist - Lesson Sabbath\", \"On the court \", \"on to the next adventure\", \"on the web\", \"Walthamstow, London\", \"Western New York\", \"Belgrade\", \"too far\", \"Inside your webcam. Stop that.\", \"nap central\", \"73101\", \"North East USA\", \"Yobe State\", \"Amman,Jordan\", \"Canada BC\", \"Lansdale,Pennsylvania\", \"Leicester, England\", \"IDN\", \"Rapid City, Black Hills, SD\", \"The Main \", \"Harper Woods, MI\", \"Enniscrone & Aughris, Sligo \", \"Varies \", \"LEALMAN, FLORIDA\", \"Nicola Valley\", \"Mariveles, Bataan\", \"Top Secret\", \"Hamilton, Ontario CA\", \"Lancaster California\", \"Magnolia\", \"Jump City\", \"West Midlands\", \"Woodcreek HS, Roseville, CA\", \"05/04/2014 18:23 ?\", \"Lima, Per\\u00cc\\u00bc\", \"Pocatello, ID\", \"Old Blighty\", \"At Da Laundry Mat Wit Nivea \", \"Waukesha, WI\", \"Somewhere in Jersey\", \"Nottingham, United Kingdom\", \"Near Richmond, VA\", \"Whole World \", \"emily | helen | shelley \", \"The UK\", \"NY || live easy? \", \"Across the Atlantic\", \"Brasil,SP\", \"BROKE NIGGAS DREAM!!\", \"University Heights, Ohio\", \"Jammu and Kashmir\", \"Nagpur\", \"Studio\", \"South Asia\", \"Perenjori, WA\", \"The Desert of the Real\", \"West Richland, WA\", \"Glenview to Knoxville \", \"trapped in America\", \"?????? ??? ?????? ????????\", \"Northampton, MA\", \"??? ???? ?f glory. ?\", \"Campinas Sp\", \"Milwaukee WI\", \"Somewhere with Clyde\", \"Melbourne-ish\", \"... -.- -.--\", \"TN\", \"Menasha, WI\", \"English Midlands\", \"Lurking\", \"Extraterrestrial Highway\", \"| CA \\u0089\\u00db\\u00a2 GA  |\", \"Cincinnati, OH\", \"Yooooooo\", \"swindon\", \"Honolulu,Hawaii \", \"Ecuador\", \"University of Chicago\", \"Dindigul,TamilNadu.\", \"MI,USA\", \"East London\", \"Bristol, England\", \"miami\", \"LP, MN USA\", \"Halton Region\", \"all over the world\", \"650/559\", \"Belleville, Illinois\", \"S.F. Bay area\", \"AZ\", \"La Puente, CA\", \"proudly South African\", \"Home is where we park it!\", \"St. Patrick's Purgatory\", \"Somewhere Out There\", \"Roanoke VA\", \"-?s?s?j??s-\", \"NBO\", \"St Austell, Cornwall\", \"Hilton Head, SC  \", \"Brentwood,TN\", \"1313 W.Patrick St, Frederick\", \"Someday I'll live in England. \", \"In the Shadows...\", \"Albuquerque New Mexico\", \"Between Dire and Radiant\", \"Holly Springs, NC \", \"los angeles\", \"london essex england uk\", \"BROOKLYN, NYC\", \"Halton, Ontario\", \"NYC&NJ\", \"BestCoast\", \"The Empire/First Order\", \"Laguna Beach, Calif. \", \"36 & 38\", \"Fort Valley,GA/Fayetteville,AR\", \"Republic of the Philippines\", \"In the moment\", \"Carterville\", \"Brooklyn, New York\", \"Bakersfield, CA\", \"Lake Monticello, VA\", \"??????? ??????? ????????\", \"Delhi \", \"Philippines \", \"Nigeria, Global\", \"perth, australia \", \" Baku & Erzurum \", \"Warri\", \"Mankato, MN\", \" Quantico Marine Base, VA.\", \"leyland\", \"Carry On Jutta!!!\", \"\\u00cc\\u00cfT: 30.307558,-81.403118\", \"Richmond Heights, OH\", \"hey Georgia\", \"\\u00cc\\u00cfT: 33.209923,-87.545328\", \"London/Bristol/Guildford\", \"Online 24/7. Not even kidding.\", \"Behind The Obama Curtain\", \"San Jose, CA, USA\", \"Gwersyllt, Wales\", \"West Bank, Gaza Strip\", \"Poplar, London\", \"Cape Neddick, ME\", \"Bucharest\", \"14/cis/istj \", \"Milwaukee County\", \"lesa * she/her\", \"westwestwestwestwestwestwest\", \"Midwestern USA\", \"\\u00e5_: ?? \\u00cc\\u00d1 ? : ?\", \"Watertown, Mass.\", \"Cornwall\", \"Groton, CT\", \"Cairo, Egypt\", \"ducked off . . . \", \"Hawaii USA\", \"The Hammock, FL, USA\", \"KADUNA, NIGERIA\", \"Danville, VA\", \"Tallahassee Florida\", \"Killarney\", \"CPT & JHB, South Africa\", \"under the blanket\", \"Stateless Global Citizen\", \"Bi\\u00cc\\u00b1an,Laguna\", \"Trancy Manor\", \"nc\", \"Mexico! ^_^\", \"Birmingham, UK\", \"Leduc, Alberta, Canada\", \"North Ferriby, East Yorkshire\", \"Mogadishu, New Jersey\", \"LYNBROOK\", \"Holland MI via Houston, CLE\", \"Jerusalem!\", \"wherever the $$$ at\", \"Atlanta,Ga\", \"Bellville, Ohio\", \"Intermountain West\", \"The green and pleasant land.\", \"Passamaquoddy\", \"Antigua ?? NYC \", \"Long Island, NY\", \"Canadian bread\", \"Duncan\", \"Mumbai india\", \"dublin \", \"Bolivar, MO\", \"The Low-Cal Calzone Zone\", \"401 livin'\", \"Former Yugoslav Republic of Macedonia\", \"Oslo, Norway\", \"Guelph Ontario Canada\", \"Sydney, NSW\", \"Malibu/SantaFe/Winning!\", \"Brooklyn\", \"Augusta, GA\", \"Purfleet\", \"Where ever i please\", \"Bronx, NY\", \"texas a&m university\", \"Gujranwala, Pakistan\", \"NYC area\", \"Irving , Texas\", \"Santa Monica, CA\", \"ATL, GA\", \"Cambridge, Massachusetts, U.S.\", \"Heathrow\", \"Charleston, IL\", \"GO BLUE! HAIL YES!!\", \"playing soccer & eating pizza\", \"Pakistan, Islamabad\", \"contactSimpleNews@gmail.com\", \"???????????\", \"lakewood colorado\", \"UK  & Germany\", \"turner fenton\", \"ATLANTA , GEORGIA \", \"Delhi\", \"#KaumElite;#F?VOR;#SMOFC\", \"Antioch, CA \", \"london / st catharines ?\", \"Annapolis, MD\", \"austin, texas\", \"Rotterdam, Zuid-Holland\", \"Port Charlotte, FL\", \"Asunci\\u00cc_n-PY / T\\u00cc_bingen-GER\", \"Lubbock, Texas\", \"Fairgrounds Resident\", \"Biloxi, Mississippi\", \"WESTSIDE OF PHILLY 7? BLOCK??\", \"All around the world baby\", \"Buscame EL tu Melte\", \"Alliston Ontario\", \"Downtown Oklahoma City\", \"?????? in Yokohama Japan\", \"rio de janeiro | brazil\", \"956\", \"cleveland, oh\", \"Gold Coast\", \"Itirapina, S\\u00cc\\u00a3o Paulo\", \"guaravitas\", \"Tunbridge Wells\", \"Eagle Pass, Texas\", \"SEC Country\", \"(a) property of the universe\", \"rowyso dallas \", \"Isle of Man\", \"  \\u00e5_ \", \" Nevada Carson City,Freeman St\", \"France\", \"portland, oregon\", \"11202\", \"Manavadar, Gujarat\", \"Ames, IA\", \"In your head\", \"MA via PA\", \"Screwston, TX\", \"God is Love. \", \"they/them\", \"Plain O' Texas\", \"Bod\\u00cc\\u00fc, Norge\", \"Los Angeles, Calif.\", \"Arkansas, Jonesboro\", \"Central Florida\", \"Maracay y Nirgua, Venezuela\", \"Campo Grande-MS\", \"Uppsala, Sweden\", \"'Merica\", \"hatena bookmark\", \"Stay Tuned ;) \", \"Hattiesburg, MS\", \"Virginia, United States\", \"Wanderlust\", \"Level 3 Garrison, Sector G\", \"balvanera\", \"everydaynigerian@gmail.com\", \"Gold Coast, Qld, Australia\", \"Wilmington, DE\", \"\\u00cc\\u00cfT: 35.223347,-80.827834\", \"Honolulu, Hawaii\", \"New Mexico, USA\", \"Absecon, NJ\", \"Na waffi\", \"Hatteras, North Carolina\", \"Mississauga, Ontario\", \"IN our hearts  Earth Global \", \"Greenville\", \"Florida Forever\", \"Newcastle upon Tyne\", \"Upper St Clair, PA\", \"sisterhood\", \"Merica!\", \"Tri-Cities, Wash.\", \"Bleak House\", \"manchester, uk.\", \"Menlo Park. SFO. The World.\", \"??? ?? ??????? \", \"in my own personal hell (:\", \"i love you zayn\", \"www.aprylpooley.com\", \"Elkhart, IN\", \"kansas\", \"Rock Springs, WY\", \"Definitely NOT the stables\", \"Twitter Lockout in progress\", \"Wood Buffalo, Alberta\", \"Positive 852\", \"Yeezy Taught Me , NV\", \"Westchester\", \"Birdland, New Meridian, FD\", \"Milton Keynes \", \"The Internet & NYC\", \"Slatina,Romania\", \"Est. September 2012 - Bristol\", \"Bridport, England\", \"paradise\", \"Worldwide.\", \"CAMARILLO, CA\", \"The ?? below ???\", \"Hoxton, London\", \"Nantes, France\", \"North Highlands, CA\", \"Noida, NCR, India\", \"On the toilet having a dump \", \"Greenville, S.C.\", \"BOT ACCOUNT\", \"Quincy\", \"Calgary/Airdrie/RedDeer/AB\", \"Charlotte, NC | K\\u00cc\\u00a6ln, NRW\", \"709?\", \" Alberta\", \"Spain\", \"Waterloo, Ont\", \"en el pais de los arrechos\", \"Raleigh Durham, NC\", \"Email: Lovethterry@gmail.com\", \"Bucks County, Pa\", \"Ylisse\", \"Buffalo/DC\", \"Gumptown\", \"Boston/Montreal \", \"Bangor, Co.Down\", \"Nigeria, WORLDWIDE\", \"Sunbury, Ohio\", \"Maryland \", \"St Joseph de Beauce\", \"Vancouver, BC, Canada\", \"Jersey - C.I\", \"Elmwood Park, NJ\", \"Hope Road, Jamaica \", \"Madrid\", \"Kleenex factory\", \"teh internets\", \"M!$$!$$!PP!\", \"Atlantic, IA\", \"Fairfax, VA\", \"#SOUTHAMPTON ENGLAND\", \"Netherlands,Amsterdam-Virtual \", \"  \", \"Reading MA\", \"Harlem, New York\", \"Quincy MA\", \"Nova Scotia, Canada\", \"Pelham, AL\", \"New Hampshire, USA\", \"Yulee, FL\", \"The Canopy Kingdom\", \"Hospital, bc of SKH vid.\", \"Charter Member of the VRWC\", \"Middle Earth / Asgard / Berk\", \"Davis, California\", \"Yellowknife, NT\", \"Blogland\", \"Cairo, Egypt.\", \"@ ForSL/RP\", \"satan's colon\", \"T E X A S | wwat 8.24.14\", \"Washington state\", \"Born in Baltimore Living in PA\", \"Cedar Island, Clinton CT 06413\", \"Nashville\", \"Im Around ... Jersey\", \"Jubail IC, Saudi Arabia.\", \"DFW, Texas\", \"tripoli international airport\", \"Between the worlds \", \"NYHC\", \"IndiLand \", \"1D | 5SOS | AG\", \"(Spain)\", \"Kingswinford\", \"justin & ari follow || tvd\", \"New York, NY \", \"God.Family.Money\", \"Atlanta g.a.\", \"Johns Creek, GA\", \"death star\", \"B&B near Alton Towers\", \"Basketball City, USA \", \"Northern Kentucky, USA\", \"Reading UK\", \"#????? Libya#\", \"Earth-616\", \"Haveli, Maharashtra\", \"Cleveland, TN\", \"south of heaven \", \"??? ???? ??????\", \"heart of darkness, unholy ?\", \"Peterborough, Ontario, Canada\", \"Kicking Horse Pass\", \"[Gia.] | #KardashianEmpire\", \"Bangalore. India\", \"\\u0089\\u00db\\u00a2 Views From The Six \\u0089\\u00db\\u00a2\", \"Edappally,Kochi\", \"Loveland Colorado\", \"Hamilton County, IN\", \"St. Louis\", \"Roppongi, Minato, Tokyo \", \"#ForeverWithBAP 8 \", \"dope show\", \"??t?a\", \"??? ?????????????\", \"\\u00cc\\u00cfT: 39.982988,-75.261624\", \"Miami,Fla\", \"atx\", \"Valparaiso \", \"cuba\", \"Riverdale, GA \", \"Orlando,FL  USA\", \"Jamshedpur, Jharkhand\", \"Jammu | Kashmir | Delhi\", \"Milky Way galaxy \", \"Lawrence, KS via Emporia, KS\", \"\\u0081\\u00cawagger!\\u00cc\\u0090ominican\\u00cc\\u00f7\", \"Kansas, The Free State! ~ KC\", \"Las Cruces, NM\", \"Avon, OH\", \"Palermo, Sicily\", \"Ventura\", \"Erbil\", \"Westerland\", \"\\u00cc\\u00cfT: -26.695807,27.837865\", \"Eagle Mountain, Texas \", \"highlands&slands scotland\", \"Hooters on Peachtree\", \"GOT7SupportPH\", \"kenya\", \"Newton, NJ 07860\", \"  Melbourne, Australia\", \"Loughborough.\", \"the void, U.S.A\", \"Kansas\", \"New Britain, CT\", \"denmark\", \"USA, North Dakota\", \"twitch.tv/naturalemblem26\", \"Santiago,Rep\\u00cc\\u00bcblica Dominicana\", \"Belbroughton, England\", \"laying on the bass\", \"Bolton & Tewkesbury, UK\", \"Illumination \", \"\\u00cc\\u00cfT: 19.123127,72.825133\", \"Neverland\", \"Webster, TX\", \"Tulalip, Washington\", \"a van down by the river\", \"Dagenham, Essex\", \"\\u00cc\\u00cfT: 0.0,0.0\", \"New York NYC\", \"Wherever I'm needed\", \"STL ?NOLA\", \"Harlem, NY or Chocolate City\", \"Sioux Falls, SD\", \"Elizabeth, NJ\", \"ChicagoRObotz\", \"Tyler, TX\", \"Northern California U.S.A.\", \"Room 234\", \"Bangalore City, India\", \"Davidson, NC\", \" Nxgerxa\", \"The 5th Dimension. \", \"Le Moyne '16\", \"M\\u00cc\\u00a9xico\", \"Hogsmeade\", \"Norman, Oklahoma\", \"wny\", \"Pompano Beach, FL\"], \"xaxis\": \"x\", \"y\": [104, 71, 50, 45, 29, 28, 27, 26, 24, 22, 21, 20, 19, 18, 18, 17, 15, 15, 15, 14, 14, 14, 13, 13, 13, 12, 12, 12, 11, 11, 11, 11, 10, 10, 10, 10, 10, 10, 10, 9, 9, 9, 9, 9, 9, 9, 9, 8, 8, 8, 7, 7, 7, 7, 7, 7, 7, 7, 6, 6, 6, 6, 6, 6, 6, 6, 6, 6, 6, 6, 6, 6, 6, 6, 6, 6, 5, 5, 5, 5, 5, 5, 5, 5, 5, 5, 5, 5, 5, 5, 5, 5, 5, 5, 5, 5, 5, 5, 5, 5, 5, 5, 5, 5, 5, 5, 5, 4, 4, 4, 4, 4, 4, 4, 4, 4, 4, 4, 4, 4, 4, 4, 4, 4, 4, 4, 4, 4, 4, 4, 4, 4, 4, 4, 4, 4, 4, 4, 4, 4, 4, 4, 4, 4, 4, 4, 4, 4, 4, 4, 4, 4, 4, 4, 4, 4, 4, 3, 3, 3, 3, 3, 3, 3, 3, 3, 3, 3, 3, 3, 3, 3, 3, 3, 3, 3, 3, 3, 3, 3, 3, 3, 3, 3, 3, 3, 3, 3, 3, 3, 3, 3, 3, 3, 3, 3, 3, 3, 3, 3, 3, 3, 3, 3, 3, 3, 3, 3, 3, 3, 3, 3, 3, 3, 3, 3, 3, 3, 3, 3, 3, 3, 3, 3, 3, 3, 3, 3, 3, 3, 3, 3, 3, 3, 3, 3, 3, 3, 3, 3, 3, 3, 3, 3, 3, 3, 3, 3, 3, 3, 3, 3, 3, 3, 3, 3, 3, 2, 2, 2, 2, 2, 2, 2, 2, 2, 2, 2, 2, 2, 2, 2, 2, 2, 2, 2, 2, 2, 2, 2, 2, 2, 2, 2, 2, 2, 2, 2, 2, 2, 2, 2, 2, 2, 2, 2, 2, 2, 2, 2, 2, 2, 2, 2, 2, 2, 2, 2, 2, 2, 2, 2, 2, 2, 2, 2, 2, 2, 2, 2, 2, 2, 2, 2, 2, 2, 2, 2, 2, 2, 2, 2, 2, 2, 2, 2, 2, 2, 2, 2, 2, 2, 2, 2, 2, 2, 2, 2, 2, 2, 2, 2, 2, 2, 2, 2, 2, 2, 2, 2, 2, 2, 2, 2, 2, 2, 2, 2, 2, 2, 2, 2, 2, 2, 2, 2, 2, 2, 2, 2, 2, 2, 2, 2, 2, 2, 2, 2, 2, 2, 2, 2, 2, 2, 2, 2, 2, 2, 2, 2, 2, 2, 2, 2, 2, 2, 2, 2, 2, 2, 2, 2, 2, 2, 2, 2, 2, 2, 2, 2, 2, 2, 2, 2, 2, 2, 2, 2, 2, 2, 2, 2, 2, 2, 2, 2, 2, 2, 2, 2, 2, 2, 2, 2, 2, 2, 2, 2, 2, 2, 2, 2, 2, 2, 2, 2, 2, 2, 2, 2, 2, 2, 2, 2, 2, 2, 2, 2, 2, 2, 2, 2, 2, 2, 2, 2, 2, 2, 2, 2, 2, 2, 2, 2, 2, 2, 2, 2, 2, 2, 2, 2, 2, 2, 2, 2, 2, 2, 2, 2, 2, 2, 2, 2, 2, 2, 2, 2, 2, 2, 2, 2, 2, 2, 2, 2, 2, 2, 2, 2, 2, 2, 2, 1, 1, 1, 1, 1, 1, 1, 1, 1, 1, 1, 1, 1, 1, 1, 1, 1, 1, 1, 1, 1, 1, 1, 1, 1, 1, 1, 1, 1, 1, 1, 1, 1, 1, 1, 1, 1, 1, 1, 1, 1, 1, 1, 1, 1, 1, 1, 1, 1, 1, 1, 1, 1, 1, 1, 1, 1, 1, 1, 1, 1, 1, 1, 1, 1, 1, 1, 1, 1, 1, 1, 1, 1, 1, 1, 1, 1, 1, 1, 1, 1, 1, 1, 1, 1, 1, 1, 1, 1, 1, 1, 1, 1, 1, 1, 1, 1, 1, 1, 1, 1, 1, 1, 1, 1, 1, 1, 1, 1, 1, 1, 1, 1, 1, 1, 1, 1, 1, 1, 1, 1, 1, 1, 1, 1, 1, 1, 1, 1, 1, 1, 1, 1, 1, 1, 1, 1, 1, 1, 1, 1, 1, 1, 1, 1, 1, 1, 1, 1, 1, 1, 1, 1, 1, 1, 1, 1, 1, 1, 1, 1, 1, 1, 1, 1, 1, 1, 1, 1, 1, 1, 1, 1, 1, 1, 1, 1, 1, 1, 1, 1, 1, 1, 1, 1, 1, 1, 1, 1, 1, 1, 1, 1, 1, 1, 1, 1, 1, 1, 1, 1, 1, 1, 1, 1, 1, 1, 1, 1, 1, 1, 1, 1, 1, 1, 1, 1, 1, 1, 1, 1, 1, 1, 1, 1, 1, 1, 1, 1, 1, 1, 1, 1, 1, 1, 1, 1, 1, 1, 1, 1, 1, 1, 1, 1, 1, 1, 1, 1, 1, 1, 1, 1, 1, 1, 1, 1, 1, 1, 1, 1, 1, 1, 1, 1, 1, 1, 1, 1, 1, 1, 1, 1, 1, 1, 1, 1, 1, 1, 1, 1, 1, 1, 1, 1, 1, 1, 1, 1, 1, 1, 1, 1, 1, 1, 1, 1, 1, 1, 1, 1, 1, 1, 1, 1, 1, 1, 1, 1, 1, 1, 1, 1, 1, 1, 1, 1, 1, 1, 1, 1, 1, 1, 1, 1, 1, 1, 1, 1, 1, 1, 1, 1, 1, 1, 1, 1, 1, 1, 1, 1, 1, 1, 1, 1, 1, 1, 1, 1, 1, 1, 1, 1, 1, 1, 1, 1, 1, 1, 1, 1, 1, 1, 1, 1, 1, 1, 1, 1, 1, 1, 1, 1, 1, 1, 1, 1, 1, 1, 1, 1, 1, 1, 1, 1, 1, 1, 1, 1, 1, 1, 1, 1, 1, 1, 1, 1, 1, 1, 1, 1, 1, 1, 1, 1, 1, 1, 1, 1, 1, 1, 1, 1, 1, 1, 1, 1, 1, 1, 1, 1, 1, 1, 1, 1, 1, 1, 1, 1, 1, 1, 1, 1, 1, 1, 1, 1, 1, 1, 1, 1, 1, 1, 1, 1, 1, 1, 1, 1, 1, 1, 1, 1, 1, 1, 1, 1, 1, 1, 1, 1, 1, 1, 1, 1, 1, 1, 1, 1, 1, 1, 1, 1, 1, 1, 1, 1, 1, 1, 1, 1, 1, 1, 1, 1, 1, 1, 1, 1, 1, 1, 1, 1, 1, 1, 1, 1, 1, 1, 1, 1, 1, 1, 1, 1, 1, 1, 1, 1, 1, 1, 1, 1, 1, 1, 1, 1, 1, 1, 1, 1, 1, 1, 1, 1, 1, 1, 1, 1, 1, 1, 1, 1, 1, 1, 1, 1, 1, 1, 1, 1, 1, 1, 1, 1, 1, 1, 1, 1, 1, 1, 1, 1, 1, 1, 1, 1, 1, 1, 1, 1, 1, 1, 1, 1, 1, 1, 1, 1, 1, 1, 1, 1, 1, 1, 1, 1, 1, 1, 1, 1, 1, 1, 1, 1, 1, 1, 1, 1, 1, 1, 1, 1, 1, 1, 1, 1, 1, 1, 1, 1, 1, 1, 1, 1, 1, 1, 1, 1, 1, 1, 1, 1, 1, 1, 1, 1, 1, 1, 1, 1, 1, 1, 1, 1, 1, 1, 1, 1, 1, 1, 1, 1, 1, 1, 1, 1, 1, 1, 1, 1, 1, 1, 1, 1, 1, 1, 1, 1, 1, 1, 1, 1, 1, 1, 1, 1, 1, 1, 1, 1, 1, 1, 1, 1, 1, 1, 1, 1, 1, 1, 1, 1, 1, 1, 1, 1, 1, 1, 1, 1, 1, 1, 1, 1, 1, 1, 1, 1, 1, 1, 1, 1, 1, 1, 1, 1, 1, 1, 1, 1, 1, 1, 1, 1, 1, 1, 1, 1, 1, 1, 1, 1, 1, 1, 1, 1, 1, 1, 1, 1, 1, 1, 1, 1, 1, 1, 1, 1, 1, 1, 1, 1, 1, 1, 1, 1, 1, 1, 1, 1, 1, 1, 1, 1, 1, 1, 1, 1, 1, 1, 1, 1, 1, 1, 1, 1, 1, 1, 1, 1, 1, 1, 1, 1, 1, 1, 1, 1, 1, 1, 1, 1, 1, 1, 1, 1, 1, 1, 1, 1, 1, 1, 1, 1, 1, 1, 1, 1, 1, 1, 1, 1, 1, 1, 1, 1, 1, 1, 1, 1, 1, 1, 1, 1, 1, 1, 1, 1, 1, 1, 1, 1, 1, 1, 1, 1, 1, 1, 1, 1, 1, 1, 1, 1, 1, 1, 1, 1, 1, 1, 1, 1, 1, 1, 1, 1, 1, 1, 1, 1, 1, 1, 1, 1, 1, 1, 1, 1, 1, 1, 1, 1, 1, 1, 1, 1, 1, 1, 1, 1, 1, 1, 1, 1, 1, 1, 1, 1, 1, 1, 1, 1, 1, 1, 1, 1, 1, 1, 1, 1, 1, 1, 1, 1, 1, 1, 1, 1, 1, 1, 1, 1, 1, 1, 1, 1, 1, 1, 1, 1, 1, 1, 1, 1, 1, 1, 1, 1, 1, 1, 1, 1, 1, 1, 1, 1, 1, 1, 1, 1, 1, 1, 1, 1, 1, 1, 1, 1, 1, 1, 1, 1, 1, 1, 1, 1, 1, 1, 1, 1, 1, 1, 1, 1, 1, 1, 1, 1, 1, 1, 1, 1, 1, 1, 1, 1, 1, 1, 1, 1, 1, 1, 1, 1, 1, 1, 1, 1, 1, 1, 1, 1, 1, 1, 1, 1, 1, 1, 1, 1, 1, 1, 1, 1, 1, 1, 1, 1, 1, 1, 1, 1, 1, 1, 1, 1, 1, 1, 1, 1, 1, 1, 1, 1, 1, 1, 1, 1, 1, 1, 1, 1, 1, 1, 1, 1, 1, 1, 1, 1, 1, 1, 1, 1, 1, 1, 1, 1, 1, 1, 1, 1, 1, 1, 1, 1, 1, 1, 1, 1, 1, 1, 1, 1, 1, 1, 1, 1, 1, 1, 1, 1, 1, 1, 1, 1, 1, 1, 1, 1, 1, 1, 1, 1, 1, 1, 1, 1, 1, 1, 1, 1, 1, 1, 1, 1, 1, 1, 1, 1, 1, 1, 1, 1, 1, 1, 1, 1, 1, 1, 1, 1, 1, 1, 1, 1, 1, 1, 1, 1, 1, 1, 1, 1, 1, 1, 1, 1, 1, 1, 1, 1, 1, 1, 1, 1, 1, 1, 1, 1, 1, 1, 1, 1, 1, 1, 1, 1, 1, 1, 1, 1, 1, 1, 1, 1, 1, 1, 1, 1, 1, 1, 1, 1, 1, 1, 1, 1, 1, 1, 1, 1, 1, 1, 1, 1, 1, 1, 1, 1, 1, 1, 1, 1, 1, 1, 1, 1, 1, 1, 1, 1, 1, 1, 1, 1, 1, 1, 1, 1, 1, 1, 1, 1, 1, 1, 1, 1, 1, 1, 1, 1, 1, 1, 1, 1, 1, 1, 1, 1, 1, 1, 1, 1, 1, 1, 1, 1, 1, 1, 1, 1, 1, 1, 1, 1, 1, 1, 1, 1, 1, 1, 1, 1, 1, 1, 1, 1, 1, 1, 1, 1, 1, 1, 1, 1, 1, 1, 1, 1, 1, 1, 1, 1, 1, 1, 1, 1, 1, 1, 1, 1, 1, 1, 1, 1, 1, 1, 1, 1, 1, 1, 1, 1, 1, 1, 1, 1, 1, 1, 1, 1, 1, 1, 1, 1, 1, 1, 1, 1, 1, 1, 1, 1, 1, 1, 1, 1, 1, 1, 1, 1, 1, 1, 1, 1, 1, 1, 1, 1, 1, 1, 1, 1, 1, 1, 1, 1, 1, 1, 1, 1, 1, 1, 1, 1, 1, 1, 1, 1, 1, 1, 1, 1, 1, 1, 1, 1, 1, 1, 1, 1, 1, 1, 1, 1, 1, 1, 1, 1, 1, 1, 1, 1, 1, 1, 1, 1, 1, 1, 1, 1, 1, 1, 1, 1, 1, 1, 1, 1, 1, 1, 1, 1, 1, 1, 1, 1, 1, 1, 1, 1, 1, 1, 1, 1, 1, 1, 1, 1, 1, 1, 1, 1, 1, 1, 1, 1, 1, 1, 1, 1, 1, 1, 1, 1, 1, 1, 1, 1, 1, 1, 1, 1, 1, 1, 1, 1, 1, 1, 1, 1, 1, 1, 1, 1, 1, 1, 1, 1, 1, 1, 1, 1, 1, 1, 1, 1, 1, 1, 1, 1, 1, 1, 1, 1, 1, 1, 1, 1, 1, 1, 1, 1, 1, 1, 1, 1, 1, 1, 1, 1, 1, 1, 1, 1, 1, 1, 1, 1, 1, 1, 1, 1, 1, 1, 1, 1, 1, 1, 1, 1, 1, 1, 1, 1, 1, 1, 1, 1, 1, 1, 1, 1, 1, 1, 1, 1, 1, 1, 1, 1, 1, 1, 1, 1, 1, 1, 1, 1, 1, 1, 1, 1, 1, 1, 1, 1, 1, 1, 1, 1, 1, 1, 1, 1, 1, 1, 1, 1, 1, 1, 1, 1, 1, 1, 1, 1, 1, 1, 1, 1, 1, 1, 1, 1, 1, 1, 1, 1, 1, 1, 1, 1, 1, 1, 1, 1, 1, 1, 1, 1, 1, 1, 1, 1, 1, 1, 1, 1, 1, 1, 1, 1, 1, 1, 1, 1, 1, 1, 1, 1, 1, 1, 1, 1, 1, 1, 1, 1, 1, 1, 1, 1, 1, 1, 1, 1, 1, 1, 1, 1, 1, 1, 1, 1, 1, 1, 1, 1, 1, 1, 1, 1, 1, 1, 1, 1, 1, 1, 1, 1, 1, 1, 1, 1, 1, 1, 1, 1, 1, 1, 1, 1, 1, 1, 1, 1, 1, 1, 1, 1, 1, 1, 1, 1, 1, 1, 1, 1, 1, 1, 1, 1, 1, 1, 1, 1, 1, 1, 1, 1, 1, 1, 1, 1, 1, 1, 1, 1, 1, 1, 1, 1, 1, 1, 1, 1, 1, 1, 1, 1, 1, 1, 1, 1, 1, 1, 1, 1, 1, 1, 1, 1, 1, 1, 1, 1, 1, 1, 1, 1, 1, 1, 1, 1, 1, 1, 1, 1, 1, 1, 1, 1, 1, 1, 1, 1, 1, 1, 1, 1, 1, 1, 1, 1, 1, 1, 1, 1, 1, 1, 1, 1, 1, 1, 1, 1, 1, 1, 1, 1, 1, 1, 1, 1, 1, 1, 1, 1, 1, 1, 1, 1, 1, 1, 1, 1, 1, 1, 1, 1, 1, 1, 1, 1, 1, 1, 1, 1, 1, 1, 1, 1, 1, 1, 1, 1, 1, 1, 1, 1, 1, 1, 1, 1, 1, 1, 1, 1, 1, 1, 1, 1, 1, 1, 1, 1, 1, 1, 1, 1, 1, 1, 1, 1, 1, 1, 1, 1, 1, 1, 1, 1, 1, 1, 1, 1, 1, 1, 1, 1, 1, 1, 1, 1, 1, 1, 1, 1, 1, 1, 1, 1, 1, 1, 1, 1, 1, 1, 1, 1, 1, 1, 1, 1, 1, 1, 1, 1, 1, 1, 1, 1, 1, 1, 1, 1, 1, 1, 1, 1, 1, 1, 1, 1, 1, 1, 1, 1, 1, 1, 1, 1, 1, 1, 1, 1, 1, 1, 1, 1, 1, 1, 1, 1, 1, 1, 1, 1, 1, 1, 1, 1, 1, 1, 1, 1, 1, 1, 1, 1, 1, 1, 1, 1, 1, 1, 1, 1, 1, 1, 1, 1, 1, 1, 1, 1, 1, 1, 1, 1, 1, 1, 1, 1, 1, 1, 1, 1, 1, 1, 1, 1, 1, 1, 1, 1, 1, 1, 1, 1, 1, 1, 1, 1, 1, 1, 1, 1, 1, 1, 1, 1, 1, 1, 1, 1, 1, 1, 1, 1, 1, 1, 1, 1, 1, 1, 1, 1, 1, 1, 1, 1, 1, 1, 1, 1, 1, 1, 1, 1, 1, 1, 1, 1, 1, 1, 1, 1, 1, 1, 1, 1, 1, 1, 1, 1, 1, 1, 1, 1, 1, 1, 1, 1, 1, 1, 1, 1, 1, 1, 1, 1, 1, 1, 1, 1, 1, 1, 1, 1, 1, 1, 1, 1, 1, 1, 1, 1, 1, 1, 1, 1, 1, 1, 1, 1, 1, 1, 1, 1, 1, 1, 1, 1, 1, 1, 1, 1, 1, 1, 1, 1, 1, 1, 1, 1, 1, 1, 1, 1, 1, 1, 1, 1, 1, 1, 1, 1, 1, 1, 1, 1, 1, 1, 1, 1, 1, 1, 1, 1, 1, 1, 1, 1, 1, 1, 1, 1, 1, 1, 1, 1, 1, 1, 1, 1, 1, 1, 1, 1, 1, 1, 1, 1, 1, 1, 1, 1, 1, 1, 1, 1, 1, 1, 1, 1, 1, 1, 1, 1, 1, 1, 1, 1, 1, 1, 1, 1, 1, 1, 1, 1, 1, 1, 1, 1, 1, 1, 1, 1, 1, 1, 1, 1, 1, 1, 1, 1, 1, 1, 1, 1, 1, 1, 1, 1, 1, 1, 1, 1, 1, 1, 1, 1, 1, 1, 1, 1, 1, 1, 1, 1, 1, 1, 1, 1, 1, 1, 1, 1, 1, 1, 1, 1, 1, 1, 1, 1, 1, 1, 1, 1, 1, 1, 1, 1, 1, 1, 1, 1, 1, 1, 1, 1, 1, 1, 1, 1, 1, 1, 1, 1, 1, 1, 1, 1, 1, 1, 1, 1, 1, 1, 1, 1, 1, 1, 1, 1, 1, 1, 1, 1, 1, 1, 1, 1, 1, 1, 1, 1, 1, 1, 1, 1, 1, 1, 1, 1, 1, 1, 1, 1, 1, 1, 1, 1, 1, 1, 1, 1, 1, 1, 1, 1, 1, 1, 1, 1, 1, 1, 1, 1, 1, 1, 1, 1, 1, 1, 1, 1, 1, 1, 1, 1, 1, 1, 1, 1, 1, 1, 1, 1, 1, 1, 1, 1, 1, 1, 1, 1, 1, 1, 1, 1, 1, 1, 1, 1, 1, 1, 1, 1, 1, 1, 1, 1, 1, 1, 1, 1, 1, 1, 1, 1, 1, 1, 1, 1, 1, 1, 1, 1, 1, 1, 1, 1, 1, 1, 1, 1, 1, 1, 1, 1, 1, 1, 1, 1, 1, 1, 1, 1, 1, 1, 1, 1, 1, 1, 1, 1, 1, 1, 1, 1, 1, 1, 1, 1, 1, 1, 1, 1, 1, 1, 1, 1, 1, 1, 1, 1, 1, 1, 1, 1, 1, 1, 1, 1, 1, 1, 1, 1, 1, 1, 1, 1, 1, 1, 1, 1, 1, 1, 1, 1, 1, 1, 1, 1, 1, 1, 1, 1, 1, 1, 1, 1, 1, 1, 1, 1, 1, 1, 1, 1, 1, 1, 1, 1, 1, 1, 1, 1, 1, 1, 1, 1, 1, 1, 1, 1, 1, 1, 1, 1, 1, 1, 1, 1, 1, 1, 1, 1, 1, 1, 1, 1, 1, 1, 1, 1, 1, 1, 1, 1, 1, 1, 1, 1, 1, 1, 1, 1, 1, 1, 1, 1, 1, 1, 1, 1, 1, 1, 1, 1, 1, 1, 1, 1, 1, 1, 1, 1, 1, 1, 1, 1, 1, 1, 1, 1, 1, 1, 1, 1, 1, 1, 1, 1, 1, 1, 1, 1, 1, 1, 1, 1, 1, 1, 1, 1, 1, 1, 1, 1, 1, 1, 1, 1, 1, 1, 1, 1, 1, 1, 1, 1, 1, 1, 1, 1, 1, 1, 1, 1, 1, 1, 1, 1, 1, 1, 1, 1, 1, 1, 1, 1, 1, 1, 1, 1, 1, 1, 1, 1, 1, 1, 1, 1, 1, 1, 1, 1, 1, 1, 1, 1, 1, 1, 1, 1, 1, 1, 1, 1, 1, 1, 1, 1, 1, 1, 1, 1, 1, 1, 1, 1, 1, 1, 1, 1, 1, 1, 1, 1, 1, 1, 1, 1, 1, 1, 1, 1, 1, 1, 1, 1, 1, 1, 1, 1, 1, 1, 1, 1, 1, 1, 1, 1, 1, 1, 1, 1, 1, 1, 1, 1, 1, 1, 1, 1, 1, 1, 1, 1, 1, 1, 1, 1, 1, 1, 1, 1, 1, 1, 1, 1, 1, 1, 1, 1, 1, 1, 1, 1, 1, 1, 1, 1, 1, 1, 1, 1, 1, 1, 1, 1, 1, 1, 1, 1, 1, 1, 1, 1, 1, 1, 1, 1, 1, 1, 1, 1, 1, 1, 1, 1, 1, 1, 1, 1, 1, 1, 1, 1, 1, 1, 1, 1, 1, 1, 1, 1, 1, 1, 1, 1, 1, 1, 1, 1, 1, 1, 1, 1, 1, 1, 1, 1, 1, 1, 1, 1, 1, 1, 1, 1, 1, 1, 1, 1, 1, 1, 1, 1, 1, 1, 1, 1, 1, 1, 1, 1, 1, 1, 1, 1, 1, 1, 1, 1, 1, 1, 1, 1, 1, 1, 1, 1, 1, 1, 1, 1, 1, 1, 1, 1, 1, 1, 1, 1, 1, 1, 1, 1, 1, 1, 1, 1, 1, 1, 1, 1, 1, 1, 1, 1, 1, 1, 1, 1, 1, 1, 1, 1, 1, 1, 1, 1, 1, 1, 1, 1, 1, 1, 1, 1, 1, 1, 1, 1, 1, 1, 1, 1, 1], \"yaxis\": \"y\"}],\n",
              "                        {\"legend\": {\"itemsizing\": \"constant\", \"tracegroupgap\": 0}, \"margin\": {\"t\": 60}, \"template\": {\"data\": {\"bar\": [{\"error_x\": {\"color\": \"#2a3f5f\"}, \"error_y\": {\"color\": \"#2a3f5f\"}, \"marker\": {\"line\": {\"color\": \"#E5ECF6\", \"width\": 0.5}}, \"type\": \"bar\"}], \"barpolar\": [{\"marker\": {\"line\": {\"color\": \"#E5ECF6\", \"width\": 0.5}}, \"type\": \"barpolar\"}], \"carpet\": [{\"aaxis\": {\"endlinecolor\": \"#2a3f5f\", \"gridcolor\": \"white\", \"linecolor\": \"white\", \"minorgridcolor\": \"white\", \"startlinecolor\": \"#2a3f5f\"}, \"baxis\": {\"endlinecolor\": \"#2a3f5f\", \"gridcolor\": \"white\", \"linecolor\": \"white\", \"minorgridcolor\": \"white\", \"startlinecolor\": \"#2a3f5f\"}, \"type\": \"carpet\"}], \"choropleth\": [{\"colorbar\": {\"outlinewidth\": 0, \"ticks\": \"\"}, \"type\": \"choropleth\"}], \"contour\": [{\"colorbar\": {\"outlinewidth\": 0, \"ticks\": \"\"}, \"colorscale\": [[0.0, \"#0d0887\"], [0.1111111111111111, \"#46039f\"], [0.2222222222222222, \"#7201a8\"], [0.3333333333333333, \"#9c179e\"], [0.4444444444444444, \"#bd3786\"], [0.5555555555555556, \"#d8576b\"], [0.6666666666666666, \"#ed7953\"], [0.7777777777777778, \"#fb9f3a\"], [0.8888888888888888, \"#fdca26\"], [1.0, \"#f0f921\"]], \"type\": \"contour\"}], \"contourcarpet\": [{\"colorbar\": {\"outlinewidth\": 0, \"ticks\": \"\"}, \"type\": \"contourcarpet\"}], \"heatmap\": [{\"colorbar\": {\"outlinewidth\": 0, \"ticks\": \"\"}, \"colorscale\": [[0.0, \"#0d0887\"], [0.1111111111111111, \"#46039f\"], [0.2222222222222222, \"#7201a8\"], [0.3333333333333333, \"#9c179e\"], [0.4444444444444444, \"#bd3786\"], [0.5555555555555556, \"#d8576b\"], [0.6666666666666666, \"#ed7953\"], [0.7777777777777778, \"#fb9f3a\"], [0.8888888888888888, \"#fdca26\"], [1.0, \"#f0f921\"]], \"type\": \"heatmap\"}], \"heatmapgl\": [{\"colorbar\": {\"outlinewidth\": 0, \"ticks\": \"\"}, \"colorscale\": [[0.0, \"#0d0887\"], [0.1111111111111111, \"#46039f\"], [0.2222222222222222, \"#7201a8\"], [0.3333333333333333, \"#9c179e\"], [0.4444444444444444, \"#bd3786\"], [0.5555555555555556, \"#d8576b\"], [0.6666666666666666, \"#ed7953\"], [0.7777777777777778, \"#fb9f3a\"], [0.8888888888888888, \"#fdca26\"], [1.0, \"#f0f921\"]], \"type\": \"heatmapgl\"}], \"histogram\": [{\"marker\": {\"colorbar\": {\"outlinewidth\": 0, \"ticks\": \"\"}}, \"type\": \"histogram\"}], \"histogram2d\": [{\"colorbar\": {\"outlinewidth\": 0, \"ticks\": \"\"}, \"colorscale\": [[0.0, \"#0d0887\"], [0.1111111111111111, \"#46039f\"], [0.2222222222222222, \"#7201a8\"], [0.3333333333333333, \"#9c179e\"], [0.4444444444444444, \"#bd3786\"], [0.5555555555555556, \"#d8576b\"], [0.6666666666666666, \"#ed7953\"], [0.7777777777777778, \"#fb9f3a\"], [0.8888888888888888, \"#fdca26\"], [1.0, \"#f0f921\"]], \"type\": \"histogram2d\"}], \"histogram2dcontour\": [{\"colorbar\": {\"outlinewidth\": 0, \"ticks\": \"\"}, \"colorscale\": [[0.0, \"#0d0887\"], [0.1111111111111111, \"#46039f\"], [0.2222222222222222, \"#7201a8\"], [0.3333333333333333, \"#9c179e\"], [0.4444444444444444, \"#bd3786\"], [0.5555555555555556, \"#d8576b\"], [0.6666666666666666, \"#ed7953\"], [0.7777777777777778, \"#fb9f3a\"], [0.8888888888888888, \"#fdca26\"], [1.0, \"#f0f921\"]], \"type\": \"histogram2dcontour\"}], \"mesh3d\": [{\"colorbar\": {\"outlinewidth\": 0, \"ticks\": \"\"}, \"type\": \"mesh3d\"}], \"parcoords\": [{\"line\": {\"colorbar\": {\"outlinewidth\": 0, \"ticks\": \"\"}}, \"type\": \"parcoords\"}], \"pie\": [{\"automargin\": true, \"type\": \"pie\"}], \"scatter\": [{\"marker\": {\"colorbar\": {\"outlinewidth\": 0, \"ticks\": \"\"}}, \"type\": \"scatter\"}], \"scatter3d\": [{\"line\": {\"colorbar\": {\"outlinewidth\": 0, \"ticks\": \"\"}}, \"marker\": {\"colorbar\": {\"outlinewidth\": 0, \"ticks\": \"\"}}, \"type\": \"scatter3d\"}], \"scattercarpet\": [{\"marker\": {\"colorbar\": {\"outlinewidth\": 0, \"ticks\": \"\"}}, \"type\": \"scattercarpet\"}], \"scattergeo\": [{\"marker\": {\"colorbar\": {\"outlinewidth\": 0, \"ticks\": \"\"}}, \"type\": \"scattergeo\"}], \"scattergl\": [{\"marker\": {\"colorbar\": {\"outlinewidth\": 0, \"ticks\": \"\"}}, \"type\": \"scattergl\"}], \"scattermapbox\": [{\"marker\": {\"colorbar\": {\"outlinewidth\": 0, \"ticks\": \"\"}}, \"type\": \"scattermapbox\"}], \"scatterpolar\": [{\"marker\": {\"colorbar\": {\"outlinewidth\": 0, \"ticks\": \"\"}}, \"type\": \"scatterpolar\"}], \"scatterpolargl\": [{\"marker\": {\"colorbar\": {\"outlinewidth\": 0, \"ticks\": \"\"}}, \"type\": \"scatterpolargl\"}], \"scatterternary\": [{\"marker\": {\"colorbar\": {\"outlinewidth\": 0, \"ticks\": \"\"}}, \"type\": \"scatterternary\"}], \"surface\": [{\"colorbar\": {\"outlinewidth\": 0, \"ticks\": \"\"}, \"colorscale\": [[0.0, \"#0d0887\"], [0.1111111111111111, \"#46039f\"], [0.2222222222222222, \"#7201a8\"], [0.3333333333333333, \"#9c179e\"], [0.4444444444444444, \"#bd3786\"], [0.5555555555555556, \"#d8576b\"], [0.6666666666666666, \"#ed7953\"], [0.7777777777777778, \"#fb9f3a\"], [0.8888888888888888, \"#fdca26\"], [1.0, \"#f0f921\"]], \"type\": \"surface\"}], \"table\": [{\"cells\": {\"fill\": {\"color\": \"#EBF0F8\"}, \"line\": {\"color\": \"white\"}}, \"header\": {\"fill\": {\"color\": \"#C8D4E3\"}, \"line\": {\"color\": \"white\"}}, \"type\": \"table\"}]}, \"layout\": {\"annotationdefaults\": {\"arrowcolor\": \"#2a3f5f\", \"arrowhead\": 0, \"arrowwidth\": 1}, \"coloraxis\": {\"colorbar\": {\"outlinewidth\": 0, \"ticks\": \"\"}}, \"colorscale\": {\"diverging\": [[0, \"#8e0152\"], [0.1, \"#c51b7d\"], [0.2, \"#de77ae\"], [0.3, \"#f1b6da\"], [0.4, \"#fde0ef\"], [0.5, \"#f7f7f7\"], [0.6, \"#e6f5d0\"], [0.7, \"#b8e186\"], [0.8, \"#7fbc41\"], [0.9, \"#4d9221\"], [1, \"#276419\"]], \"sequential\": [[0.0, \"#0d0887\"], [0.1111111111111111, \"#46039f\"], [0.2222222222222222, \"#7201a8\"], [0.3333333333333333, \"#9c179e\"], [0.4444444444444444, \"#bd3786\"], [0.5555555555555556, \"#d8576b\"], [0.6666666666666666, \"#ed7953\"], [0.7777777777777778, \"#fb9f3a\"], [0.8888888888888888, \"#fdca26\"], [1.0, \"#f0f921\"]], \"sequentialminus\": [[0.0, \"#0d0887\"], [0.1111111111111111, \"#46039f\"], [0.2222222222222222, \"#7201a8\"], [0.3333333333333333, \"#9c179e\"], [0.4444444444444444, \"#bd3786\"], [0.5555555555555556, \"#d8576b\"], [0.6666666666666666, \"#ed7953\"], [0.7777777777777778, \"#fb9f3a\"], [0.8888888888888888, \"#fdca26\"], [1.0, \"#f0f921\"]]}, \"colorway\": [\"#636efa\", \"#EF553B\", \"#00cc96\", \"#ab63fa\", \"#FFA15A\", \"#19d3f3\", \"#FF6692\", \"#B6E880\", \"#FF97FF\", \"#FECB52\"], \"font\": {\"color\": \"#2a3f5f\"}, \"geo\": {\"bgcolor\": \"white\", \"lakecolor\": \"white\", \"landcolor\": \"#E5ECF6\", \"showlakes\": true, \"showland\": true, \"subunitcolor\": \"white\"}, \"hoverlabel\": {\"align\": \"left\"}, \"hovermode\": \"closest\", \"mapbox\": {\"style\": \"light\"}, \"paper_bgcolor\": \"white\", \"plot_bgcolor\": \"#E5ECF6\", \"polar\": {\"angularaxis\": {\"gridcolor\": \"white\", \"linecolor\": \"white\", \"ticks\": \"\"}, \"bgcolor\": \"#E5ECF6\", \"radialaxis\": {\"gridcolor\": \"white\", \"linecolor\": \"white\", \"ticks\": \"\"}}, \"scene\": {\"xaxis\": {\"backgroundcolor\": \"#E5ECF6\", \"gridcolor\": \"white\", \"gridwidth\": 2, \"linecolor\": \"white\", \"showbackground\": true, \"ticks\": \"\", \"zerolinecolor\": \"white\"}, \"yaxis\": {\"backgroundcolor\": \"#E5ECF6\", \"gridcolor\": \"white\", \"gridwidth\": 2, \"linecolor\": \"white\", \"showbackground\": true, \"ticks\": \"\", \"zerolinecolor\": \"white\"}, \"zaxis\": {\"backgroundcolor\": \"#E5ECF6\", \"gridcolor\": \"white\", \"gridwidth\": 2, \"linecolor\": \"white\", \"showbackground\": true, \"ticks\": \"\", \"zerolinecolor\": \"white\"}}, \"shapedefaults\": {\"line\": {\"color\": \"#2a3f5f\"}}, \"ternary\": {\"aaxis\": {\"gridcolor\": \"white\", \"linecolor\": \"white\", \"ticks\": \"\"}, \"baxis\": {\"gridcolor\": \"white\", \"linecolor\": \"white\", \"ticks\": \"\"}, \"bgcolor\": \"#E5ECF6\", \"caxis\": {\"gridcolor\": \"white\", \"linecolor\": \"white\", \"ticks\": \"\"}}, \"title\": {\"x\": 0.05}, \"xaxis\": {\"automargin\": true, \"gridcolor\": \"white\", \"linecolor\": \"white\", \"ticks\": \"\", \"title\": {\"standoff\": 15}, \"zerolinecolor\": \"white\", \"zerolinewidth\": 2}, \"yaxis\": {\"automargin\": true, \"gridcolor\": \"white\", \"linecolor\": \"white\", \"ticks\": \"\", \"title\": {\"standoff\": 15}, \"zerolinecolor\": \"white\", \"zerolinewidth\": 2}}}, \"xaxis\": {\"anchor\": \"y\", \"domain\": [0.0, 1.0], \"title\": {\"text\": \"x\"}}, \"yaxis\": {\"anchor\": \"x\", \"domain\": [0.0, 1.0], \"title\": {\"text\": \"y\"}}},\n",
              "                        {\"responsive\": true}\n",
              "                    ).then(function(){\n",
              "                            \n",
              "var gd = document.getElementById('3aaeb4ac-9cd2-42dd-bb65-63a58a5832ac');\n",
              "var x = new MutationObserver(function (mutations, observer) {{\n",
              "        var display = window.getComputedStyle(gd).display;\n",
              "        if (!display || display === 'none') {{\n",
              "            console.log([gd, 'removed!']);\n",
              "            Plotly.purge(gd);\n",
              "            observer.disconnect();\n",
              "        }}\n",
              "}});\n",
              "\n",
              "// Listen for the removal of the full notebook cells\n",
              "var notebookContainer = gd.closest('#notebook-container');\n",
              "if (notebookContainer) {{\n",
              "    x.observe(notebookContainer, {childList: true});\n",
              "}}\n",
              "\n",
              "// Listen for the clearing of the current output cell\n",
              "var outputEl = gd.closest('.output');\n",
              "if (outputEl) {{\n",
              "    x.observe(outputEl, {childList: true});\n",
              "}}\n",
              "\n",
              "                        })\n",
              "                };\n",
              "                \n",
              "            </script>\n",
              "        </div>\n",
              "</body>\n",
              "</html>"
            ]
          },
          "metadata": {
            "tags": []
          }
        }
      ]
    },
    {
      "cell_type": "markdown",
      "metadata": {
        "id": "XMF2PtCZHJXL"
      },
      "source": [
        "check how many missing values are there 'Location' and 'Keyword' columns"
      ]
    },
    {
      "cell_type": "code",
      "metadata": {
        "id": "MwdsBhpgHMjb",
        "outputId": "adcb7e21-bf29-4959-d84f-4c876e335376",
        "colab": {
          "base_uri": "https://localhost:8080/"
        }
      },
      "source": [
        "# creating bool series True for NaN values for location \n",
        "bool_series_location = pd.isnull(ds_train['location']) \n",
        "\n",
        "# filtering data  \n",
        "# displaying data only with location = NaN  \n",
        "print(ds_train[bool_series_location])\n",
        "print(\"Number of records with missing location\",len(ds_train[bool_series_location]))"
      ],
      "execution_count": 8,
      "outputs": [
        {
          "output_type": "stream",
          "text": [
            "         id keyword  ...                                               text target\n",
            "0         1     NaN  ...  Our Deeds are the Reason of this #earthquake M...      1\n",
            "1         4     NaN  ...             Forest fire near La Ronge Sask. Canada      1\n",
            "2         5     NaN  ...  All residents asked to 'shelter in place' are ...      1\n",
            "3         6     NaN  ...  13,000 people receive #wildfires evacuation or...      1\n",
            "4         7     NaN  ...  Just got sent this photo from Ruby #Alaska as ...      1\n",
            "...     ...     ...  ...                                                ...    ...\n",
            "7608  10869     NaN  ...  Two giant cranes holding a bridge collapse int...      1\n",
            "7609  10870     NaN  ...  @aria_ahrary @TheTawniest The out of control w...      1\n",
            "7610  10871     NaN  ...  M1.94 [01:04 UTC]?5km S of Volcano Hawaii. htt...      1\n",
            "7611  10872     NaN  ...  Police investigating after an e-bike collided ...      1\n",
            "7612  10873     NaN  ...  The Latest: More Homes Razed by Northern Calif...      1\n",
            "\n",
            "[2533 rows x 5 columns]\n",
            "Number of records with missing location 2533\n"
          ],
          "name": "stdout"
        }
      ]
    },
    {
      "cell_type": "markdown",
      "metadata": {
        "id": "C36S8tJnJJKu"
      },
      "source": [
        "Creating bool series True for NaN values for key word"
      ]
    },
    {
      "cell_type": "code",
      "metadata": {
        "id": "-6PvkW7iJMvi",
        "outputId": "3956c76e-b719-47ca-8e95-e1b5e32b238f",
        "colab": {
          "base_uri": "https://localhost:8080/"
        }
      },
      "source": [
        "bool_series_keyword = pd.isnull(ds_train['keyword']) \n",
        "# filtering data  \n",
        "# displaying data only with Keywords = NaN  \n",
        "ds_train[bool_series_keyword]\n",
        "print(\"Number of records with missing keywords\",len(ds_train[bool_series_keyword]))"
      ],
      "execution_count": 9,
      "outputs": [
        {
          "output_type": "stream",
          "text": [
            "Number of records with missing keywords 61\n"
          ],
          "name": "stdout"
        }
      ]
    },
    {
      "cell_type": "markdown",
      "metadata": {
        "id": "BHdoCRGhLnkl"
      },
      "source": [
        "Calculate percentage of missing keywords"
      ]
    },
    {
      "cell_type": "code",
      "metadata": {
        "id": "qTuZxEjHLob6",
        "outputId": "ece19bb2-4e8c-4295-acc1-e421377dfb94",
        "colab": {
          "base_uri": "https://localhost:8080/"
        }
      },
      "source": [
        "print('{}% of Kewords are missing from Total Number of Records'.format((len(ds_train[bool_series_keyword])/len(ds_train.index))*100))"
      ],
      "execution_count": 10,
      "outputs": [
        {
          "output_type": "stream",
          "text": [
            "0.8012610009194797% of Kewords are missing from Total Number of Records\n"
          ],
          "name": "stdout"
        }
      ]
    },
    {
      "cell_type": "markdown",
      "metadata": {
        "id": "OTf4GnDCMS19"
      },
      "source": [
        "From Data description and above analysis we can conclude :\n",
        "\n",
        "Locations are not automatically generated, they are user inputs and that's why data is not clean and there are too many incoorect and missing values.We can skip the 'location' column from our feature list\n",
        "\n",
        "We can consider the 'keyword' column as a feature because there are a lot of unique keywords and missing values are very insignificant (< 1 percentage)"
      ]
    },
    {
      "cell_type": "code",
      "metadata": {
        "id": "VHASJtyCMUPz",
        "outputId": "0e17d2a9-9236-4a1a-b3da-1eacd47cccd3",
        "colab": {
          "base_uri": "https://localhost:8080/",
          "height": 204
        }
      },
      "source": [
        "#dropping unwanted column 'location'\n",
        "ds_train=ds_train.drop(['location'],axis=1)\n",
        "ds_train.head()"
      ],
      "execution_count": 11,
      "outputs": [
        {
          "output_type": "execute_result",
          "data": {
            "text/html": [
              "<div>\n",
              "<style scoped>\n",
              "    .dataframe tbody tr th:only-of-type {\n",
              "        vertical-align: middle;\n",
              "    }\n",
              "\n",
              "    .dataframe tbody tr th {\n",
              "        vertical-align: top;\n",
              "    }\n",
              "\n",
              "    .dataframe thead th {\n",
              "        text-align: right;\n",
              "    }\n",
              "</style>\n",
              "<table border=\"1\" class=\"dataframe\">\n",
              "  <thead>\n",
              "    <tr style=\"text-align: right;\">\n",
              "      <th></th>\n",
              "      <th>id</th>\n",
              "      <th>keyword</th>\n",
              "      <th>text</th>\n",
              "      <th>target</th>\n",
              "    </tr>\n",
              "  </thead>\n",
              "  <tbody>\n",
              "    <tr>\n",
              "      <th>0</th>\n",
              "      <td>1</td>\n",
              "      <td>NaN</td>\n",
              "      <td>Our Deeds are the Reason of this #earthquake M...</td>\n",
              "      <td>1</td>\n",
              "    </tr>\n",
              "    <tr>\n",
              "      <th>1</th>\n",
              "      <td>4</td>\n",
              "      <td>NaN</td>\n",
              "      <td>Forest fire near La Ronge Sask. Canada</td>\n",
              "      <td>1</td>\n",
              "    </tr>\n",
              "    <tr>\n",
              "      <th>2</th>\n",
              "      <td>5</td>\n",
              "      <td>NaN</td>\n",
              "      <td>All residents asked to 'shelter in place' are ...</td>\n",
              "      <td>1</td>\n",
              "    </tr>\n",
              "    <tr>\n",
              "      <th>3</th>\n",
              "      <td>6</td>\n",
              "      <td>NaN</td>\n",
              "      <td>13,000 people receive #wildfires evacuation or...</td>\n",
              "      <td>1</td>\n",
              "    </tr>\n",
              "    <tr>\n",
              "      <th>4</th>\n",
              "      <td>7</td>\n",
              "      <td>NaN</td>\n",
              "      <td>Just got sent this photo from Ruby #Alaska as ...</td>\n",
              "      <td>1</td>\n",
              "    </tr>\n",
              "  </tbody>\n",
              "</table>\n",
              "</div>"
            ],
            "text/plain": [
              "   id keyword                                               text  target\n",
              "0   1     NaN  Our Deeds are the Reason of this #earthquake M...       1\n",
              "1   4     NaN             Forest fire near La Ronge Sask. Canada       1\n",
              "2   5     NaN  All residents asked to 'shelter in place' are ...       1\n",
              "3   6     NaN  13,000 people receive #wildfires evacuation or...       1\n",
              "4   7     NaN  Just got sent this photo from Ruby #Alaska as ...       1"
            ]
          },
          "metadata": {
            "tags": []
          },
          "execution_count": 11
        }
      ]
    },
    {
      "cell_type": "code",
      "metadata": {
        "id": "QxvvRlCgMkkU",
        "outputId": "b08b724d-6d7e-4f3c-a85f-f34ee17f6383",
        "colab": {
          "base_uri": "https://localhost:8080/",
          "height": 221
        }
      },
      "source": [
        "#dropping missing 'keyword' records from train data set\n",
        "ds_train=ds_train.drop(ds_train[bool_series_keyword].index,axis=0)\n",
        "#Resetting the index after droping the missing records\n",
        "ds_train=ds_train.reset_index(drop=True)\n",
        "print(\"Number of records after removing missing keywords\",len(ds_train))\n",
        "ds_train.head()"
      ],
      "execution_count": 12,
      "outputs": [
        {
          "output_type": "stream",
          "text": [
            "Number of records after removing missing keywords 7552\n"
          ],
          "name": "stdout"
        },
        {
          "output_type": "execute_result",
          "data": {
            "text/html": [
              "<div>\n",
              "<style scoped>\n",
              "    .dataframe tbody tr th:only-of-type {\n",
              "        vertical-align: middle;\n",
              "    }\n",
              "\n",
              "    .dataframe tbody tr th {\n",
              "        vertical-align: top;\n",
              "    }\n",
              "\n",
              "    .dataframe thead th {\n",
              "        text-align: right;\n",
              "    }\n",
              "</style>\n",
              "<table border=\"1\" class=\"dataframe\">\n",
              "  <thead>\n",
              "    <tr style=\"text-align: right;\">\n",
              "      <th></th>\n",
              "      <th>id</th>\n",
              "      <th>keyword</th>\n",
              "      <th>text</th>\n",
              "      <th>target</th>\n",
              "    </tr>\n",
              "  </thead>\n",
              "  <tbody>\n",
              "    <tr>\n",
              "      <th>0</th>\n",
              "      <td>48</td>\n",
              "      <td>ablaze</td>\n",
              "      <td>@bbcmtd Wholesale Markets ablaze http://t.co/l...</td>\n",
              "      <td>1</td>\n",
              "    </tr>\n",
              "    <tr>\n",
              "      <th>1</th>\n",
              "      <td>49</td>\n",
              "      <td>ablaze</td>\n",
              "      <td>We always try to bring the heavy. #metal #RT h...</td>\n",
              "      <td>0</td>\n",
              "    </tr>\n",
              "    <tr>\n",
              "      <th>2</th>\n",
              "      <td>50</td>\n",
              "      <td>ablaze</td>\n",
              "      <td>#AFRICANBAZE: Breaking news:Nigeria flag set a...</td>\n",
              "      <td>1</td>\n",
              "    </tr>\n",
              "    <tr>\n",
              "      <th>3</th>\n",
              "      <td>52</td>\n",
              "      <td>ablaze</td>\n",
              "      <td>Crying out for more! Set me ablaze</td>\n",
              "      <td>0</td>\n",
              "    </tr>\n",
              "    <tr>\n",
              "      <th>4</th>\n",
              "      <td>53</td>\n",
              "      <td>ablaze</td>\n",
              "      <td>On plus side LOOK AT THE SKY LAST NIGHT IT WAS...</td>\n",
              "      <td>0</td>\n",
              "    </tr>\n",
              "  </tbody>\n",
              "</table>\n",
              "</div>"
            ],
            "text/plain": [
              "   id keyword                                               text  target\n",
              "0  48  ablaze  @bbcmtd Wholesale Markets ablaze http://t.co/l...       1\n",
              "1  49  ablaze  We always try to bring the heavy. #metal #RT h...       0\n",
              "2  50  ablaze  #AFRICANBAZE: Breaking news:Nigeria flag set a...       1\n",
              "3  52  ablaze                 Crying out for more! Set me ablaze       0\n",
              "4  53  ablaze  On plus side LOOK AT THE SKY LAST NIGHT IT WAS...       0"
            ]
          },
          "metadata": {
            "tags": []
          },
          "execution_count": 12
        }
      ]
    }
  ]
}